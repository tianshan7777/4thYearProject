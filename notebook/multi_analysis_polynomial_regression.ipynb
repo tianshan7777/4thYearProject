{
 "cells": [
  {
   "cell_type": "code",
   "execution_count": 51,
   "metadata": {},
   "outputs": [],
   "source": [
    "import statsmodels.api as sm\n",
    "from statsmodels.formula.api import ols\n",
    "import pandas as pd\n",
    "from sklearn.model_selection import KFold\n",
    "#OLS\n",
    "from sklearn.linear_model import LinearRegression\n",
    "import numpy as np\n",
    "from IPython.display import HTML, display\n",
    "import matplotlib.pyplot as plt\n",
    "%matplotlib inline\n"
   ]
  },
  {
   "cell_type": "code",
   "execution_count": 52,
   "metadata": {},
   "outputs": [
    {
     "name": "stderr",
     "output_type": "stream",
     "text": [
      "/usr/local/lib/python3.7/site-packages/IPython/core/interactiveshell.py:3020: DtypeWarning: Columns (39,50,111) have mixed types. Specify dtype option on import or set low_memory=False.\n",
      "  interactivity=interactivity, compiler=compiler, result=result)\n"
     ]
    }
   ],
   "source": [
    "#Load data\n",
    "data = pd.read_csv('rent_clean.csv')\n",
    "test = data[['price_per_sqm', 'apartment', 'number_of_whole_rooms', 'floor', 'number_of_half_rooms', 'furnish_furnished', 'furnish_partly_furnished', 'view_garden', 'view_panoramic', 'view_street', 'balcony', 'lift', 'air_conditioner', 'utility_double_comfort', 'heating_gas', 'heating_wall_heating', 'heating_combination', 'heating_ceiling', 'heating_central_heating', 'heating_electric', 'heating_floor', 'heating_circulating', 'heating_district', 'available_immediately', 'condition_of_property_renovated', 'parking']]\n",
    "test = test.dropna()\n"
   ]
  },
  {
   "cell_type": "code",
   "execution_count": 53,
   "metadata": {},
   "outputs": [],
   "source": [
    "X = test[['number_of_whole_rooms','number_of_half_rooms','furnish_furnished','view_panoramic','lift','air_conditioner', 'heating_district']]\n",
    "y = test[['price_per_sqm']]\n"
   ]
  },
  {
   "cell_type": "code",
   "execution_count": 54,
   "metadata": {},
   "outputs": [
    {
     "data": {
      "text/plain": [
       "array([[ 1.22083327e+01, -2.43011818e+00, -4.39619756e-03,\n",
       "         3.97213905e-01,  6.92404698e-02,  9.20331293e-02,\n",
       "         8.07991261e-02,  2.29804649e-01,  4.13485935e-01,\n",
       "        -1.35156850e-01,  1.09394759e-01,  4.07009955e-02,\n",
       "         4.42668330e-01,  3.59765325e-01, -1.13065003e+00,\n",
       "         6.58133184e-02, -4.02340452e-01, -8.35120691e-01,\n",
       "        -3.69485618e-01,  1.18081680e-01, -3.94044498e-01,\n",
       "         3.97213905e-01, -6.98451412e-01,  5.39049690e-01,\n",
       "         4.28246026e-01, -1.10405931e+00,  6.92404698e-02,\n",
       "         3.69415330e-01,  1.95750012e+00,  4.05016684e-01,\n",
       "         9.20331293e-02,  3.89725074e-01,  2.28938621e-01,\n",
       "         8.07991261e-02, -5.08796763e-01,  2.29804649e-01]])"
      ]
     },
     "execution_count": 54,
     "metadata": {},
     "output_type": "execute_result"
    }
   ],
   "source": [
    "model = Pipeline([('poly', PolynomialFeatures(degree=2)), ('linear', LinearRegression(fit_intercept=False))])\n",
    "model = model.fit(X,y)\n",
    "model.named_steps['linear'].coef_\n",
    "    "
   ]
  },
  {
   "cell_type": "code",
   "execution_count": 56,
   "metadata": {},
   "outputs": [
    {
     "name": "stdout",
     "output_type": "stream",
     "text": [
      "R Square: 0.1823681885252101 \n",
      "\n",
      "Adjusted R Square: 0.17780041304211058 \n",
      "\n"
     ]
    }
   ],
   "source": [
    "#10 fold\n",
    "scores = []\n",
    "cv = KFold(n_splits = 10, random_state = 42, shuffle = False)\n",
    "for train_index, test_index in cv.split(X):\n",
    "    #print('Train Index:', train_index, '\\n')\n",
    "    #print('Test Index:', test_index)\n",
    "\n",
    "    X_train, X_test, y_train, y_test = X.iloc[train_index.tolist()], X.iloc[test_index], y.iloc[train_index], y.iloc[test_index]\n",
    "    my_model = Pipeline([('poly', PolynomialFeatures(degree=2)), ('linear', LinearRegression(fit_intercept=False))])\n",
    "    my_model = model.fit(X_train,y_train)\n",
    "    scores.append(my_model.score(X_test, y_test))\n",
    "\n",
    "r_square = np.mean(scores)\n",
    "adj_r = 1-(1-r_square)*(len(y)-1)/(len(y)-X.shape[1]-1)\n",
    "\n",
    "print('R Square:', r_square, '\\n')\n",
    "print('Adjusted R Square:', adj_r, '\\n')\n"
   ]
  },
  {
   "cell_type": "code",
   "execution_count": 63,
   "metadata": {},
   "outputs": [
    {
     "data": {
      "text/html": [
       "<table class=\"simpletable\">\n",
       "<caption>OLS Regression Results</caption>\n",
       "<tr>\n",
       "  <th>Dep. Variable:</th>      <td>price_per_sqm</td>  <th>  R-squared:         </th> <td>   0.218</td> \n",
       "</tr>\n",
       "<tr>\n",
       "  <th>Model:</th>                   <td>OLS</td>       <th style=\"background-color:#aec7e8;\"> Adj. R-squared: </th> <td>   0.216</td> \n",
       "</tr>\n",
       "<tr>\n",
       "  <th>Method:</th>             <td>Least Squares</td>  <th>  F-statistic:       </th> <td>   124.0</td> \n",
       "</tr>\n",
       "<tr>\n",
       "  <th>Date:</th>             <td>Wed, 20 Mar 2019</td> <th>  Prob (F-statistic):</th> <td>2.39e-206</td>\n",
       "</tr>\n",
       "<tr>\n",
       "  <th>Time:</th>                 <td>11:13:39</td>     <th>  Log-Likelihood:    </th> <td> -11229.</td> \n",
       "</tr>\n",
       "<tr>\n",
       "  <th>No. Observations:</th>      <td>  4021</td>      <th>  AIC:               </th> <td>2.248e+04</td>\n",
       "</tr>\n",
       "<tr>\n",
       "  <th>Df Residuals:</th>          <td>  4011</td>      <th>  BIC:               </th> <td>2.254e+04</td>\n",
       "</tr>\n",
       "<tr>\n",
       "  <th>Df Model:</th>              <td>     9</td>      <th>                     </th>     <td> </td>    \n",
       "</tr>\n",
       "<tr>\n",
       "  <th>Covariance Type:</th>      <td>nonrobust</td>    <th>                     </th>     <td> </td>    \n",
       "</tr>\n",
       "</table>\n",
       "<table class=\"simpletable\">\n",
       "<tr>\n",
       "                <td></td>                   <th style=\"background-color:#ffbb78;\">coef</th>     <th style=\"background-color:#c7e9c0;\">std err</th>      <th>t</th>      <th style=\"background-color:#bcbddc;\">P>|t|</th>  <th style=\"background-color:#ff9896;\">[0.025</th>    <th style=\"background-color:#ff9896;\">0.975]</th>  \n",
       "</tr>\n",
       "<tr>\n",
       "  <th>Intercept</th>                     <td>   10.9582</td> <td>    0.333</td> <td>   32.913</td> <td> 0.000</td> <td>   10.305</td> <td>   11.611</td>\n",
       "</tr>\n",
       "<tr>\n",
       "  <th>number_of_whole_rooms</th>         <td>   -1.9452</td> <td>    0.268</td> <td>   -7.270</td> <td> 0.000</td> <td>   -2.470</td> <td>   -1.421</td>\n",
       "</tr>\n",
       "<tr>\n",
       "  <th>I(number_of_whole_rooms ** 2)</th> <td>    0.4175</td> <td>    0.052</td> <td>    8.081</td> <td> 0.000</td> <td>    0.316</td> <td>    0.519</td>\n",
       "</tr>\n",
       "<tr>\n",
       "  <th>number_of_half_rooms</th>          <td>   -0.7333</td> <td>    0.322</td> <td>   -2.279</td> <td> 0.023</td> <td>   -1.364</td> <td>   -0.102</td>\n",
       "</tr>\n",
       "<tr>\n",
       "  <th>I(number_of_half_rooms ** 2)</th>  <td>   -0.0625</td> <td>    0.205</td> <td>   -0.305</td> <td> 0.760</td> <td>   -0.464</td> <td>    0.339</td>\n",
       "</tr>\n",
       "<tr>\n",
       "  <th>furnish_furnished</th>             <td>    0.6978</td> <td>    0.067</td> <td>   10.379</td> <td> 0.000</td> <td>    0.566</td> <td>    0.830</td>\n",
       "</tr>\n",
       "<tr>\n",
       "  <th>I(furnish_furnished ** 2)</th>     <td>    0.6978</td> <td>    0.067</td> <td>   10.379</td> <td> 0.000</td> <td>    0.566</td> <td>    0.830</td>\n",
       "</tr>\n",
       "<tr>\n",
       "  <th>view_panoramic</th>                <td>    0.5036</td> <td>    0.078</td> <td>    6.423</td> <td> 0.000</td> <td>    0.350</td> <td>    0.657</td>\n",
       "</tr>\n",
       "<tr>\n",
       "  <th>I(view_panoramic ** 2)</th>        <td>    0.5036</td> <td>    0.078</td> <td>    6.423</td> <td> 0.000</td> <td>    0.350</td> <td>    0.657</td>\n",
       "</tr>\n",
       "<tr>\n",
       "  <th>lift</th>                          <td>    0.7692</td> <td>    0.070</td> <td>   11.049</td> <td> 0.000</td> <td>    0.633</td> <td>    0.906</td>\n",
       "</tr>\n",
       "<tr>\n",
       "  <th>I(lift ** 2)</th>                  <td>    0.7692</td> <td>    0.070</td> <td>   11.049</td> <td> 0.000</td> <td>    0.633</td> <td>    0.906</td>\n",
       "</tr>\n",
       "<tr>\n",
       "  <th>air_conditioner</th>               <td>    1.2320</td> <td>    0.069</td> <td>   17.799</td> <td> 0.000</td> <td>    1.096</td> <td>    1.368</td>\n",
       "</tr>\n",
       "<tr>\n",
       "  <th>I(air_conditioner ** 2)</th>       <td>    1.2320</td> <td>    0.069</td> <td>   17.799</td> <td> 0.000</td> <td>    1.096</td> <td>    1.368</td>\n",
       "</tr>\n",
       "<tr>\n",
       "  <th>heating_district</th>              <td>   -1.0754</td> <td>    0.127</td> <td>   -8.476</td> <td> 0.000</td> <td>   -1.324</td> <td>   -0.827</td>\n",
       "</tr>\n",
       "<tr>\n",
       "  <th>I(heating_district ** 2)</th>      <td>   -1.0754</td> <td>    0.127</td> <td>   -8.476</td> <td> 0.000</td> <td>   -1.324</td> <td>   -0.827</td>\n",
       "</tr>\n",
       "</table>\n",
       "<table class=\"simpletable\">\n",
       "<tr>\n",
       "  <th>Omnibus:</th>       <td>1307.095</td> <th>  Durbin-Watson:     </th> <td>   1.887</td>\n",
       "</tr>\n",
       "<tr>\n",
       "  <th>Prob(Omnibus):</th>  <td> 0.000</td>  <th>  Jarque-Bera (JB):  </th> <td>6178.765</td>\n",
       "</tr>\n",
       "<tr>\n",
       "  <th>Skew:</th>           <td> 1.498</td>  <th>  Prob(JB):          </th> <td>    0.00</td>\n",
       "</tr>\n",
       "<tr>\n",
       "  <th>Kurtosis:</th>       <td> 8.282</td>  <th>  Cond. No.          </th> <td>1.59e+17</td>\n",
       "</tr>\n",
       "</table><br/><br/>Warnings:<br/>[1] Standard Errors assume that the covariance matrix of the errors is correctly specified.<br/>[2] The smallest eigenvalue is 1.02e-29. This might indicate that there are<br/>strong multicollinearity problems or that the design matrix is singular."
      ],
      "text/plain": [
       "<IPython.core.display.HTML object>"
      ]
     },
     "execution_count": 63,
     "metadata": {},
     "output_type": "execute_result"
    }
   ],
   "source": [
    "housing_model = ols(\"price_per_sqm ~ number_of_whole_rooms + I(number_of_whole_rooms**2) + number_of_half_rooms + I(number_of_half_rooms**2)+ furnish_furnished + I(furnish_furnished**2)+ view_panoramic + I(view_panoramic**2) + lift + I(lift**2) + air_conditioner + I(air_conditioner**2) + heating_district + I(heating_district**2)\", data=data).fit()\n",
    "\n",
    "# summarize our model\n",
    "housing_model_summary = housing_model.summary()\n",
    "\n",
    "# convert our table to HTML and add colors to headers for explanatory purposes\n",
    "HTML(\n",
    "(housing_model_summary\n",
    "    .as_html()\n",
    "    .replace('<th>  Adj. R-squared:    </th>', '<th style=\"background-color:#aec7e8;\"> Adj. R-squared: </th>')\n",
    "    .replace('<th>coef</th>', '<th style=\"background-color:#ffbb78;\">coef</th>')\n",
    "    .replace('<th>std err</th>', '<th style=\"background-color:#c7e9c0;\">std err</th>')\n",
    "    .replace('<th>P>|t|</th>', '<th style=\"background-color:#bcbddc;\">P>|t|</th>')\n",
    "    .replace('<th>[0.025</th>    <th>0.975]</th>', '<th style=\"background-color:#ff9896;\">[0.025</th>    <th style=\"background-color:#ff9896;\">0.975]</th>'))\n",
    ")"
   ]
  },
  {
   "cell_type": "code",
   "execution_count": null,
   "metadata": {},
   "outputs": [],
   "source": []
  }
 ],
 "metadata": {
  "kernelspec": {
   "display_name": "Python 3",
   "language": "python",
   "name": "python3"
  },
  "language_info": {
   "codemirror_mode": {
    "name": "ipython",
    "version": 3
   },
   "file_extension": ".py",
   "mimetype": "text/x-python",
   "name": "python",
   "nbconvert_exporter": "python",
   "pygments_lexer": "ipython3",
   "version": "3.7.0"
  }
 },
 "nbformat": 4,
 "nbformat_minor": 2
}
