{
 "cells": [
  {
   "cell_type": "code",
   "execution_count": 3,
   "metadata": {},
   "outputs": [],
   "source": [
    "#Feature selection using recursive feature elimination\n",
    "from pandas import read_csv\n",
    "from sklearn.feature_selection import RFE\n",
    "from sklearn.linear_model import LinearRegression\n"
   ]
  },
  {
   "cell_type": "code",
   "execution_count": 4,
   "metadata": {},
   "outputs": [
    {
     "name": "stderr",
     "output_type": "stream",
     "text": [
      "/usr/local/lib/python3.7/site-packages/IPython/core/interactiveshell.py:3020: DtypeWarning: Columns (39,50,108) have mixed types. Specify dtype option on import or set low_memory=False.\n",
      "  interactivity=interactivity, compiler=compiler, result=result)\n"
     ]
    },
    {
     "data": {
      "text/html": [
       "<div>\n",
       "<style scoped>\n",
       "    .dataframe tbody tr th:only-of-type {\n",
       "        vertical-align: middle;\n",
       "    }\n",
       "\n",
       "    .dataframe tbody tr th {\n",
       "        vertical-align: top;\n",
       "    }\n",
       "\n",
       "    .dataframe thead th {\n",
       "        text-align: right;\n",
       "    }\n",
       "</style>\n",
       "<table border=\"1\" class=\"dataframe\">\n",
       "  <thead>\n",
       "    <tr style=\"text-align: right;\">\n",
       "      <th></th>\n",
       "      <th>id</th>\n",
       "      <th>web_alberlet</th>\n",
       "      <th>web_ingatlan</th>\n",
       "      <th>web_tower</th>\n",
       "      <th>apartment</th>\n",
       "      <th>house</th>\n",
       "      <th>sale</th>\n",
       "      <th>rent</th>\n",
       "      <th>price_per_month</th>\n",
       "      <th>size(sqm)</th>\n",
       "      <th>...</th>\n",
       "      <th>orientation_northeast</th>\n",
       "      <th>orientation_northwest</th>\n",
       "      <th>orientation_southwest</th>\n",
       "      <th>orientation_southeast</th>\n",
       "      <th>garden_access</th>\n",
       "      <th>garden_AC</th>\n",
       "      <th>attic</th>\n",
       "      <th>attic_loft_conversion</th>\n",
       "      <th>attic_penthouse</th>\n",
       "      <th>attic_topfloor</th>\n",
       "    </tr>\n",
       "  </thead>\n",
       "  <tbody>\n",
       "    <tr>\n",
       "      <th>0</th>\n",
       "      <td>0</td>\n",
       "      <td>1.0</td>\n",
       "      <td>0.0</td>\n",
       "      <td>0.0</td>\n",
       "      <td>1</td>\n",
       "      <td>0</td>\n",
       "      <td>0</td>\n",
       "      <td>1</td>\n",
       "      <td>386</td>\n",
       "      <td>35</td>\n",
       "      <td>...</td>\n",
       "      <td>NaN</td>\n",
       "      <td>NaN</td>\n",
       "      <td>NaN</td>\n",
       "      <td>NaN</td>\n",
       "      <td>NaN</td>\n",
       "      <td>NaN</td>\n",
       "      <td>NaN</td>\n",
       "      <td>NaN</td>\n",
       "      <td>NaN</td>\n",
       "      <td>NaN</td>\n",
       "    </tr>\n",
       "    <tr>\n",
       "      <th>1</th>\n",
       "      <td>1</td>\n",
       "      <td>1.0</td>\n",
       "      <td>0.0</td>\n",
       "      <td>0.0</td>\n",
       "      <td>1</td>\n",
       "      <td>0</td>\n",
       "      <td>0</td>\n",
       "      <td>1</td>\n",
       "      <td>773</td>\n",
       "      <td>56</td>\n",
       "      <td>...</td>\n",
       "      <td>NaN</td>\n",
       "      <td>NaN</td>\n",
       "      <td>NaN</td>\n",
       "      <td>NaN</td>\n",
       "      <td>NaN</td>\n",
       "      <td>NaN</td>\n",
       "      <td>NaN</td>\n",
       "      <td>NaN</td>\n",
       "      <td>NaN</td>\n",
       "      <td>NaN</td>\n",
       "    </tr>\n",
       "    <tr>\n",
       "      <th>2</th>\n",
       "      <td>2</td>\n",
       "      <td>1.0</td>\n",
       "      <td>0.0</td>\n",
       "      <td>0.0</td>\n",
       "      <td>1</td>\n",
       "      <td>0</td>\n",
       "      <td>0</td>\n",
       "      <td>1</td>\n",
       "      <td>464</td>\n",
       "      <td>53</td>\n",
       "      <td>...</td>\n",
       "      <td>NaN</td>\n",
       "      <td>NaN</td>\n",
       "      <td>NaN</td>\n",
       "      <td>NaN</td>\n",
       "      <td>NaN</td>\n",
       "      <td>NaN</td>\n",
       "      <td>NaN</td>\n",
       "      <td>NaN</td>\n",
       "      <td>NaN</td>\n",
       "      <td>NaN</td>\n",
       "    </tr>\n",
       "    <tr>\n",
       "      <th>3</th>\n",
       "      <td>3</td>\n",
       "      <td>1.0</td>\n",
       "      <td>0.0</td>\n",
       "      <td>0.0</td>\n",
       "      <td>1</td>\n",
       "      <td>0</td>\n",
       "      <td>0</td>\n",
       "      <td>1</td>\n",
       "      <td>835</td>\n",
       "      <td>75</td>\n",
       "      <td>...</td>\n",
       "      <td>NaN</td>\n",
       "      <td>NaN</td>\n",
       "      <td>NaN</td>\n",
       "      <td>NaN</td>\n",
       "      <td>NaN</td>\n",
       "      <td>NaN</td>\n",
       "      <td>NaN</td>\n",
       "      <td>NaN</td>\n",
       "      <td>NaN</td>\n",
       "      <td>NaN</td>\n",
       "    </tr>\n",
       "    <tr>\n",
       "      <th>4</th>\n",
       "      <td>4</td>\n",
       "      <td>1.0</td>\n",
       "      <td>0.0</td>\n",
       "      <td>0.0</td>\n",
       "      <td>1</td>\n",
       "      <td>0</td>\n",
       "      <td>0</td>\n",
       "      <td>1</td>\n",
       "      <td>773</td>\n",
       "      <td>69</td>\n",
       "      <td>...</td>\n",
       "      <td>NaN</td>\n",
       "      <td>NaN</td>\n",
       "      <td>NaN</td>\n",
       "      <td>NaN</td>\n",
       "      <td>NaN</td>\n",
       "      <td>NaN</td>\n",
       "      <td>NaN</td>\n",
       "      <td>NaN</td>\n",
       "      <td>NaN</td>\n",
       "      <td>NaN</td>\n",
       "    </tr>\n",
       "  </tbody>\n",
       "</table>\n",
       "<p>5 rows × 229 columns</p>\n",
       "</div>"
      ],
      "text/plain": [
       "   id  web_alberlet  web_ingatlan  web_tower  apartment  house  sale  rent  \\\n",
       "0   0           1.0           0.0        0.0          1      0     0     1   \n",
       "1   1           1.0           0.0        0.0          1      0     0     1   \n",
       "2   2           1.0           0.0        0.0          1      0     0     1   \n",
       "3   3           1.0           0.0        0.0          1      0     0     1   \n",
       "4   4           1.0           0.0        0.0          1      0     0     1   \n",
       "\n",
       "   price_per_month  size(sqm)       ...        orientation_northeast  \\\n",
       "0              386         35       ...                          NaN   \n",
       "1              773         56       ...                          NaN   \n",
       "2              464         53       ...                          NaN   \n",
       "3              835         75       ...                          NaN   \n",
       "4              773         69       ...                          NaN   \n",
       "\n",
       "   orientation_northwest  orientation_southwest  orientation_southeast  \\\n",
       "0                    NaN                    NaN                    NaN   \n",
       "1                    NaN                    NaN                    NaN   \n",
       "2                    NaN                    NaN                    NaN   \n",
       "3                    NaN                    NaN                    NaN   \n",
       "4                    NaN                    NaN                    NaN   \n",
       "\n",
       "   garden_access  garden_AC  attic  attic_loft_conversion  attic_penthouse  \\\n",
       "0            NaN        NaN    NaN                    NaN              NaN   \n",
       "1            NaN        NaN    NaN                    NaN              NaN   \n",
       "2            NaN        NaN    NaN                    NaN              NaN   \n",
       "3            NaN        NaN    NaN                    NaN              NaN   \n",
       "4            NaN        NaN    NaN                    NaN              NaN   \n",
       "\n",
       "   attic_topfloor  \n",
       "0             NaN  \n",
       "1             NaN  \n",
       "2             NaN  \n",
       "3             NaN  \n",
       "4             NaN  \n",
       "\n",
       "[5 rows x 229 columns]"
      ]
     },
     "execution_count": 4,
     "metadata": {},
     "output_type": "execute_result"
    }
   ],
   "source": [
    "#Input data\n",
    "data = read_csv('rent_clean.csv')\n",
    "data.head()\n"
   ]
  },
  {
   "cell_type": "code",
   "execution_count": 17,
   "metadata": {},
   "outputs": [],
   "source": [
    "#Drop NaN items\n",
    "test = data[['price_per_sqm', 'apartment', 'house', 'sale', 'rent', 'number_of_whole_rooms', 'floor', 'number_of_half_rooms', 'furnish_furnished', 'furnish_partly_furnished', 'view_garden', 'view_panoramic', 'view_street', 'balcony', 'lift', 'air_conditioner', 'utility_double_comfort', 'heating_gas', 'heating_wall_heating', 'heating_combination', 'heating_ceiling', 'heating_central_heating', 'heating_electric', 'heating_floor', 'heating_circulating', 'heating_district', 'available_immediately', 'condition_of_property_renovated', 'attic_loft_conversion', 'parking']]\n",
    "test = test.dropna()\n",
    "\n",
    "X = test[['apartment', 'house', 'sale', 'rent', 'number_of_whole_rooms', 'floor', 'number_of_half_rooms', 'furnish_furnished', 'furnish_partly_furnished', 'view_garden', 'view_panoramic', 'view_street', 'balcony', 'lift', 'air_conditioner', 'utility_double_comfort', 'heating_gas', 'heating_wall_heating', 'heating_combination', 'heating_ceiling', 'heating_central_heating', 'heating_electric', 'heating_floor', 'heating_circulating', 'heating_district', 'available_immediately', 'condition_of_property_renovated', 'attic_loft_conversion', 'parking']]\n",
    "y = test[['price_per_sqm']]\n"
   ]
  },
  {
   "cell_type": "code",
   "execution_count": 19,
   "metadata": {},
   "outputs": [
    {
     "name": "stdout",
     "output_type": "stream",
     "text": [
      "Num Features: 15\n",
      "Feature Ranking [15 14 13 12  5  6  1  1  9  1  1  3  8  1  1  4  1 10  1  1  1  1  1  1\n",
      "  1  2  7  1 11]\n"
     ]
    },
    {
     "name": "stderr",
     "output_type": "stream",
     "text": [
      "/usr/local/lib/python3.7/site-packages/sklearn/utils/validation.py:761: DataConversionWarning: A column-vector y was passed when a 1d array was expected. Please change the shape of y to (n_samples, ), for example using ravel().\n",
      "  y = column_or_1d(y, warn=True)\n"
     ]
    },
    {
     "data": {
      "text/plain": [
       "[('apartment', False),\n",
       " ('house', False),\n",
       " ('sale', False),\n",
       " ('rent', False),\n",
       " ('number_of_whole_rooms', False),\n",
       " ('floor', False),\n",
       " ('number_of_half_rooms', True),\n",
       " ('furnish_furnished', True),\n",
       " ('furnish_partly_furnished', False),\n",
       " ('view_garden', True),\n",
       " ('view_panoramic', True),\n",
       " ('view_street', False),\n",
       " ('balcony', False),\n",
       " ('lift', True),\n",
       " ('air_conditioner', True),\n",
       " ('utility_double_comfort', False),\n",
       " ('heating_gas', True),\n",
       " ('heating_wall_heating', False),\n",
       " ('heating_combination', True),\n",
       " ('heating_ceiling', True),\n",
       " ('heating_central_heating', True),\n",
       " ('heating_electric', True),\n",
       " ('heating_floor', True),\n",
       " ('heating_circulating', True),\n",
       " ('heating_district', True),\n",
       " ('available_immediately', False),\n",
       " ('condition_of_property_renovated', False),\n",
       " ('attic_loft_conversion', True),\n",
       " ('parking', False)]"
      ]
     },
     "execution_count": 19,
     "metadata": {},
     "output_type": "execute_result"
    }
   ],
   "source": [
    "#Feature extraction\n",
    "#15 \n",
    "my_model = LinearRegression()\n",
    "rfe = RFE(my_model, 15)\n",
    "fit = rfe.fit(X, y)\n",
    "\n",
    "features = ['apartment', 'house', 'sale', 'rent', 'number_of_whole_rooms', 'floor', 'number_of_half_rooms', 'furnish_furnished', 'furnish_partly_furnished', 'view_garden', 'view_panoramic', 'view_street', 'balcony', 'lift', 'air_conditioner', 'utility_double_comfort', 'heating_gas', 'heating_wall_heating', 'heating_combination', 'heating_ceiling', 'heating_central_heating', 'heating_electric', 'heating_floor', 'heating_circulating', 'heating_district', 'available_immediately', 'condition_of_property_renovated', 'attic_loft_conversion', 'parking']\n",
    "\n",
    "print('Num Features:', fit.n_features_)\n",
    "print('Feature Ranking', fit.ranking_)\n",
    "\n",
    "list(zip(features, fit.support_))\n"
   ]
  },
  {
   "cell_type": "code",
   "execution_count": 20,
   "metadata": {},
   "outputs": [
    {
     "name": "stdout",
     "output_type": "stream",
     "text": [
      "Num Features: 16\n",
      "Feature Ranking [14 13 12 11  4  5  1  1  8  1  1  2  7  1  1  3  1  9  1  1  1  1  1  1\n",
      "  1  1  6  1 10]\n"
     ]
    },
    {
     "name": "stderr",
     "output_type": "stream",
     "text": [
      "/usr/local/lib/python3.7/site-packages/sklearn/utils/validation.py:761: DataConversionWarning: A column-vector y was passed when a 1d array was expected. Please change the shape of y to (n_samples, ), for example using ravel().\n",
      "  y = column_or_1d(y, warn=True)\n"
     ]
    },
    {
     "data": {
      "text/plain": [
       "[('apartment', False),\n",
       " ('house', False),\n",
       " ('sale', False),\n",
       " ('rent', False),\n",
       " ('number_of_whole_rooms', False),\n",
       " ('floor', False),\n",
       " ('number_of_half_rooms', True),\n",
       " ('furnish_furnished', True),\n",
       " ('furnish_partly_furnished', False),\n",
       " ('view_garden', True),\n",
       " ('view_panoramic', True),\n",
       " ('view_street', False),\n",
       " ('balcony', False),\n",
       " ('lift', True),\n",
       " ('air_conditioner', True),\n",
       " ('utility_double_comfort', False),\n",
       " ('heating_gas', True),\n",
       " ('heating_wall_heating', False),\n",
       " ('heating_combination', True),\n",
       " ('heating_ceiling', True),\n",
       " ('heating_central_heating', True),\n",
       " ('heating_electric', True),\n",
       " ('heating_floor', True),\n",
       " ('heating_circulating', True),\n",
       " ('heating_district', True),\n",
       " ('available_immediately', True),\n",
       " ('condition_of_property_renovated', False),\n",
       " ('attic_loft_conversion', True),\n",
       " ('parking', False)]"
      ]
     },
     "execution_count": 20,
     "metadata": {},
     "output_type": "execute_result"
    }
   ],
   "source": [
    "#Feature extraction\n",
    "#16\n",
    "my_model = LinearRegression()\n",
    "rfe = RFE(my_model, 16)\n",
    "fit = rfe.fit(X, y)\n",
    "\n",
    "features = ['apartment', 'house', 'sale', 'rent', 'number_of_whole_rooms', 'floor', 'number_of_half_rooms', 'furnish_furnished', 'furnish_partly_furnished', 'view_garden', 'view_panoramic', 'view_street', 'balcony', 'lift', 'air_conditioner', 'utility_double_comfort', 'heating_gas', 'heating_wall_heating', 'heating_combination', 'heating_ceiling', 'heating_central_heating', 'heating_electric', 'heating_floor', 'heating_circulating', 'heating_district', 'available_immediately', 'condition_of_property_renovated', 'attic_loft_conversion', 'parking']\n",
    "\n",
    "print('Num Features:', fit.n_features_)\n",
    "print('Feature Ranking', fit.ranking_)\n",
    "\n",
    "list(zip(features, fit.support_))\n"
   ]
  },
  {
   "cell_type": "code",
   "execution_count": 21,
   "metadata": {},
   "outputs": [
    {
     "name": "stdout",
     "output_type": "stream",
     "text": [
      "Num Features: 17\n",
      "Feature Ranking [13 12 11 10  3  4  1  1  7  1  1  1  6  1  1  2  1  8  1  1  1  1  1  1\n",
      "  1  1  5  1  9]\n"
     ]
    },
    {
     "name": "stderr",
     "output_type": "stream",
     "text": [
      "/usr/local/lib/python3.7/site-packages/sklearn/utils/validation.py:761: DataConversionWarning: A column-vector y was passed when a 1d array was expected. Please change the shape of y to (n_samples, ), for example using ravel().\n",
      "  y = column_or_1d(y, warn=True)\n"
     ]
    },
    {
     "data": {
      "text/plain": [
       "[('apartment', False),\n",
       " ('house', False),\n",
       " ('sale', False),\n",
       " ('rent', False),\n",
       " ('number_of_whole_rooms', False),\n",
       " ('floor', False),\n",
       " ('number_of_half_rooms', True),\n",
       " ('furnish_furnished', True),\n",
       " ('furnish_partly_furnished', False),\n",
       " ('view_garden', True),\n",
       " ('view_panoramic', True),\n",
       " ('view_street', True),\n",
       " ('balcony', False),\n",
       " ('lift', True),\n",
       " ('air_conditioner', True),\n",
       " ('utility_double_comfort', False),\n",
       " ('heating_gas', True),\n",
       " ('heating_wall_heating', False),\n",
       " ('heating_combination', True),\n",
       " ('heating_ceiling', True),\n",
       " ('heating_central_heating', True),\n",
       " ('heating_electric', True),\n",
       " ('heating_floor', True),\n",
       " ('heating_circulating', True),\n",
       " ('heating_district', True),\n",
       " ('available_immediately', True),\n",
       " ('condition_of_property_renovated', False),\n",
       " ('attic_loft_conversion', True),\n",
       " ('parking', False)]"
      ]
     },
     "execution_count": 21,
     "metadata": {},
     "output_type": "execute_result"
    }
   ],
   "source": [
    "#Feature extraction\n",
    "#17\n",
    "my_model = LinearRegression()\n",
    "rfe = RFE(my_model, 17)\n",
    "fit = rfe.fit(X, y)\n",
    "\n",
    "features = ['apartment', 'house', 'sale', 'rent', 'number_of_whole_rooms', 'floor', 'number_of_half_rooms', 'furnish_furnished', 'furnish_partly_furnished', 'view_garden', 'view_panoramic', 'view_street', 'balcony', 'lift', 'air_conditioner', 'utility_double_comfort', 'heating_gas', 'heating_wall_heating', 'heating_combination', 'heating_ceiling', 'heating_central_heating', 'heating_electric', 'heating_floor', 'heating_circulating', 'heating_district', 'available_immediately', 'condition_of_property_renovated', 'attic_loft_conversion', 'parking']\n",
    "\n",
    "print('Num Features:', fit.n_features_)\n",
    "print('Feature Ranking', fit.ranking_)\n",
    "\n",
    "list(zip(features, fit.support_))\n"
   ]
  },
  {
   "cell_type": "code",
   "execution_count": 22,
   "metadata": {},
   "outputs": [
    {
     "name": "stdout",
     "output_type": "stream",
     "text": [
      "Num Features: 18\n",
      "Feature Ranking [12 11 10  9  2  3  1  1  6  1  1  1  5  1  1  1  1  7  1  1  1  1  1  1\n",
      "  1  1  4  1  8]\n"
     ]
    },
    {
     "name": "stderr",
     "output_type": "stream",
     "text": [
      "/usr/local/lib/python3.7/site-packages/sklearn/utils/validation.py:761: DataConversionWarning: A column-vector y was passed when a 1d array was expected. Please change the shape of y to (n_samples, ), for example using ravel().\n",
      "  y = column_or_1d(y, warn=True)\n"
     ]
    },
    {
     "data": {
      "text/plain": [
       "[('apartment', False),\n",
       " ('house', False),\n",
       " ('sale', False),\n",
       " ('rent', False),\n",
       " ('number_of_whole_rooms', False),\n",
       " ('floor', False),\n",
       " ('number_of_half_rooms', True),\n",
       " ('furnish_furnished', True),\n",
       " ('furnish_partly_furnished', False),\n",
       " ('view_garden', True),\n",
       " ('view_panoramic', True),\n",
       " ('view_street', True),\n",
       " ('balcony', False),\n",
       " ('lift', True),\n",
       " ('air_conditioner', True),\n",
       " ('utility_double_comfort', True),\n",
       " ('heating_gas', True),\n",
       " ('heating_wall_heating', False),\n",
       " ('heating_combination', True),\n",
       " ('heating_ceiling', True),\n",
       " ('heating_central_heating', True),\n",
       " ('heating_electric', True),\n",
       " ('heating_floor', True),\n",
       " ('heating_circulating', True),\n",
       " ('heating_district', True),\n",
       " ('available_immediately', True),\n",
       " ('condition_of_property_renovated', False),\n",
       " ('attic_loft_conversion', True),\n",
       " ('parking', False)]"
      ]
     },
     "execution_count": 22,
     "metadata": {},
     "output_type": "execute_result"
    }
   ],
   "source": [
    "#Feature extraction\n",
    "#18\n",
    "my_model = LinearRegression()\n",
    "rfe = RFE(my_model, 18)\n",
    "fit = rfe.fit(X, y)\n",
    "\n",
    "features = ['apartment', 'house', 'sale', 'rent', 'number_of_whole_rooms', 'floor', 'number_of_half_rooms', 'furnish_furnished', 'furnish_partly_furnished', 'view_garden', 'view_panoramic', 'view_street', 'balcony', 'lift', 'air_conditioner', 'utility_double_comfort', 'heating_gas', 'heating_wall_heating', 'heating_combination', 'heating_ceiling', 'heating_central_heating', 'heating_electric', 'heating_floor', 'heating_circulating', 'heating_district', 'available_immediately', 'condition_of_property_renovated', 'attic_loft_conversion', 'parking']\n",
    "\n",
    "print('Num Features:', fit.n_features_)\n",
    "print('Feature Ranking', fit.ranking_)\n",
    "\n",
    "list(zip(features, fit.support_))\n"
   ]
  },
  {
   "cell_type": "code",
   "execution_count": 23,
   "metadata": {},
   "outputs": [
    {
     "name": "stdout",
     "output_type": "stream",
     "text": [
      "Num Features: 19\n",
      "Feature Ranking [11 10  9  8  1  2  1  1  5  1  1  1  4  1  1  1  1  6  1  1  1  1  1  1\n",
      "  1  1  3  1  7]\n"
     ]
    },
    {
     "name": "stderr",
     "output_type": "stream",
     "text": [
      "/usr/local/lib/python3.7/site-packages/sklearn/utils/validation.py:761: DataConversionWarning: A column-vector y was passed when a 1d array was expected. Please change the shape of y to (n_samples, ), for example using ravel().\n",
      "  y = column_or_1d(y, warn=True)\n"
     ]
    },
    {
     "data": {
      "text/plain": [
       "[('apartment', False),\n",
       " ('house', False),\n",
       " ('sale', False),\n",
       " ('rent', False),\n",
       " ('number_of_whole_rooms', True),\n",
       " ('floor', False),\n",
       " ('number_of_half_rooms', True),\n",
       " ('furnish_furnished', True),\n",
       " ('furnish_partly_furnished', False),\n",
       " ('view_garden', True),\n",
       " ('view_panoramic', True),\n",
       " ('view_street', True),\n",
       " ('balcony', False),\n",
       " ('lift', True),\n",
       " ('air_conditioner', True),\n",
       " ('utility_double_comfort', True),\n",
       " ('heating_gas', True),\n",
       " ('heating_wall_heating', False),\n",
       " ('heating_combination', True),\n",
       " ('heating_ceiling', True),\n",
       " ('heating_central_heating', True),\n",
       " ('heating_electric', True),\n",
       " ('heating_floor', True),\n",
       " ('heating_circulating', True),\n",
       " ('heating_district', True),\n",
       " ('available_immediately', True),\n",
       " ('condition_of_property_renovated', False),\n",
       " ('attic_loft_conversion', True),\n",
       " ('parking', False)]"
      ]
     },
     "execution_count": 23,
     "metadata": {},
     "output_type": "execute_result"
    }
   ],
   "source": [
    "#Feature extraction\n",
    "#19\n",
    "my_model = LinearRegression()\n",
    "rfe = RFE(my_model, 19)\n",
    "fit = rfe.fit(X, y)\n",
    "\n",
    "features = ['apartment', 'house', 'sale', 'rent', 'number_of_whole_rooms', 'floor', 'number_of_half_rooms', 'furnish_furnished', 'furnish_partly_furnished', 'view_garden', 'view_panoramic', 'view_street', 'balcony', 'lift', 'air_conditioner', 'utility_double_comfort', 'heating_gas', 'heating_wall_heating', 'heating_combination', 'heating_ceiling', 'heating_central_heating', 'heating_electric', 'heating_floor', 'heating_circulating', 'heating_district', 'available_immediately', 'condition_of_property_renovated', 'attic_loft_conversion', 'parking']\n",
    "\n",
    "print('Num Features:', fit.n_features_)\n",
    "print('Feature Ranking', fit.ranking_)\n",
    "\n",
    "list(zip(features, fit.support_))\n"
   ]
  },
  {
   "cell_type": "code",
   "execution_count": 24,
   "metadata": {},
   "outputs": [
    {
     "name": "stdout",
     "output_type": "stream",
     "text": [
      "Num Features: 20\n",
      "Feature Ranking [10  9  8  7  1  1  1  1  4  1  1  1  3  1  1  1  1  5  1  1  1  1  1  1\n",
      "  1  1  2  1  6]\n"
     ]
    },
    {
     "name": "stderr",
     "output_type": "stream",
     "text": [
      "/usr/local/lib/python3.7/site-packages/sklearn/utils/validation.py:761: DataConversionWarning: A column-vector y was passed when a 1d array was expected. Please change the shape of y to (n_samples, ), for example using ravel().\n",
      "  y = column_or_1d(y, warn=True)\n"
     ]
    },
    {
     "data": {
      "text/plain": [
       "[('apartment', False),\n",
       " ('house', False),\n",
       " ('sale', False),\n",
       " ('rent', False),\n",
       " ('number_of_whole_rooms', True),\n",
       " ('floor', True),\n",
       " ('number_of_half_rooms', True),\n",
       " ('furnish_furnished', True),\n",
       " ('furnish_partly_furnished', False),\n",
       " ('view_garden', True),\n",
       " ('view_panoramic', True),\n",
       " ('view_street', True),\n",
       " ('balcony', False),\n",
       " ('lift', True),\n",
       " ('air_conditioner', True),\n",
       " ('utility_double_comfort', True),\n",
       " ('heating_gas', True),\n",
       " ('heating_wall_heating', False),\n",
       " ('heating_combination', True),\n",
       " ('heating_ceiling', True),\n",
       " ('heating_central_heating', True),\n",
       " ('heating_electric', True),\n",
       " ('heating_floor', True),\n",
       " ('heating_circulating', True),\n",
       " ('heating_district', True),\n",
       " ('available_immediately', True),\n",
       " ('condition_of_property_renovated', False),\n",
       " ('attic_loft_conversion', True),\n",
       " ('parking', False)]"
      ]
     },
     "execution_count": 24,
     "metadata": {},
     "output_type": "execute_result"
    }
   ],
   "source": [
    "#Feature extraction\n",
    "#20\n",
    "my_model = LinearRegression()\n",
    "rfe = RFE(my_model, 20)\n",
    "fit = rfe.fit(X, y)\n",
    "\n",
    "features = ['apartment', 'house', 'sale', 'rent', 'number_of_whole_rooms', 'floor', 'number_of_half_rooms', 'furnish_furnished', 'furnish_partly_furnished', 'view_garden', 'view_panoramic', 'view_street', 'balcony', 'lift', 'air_conditioner', 'utility_double_comfort', 'heating_gas', 'heating_wall_heating', 'heating_combination', 'heating_ceiling', 'heating_central_heating', 'heating_electric', 'heating_floor', 'heating_circulating', 'heating_district', 'available_immediately', 'condition_of_property_renovated', 'attic_loft_conversion', 'parking']\n",
    "\n",
    "print('Num Features:', fit.n_features_)\n",
    "print('Feature Ranking', fit.ranking_)\n",
    "\n",
    "list(zip(features, fit.support_))\n"
   ]
  },
  {
   "cell_type": "code",
   "execution_count": 25,
   "metadata": {},
   "outputs": [
    {
     "name": "stdout",
     "output_type": "stream",
     "text": [
      "Num Features: 21\n",
      "Feature Ranking [9 8 7 6 1 1 1 1 3 1 1 1 2 1 1 1 1 4 1 1 1 1 1 1 1 1 1 1 5]\n"
     ]
    },
    {
     "name": "stderr",
     "output_type": "stream",
     "text": [
      "/usr/local/lib/python3.7/site-packages/sklearn/utils/validation.py:761: DataConversionWarning: A column-vector y was passed when a 1d array was expected. Please change the shape of y to (n_samples, ), for example using ravel().\n",
      "  y = column_or_1d(y, warn=True)\n"
     ]
    },
    {
     "data": {
      "text/plain": [
       "[('apartment', False),\n",
       " ('house', False),\n",
       " ('sale', False),\n",
       " ('rent', False),\n",
       " ('number_of_whole_rooms', True),\n",
       " ('floor', True),\n",
       " ('number_of_half_rooms', True),\n",
       " ('furnish_furnished', True),\n",
       " ('furnish_partly_furnished', False),\n",
       " ('view_garden', True),\n",
       " ('view_panoramic', True),\n",
       " ('view_street', True),\n",
       " ('balcony', False),\n",
       " ('lift', True),\n",
       " ('air_conditioner', True),\n",
       " ('utility_double_comfort', True),\n",
       " ('heating_gas', True),\n",
       " ('heating_wall_heating', False),\n",
       " ('heating_combination', True),\n",
       " ('heating_ceiling', True),\n",
       " ('heating_central_heating', True),\n",
       " ('heating_electric', True),\n",
       " ('heating_floor', True),\n",
       " ('heating_circulating', True),\n",
       " ('heating_district', True),\n",
       " ('available_immediately', True),\n",
       " ('condition_of_property_renovated', True),\n",
       " ('attic_loft_conversion', True),\n",
       " ('parking', False)]"
      ]
     },
     "execution_count": 25,
     "metadata": {},
     "output_type": "execute_result"
    }
   ],
   "source": [
    "#Feature extraction\n",
    "#21\n",
    "my_model = LinearRegression()\n",
    "rfe = RFE(my_model, 21)\n",
    "fit = rfe.fit(X, y)\n",
    "\n",
    "features = ['apartment', 'house', 'sale', 'rent', 'number_of_whole_rooms', 'floor', 'number_of_half_rooms', 'furnish_furnished', 'furnish_partly_furnished', 'view_garden', 'view_panoramic', 'view_street', 'balcony', 'lift', 'air_conditioner', 'utility_double_comfort', 'heating_gas', 'heating_wall_heating', 'heating_combination', 'heating_ceiling', 'heating_central_heating', 'heating_electric', 'heating_floor', 'heating_circulating', 'heating_district', 'available_immediately', 'condition_of_property_renovated', 'attic_loft_conversion', 'parking']\n",
    "\n",
    "print('Num Features:', fit.n_features_)\n",
    "print('Feature Ranking', fit.ranking_)\n",
    "\n",
    "list(zip(features, fit.support_))\n"
   ]
  },
  {
   "cell_type": "code",
   "execution_count": 26,
   "metadata": {},
   "outputs": [
    {
     "name": "stdout",
     "output_type": "stream",
     "text": [
      "Num Features: 22\n",
      "Feature Ranking [8 7 6 5 1 1 1 1 2 1 1 1 1 1 1 1 1 3 1 1 1 1 1 1 1 1 1 1 4]\n"
     ]
    },
    {
     "name": "stderr",
     "output_type": "stream",
     "text": [
      "/usr/local/lib/python3.7/site-packages/sklearn/utils/validation.py:761: DataConversionWarning: A column-vector y was passed when a 1d array was expected. Please change the shape of y to (n_samples, ), for example using ravel().\n",
      "  y = column_or_1d(y, warn=True)\n"
     ]
    },
    {
     "data": {
      "text/plain": [
       "[('apartment', False),\n",
       " ('house', False),\n",
       " ('sale', False),\n",
       " ('rent', False),\n",
       " ('number_of_whole_rooms', True),\n",
       " ('floor', True),\n",
       " ('number_of_half_rooms', True),\n",
       " ('furnish_furnished', True),\n",
       " ('furnish_partly_furnished', False),\n",
       " ('view_garden', True),\n",
       " ('view_panoramic', True),\n",
       " ('view_street', True),\n",
       " ('balcony', True),\n",
       " ('lift', True),\n",
       " ('air_conditioner', True),\n",
       " ('utility_double_comfort', True),\n",
       " ('heating_gas', True),\n",
       " ('heating_wall_heating', False),\n",
       " ('heating_combination', True),\n",
       " ('heating_ceiling', True),\n",
       " ('heating_central_heating', True),\n",
       " ('heating_electric', True),\n",
       " ('heating_floor', True),\n",
       " ('heating_circulating', True),\n",
       " ('heating_district', True),\n",
       " ('available_immediately', True),\n",
       " ('condition_of_property_renovated', True),\n",
       " ('attic_loft_conversion', True),\n",
       " ('parking', False)]"
      ]
     },
     "execution_count": 26,
     "metadata": {},
     "output_type": "execute_result"
    }
   ],
   "source": [
    "#Feature extraction\n",
    "#22\n",
    "my_model = LinearRegression()\n",
    "rfe = RFE(my_model, 22)\n",
    "fit = rfe.fit(X, y)\n",
    "\n",
    "features = ['apartment', 'house', 'sale', 'rent', 'number_of_whole_rooms', 'floor', 'number_of_half_rooms', 'furnish_furnished', 'furnish_partly_furnished', 'view_garden', 'view_panoramic', 'view_street', 'balcony', 'lift', 'air_conditioner', 'utility_double_comfort', 'heating_gas', 'heating_wall_heating', 'heating_combination', 'heating_ceiling', 'heating_central_heating', 'heating_electric', 'heating_floor', 'heating_circulating', 'heating_district', 'available_immediately', 'condition_of_property_renovated', 'attic_loft_conversion', 'parking']\n",
    "\n",
    "print('Num Features:', fit.n_features_)\n",
    "print('Feature Ranking', fit.ranking_)\n",
    "\n",
    "list(zip(features, fit.support_))\n"
   ]
  },
  {
   "cell_type": "code",
   "execution_count": 27,
   "metadata": {},
   "outputs": [
    {
     "name": "stdout",
     "output_type": "stream",
     "text": [
      "Num Features: 23\n",
      "Feature Ranking [7 6 5 4 1 1 1 1 1 1 1 1 1 1 1 1 1 2 1 1 1 1 1 1 1 1 1 1 3]\n"
     ]
    },
    {
     "name": "stderr",
     "output_type": "stream",
     "text": [
      "/usr/local/lib/python3.7/site-packages/sklearn/utils/validation.py:761: DataConversionWarning: A column-vector y was passed when a 1d array was expected. Please change the shape of y to (n_samples, ), for example using ravel().\n",
      "  y = column_or_1d(y, warn=True)\n"
     ]
    },
    {
     "data": {
      "text/plain": [
       "[('apartment', False),\n",
       " ('house', False),\n",
       " ('sale', False),\n",
       " ('rent', False),\n",
       " ('number_of_whole_rooms', True),\n",
       " ('floor', True),\n",
       " ('number_of_half_rooms', True),\n",
       " ('furnish_furnished', True),\n",
       " ('furnish_partly_furnished', True),\n",
       " ('view_garden', True),\n",
       " ('view_panoramic', True),\n",
       " ('view_street', True),\n",
       " ('balcony', True),\n",
       " ('lift', True),\n",
       " ('air_conditioner', True),\n",
       " ('utility_double_comfort', True),\n",
       " ('heating_gas', True),\n",
       " ('heating_wall_heating', False),\n",
       " ('heating_combination', True),\n",
       " ('heating_ceiling', True),\n",
       " ('heating_central_heating', True),\n",
       " ('heating_electric', True),\n",
       " ('heating_floor', True),\n",
       " ('heating_circulating', True),\n",
       " ('heating_district', True),\n",
       " ('available_immediately', True),\n",
       " ('condition_of_property_renovated', True),\n",
       " ('attic_loft_conversion', True),\n",
       " ('parking', False)]"
      ]
     },
     "execution_count": 27,
     "metadata": {},
     "output_type": "execute_result"
    }
   ],
   "source": [
    "#Feature extraction\n",
    "#23\n",
    "my_model = LinearRegression()\n",
    "rfe = RFE(my_model, 23)\n",
    "fit = rfe.fit(X, y)\n",
    "\n",
    "features = ['apartment', 'house', 'sale', 'rent', 'number_of_whole_rooms', 'floor', 'number_of_half_rooms', 'furnish_furnished', 'furnish_partly_furnished', 'view_garden', 'view_panoramic', 'view_street', 'balcony', 'lift', 'air_conditioner', 'utility_double_comfort', 'heating_gas', 'heating_wall_heating', 'heating_combination', 'heating_ceiling', 'heating_central_heating', 'heating_electric', 'heating_floor', 'heating_circulating', 'heating_district', 'available_immediately', 'condition_of_property_renovated', 'attic_loft_conversion', 'parking']\n",
    "\n",
    "print('Num Features:', fit.n_features_)\n",
    "print('Feature Ranking', fit.ranking_)\n",
    "\n",
    "list(zip(features, fit.support_))\n"
   ]
  },
  {
   "cell_type": "code",
   "execution_count": 28,
   "metadata": {},
   "outputs": [
    {
     "name": "stdout",
     "output_type": "stream",
     "text": [
      "Num Features: 24\n",
      "Feature Ranking [6 5 4 3 1 1 1 1 1 1 1 1 1 1 1 1 1 1 1 1 1 1 1 1 1 1 1 1 2]\n"
     ]
    },
    {
     "name": "stderr",
     "output_type": "stream",
     "text": [
      "/usr/local/lib/python3.7/site-packages/sklearn/utils/validation.py:761: DataConversionWarning: A column-vector y was passed when a 1d array was expected. Please change the shape of y to (n_samples, ), for example using ravel().\n",
      "  y = column_or_1d(y, warn=True)\n"
     ]
    },
    {
     "data": {
      "text/plain": [
       "[('apartment', False),\n",
       " ('house', False),\n",
       " ('sale', False),\n",
       " ('rent', False),\n",
       " ('number_of_whole_rooms', True),\n",
       " ('floor', True),\n",
       " ('number_of_half_rooms', True),\n",
       " ('furnish_furnished', True),\n",
       " ('furnish_partly_furnished', True),\n",
       " ('view_garden', True),\n",
       " ('view_panoramic', True),\n",
       " ('view_street', True),\n",
       " ('balcony', True),\n",
       " ('lift', True),\n",
       " ('air_conditioner', True),\n",
       " ('utility_double_comfort', True),\n",
       " ('heating_gas', True),\n",
       " ('heating_wall_heating', True),\n",
       " ('heating_combination', True),\n",
       " ('heating_ceiling', True),\n",
       " ('heating_central_heating', True),\n",
       " ('heating_electric', True),\n",
       " ('heating_floor', True),\n",
       " ('heating_circulating', True),\n",
       " ('heating_district', True),\n",
       " ('available_immediately', True),\n",
       " ('condition_of_property_renovated', True),\n",
       " ('attic_loft_conversion', True),\n",
       " ('parking', False)]"
      ]
     },
     "execution_count": 28,
     "metadata": {},
     "output_type": "execute_result"
    }
   ],
   "source": [
    "#Feature extraction\n",
    "#24\n",
    "my_model = LinearRegression()\n",
    "rfe = RFE(my_model, 24)\n",
    "fit = rfe.fit(X, y)\n",
    "\n",
    "features = ['apartment', 'house', 'sale', 'rent', 'number_of_whole_rooms', 'floor', 'number_of_half_rooms', 'furnish_furnished', 'furnish_partly_furnished', 'view_garden', 'view_panoramic', 'view_street', 'balcony', 'lift', 'air_conditioner', 'utility_double_comfort', 'heating_gas', 'heating_wall_heating', 'heating_combination', 'heating_ceiling', 'heating_central_heating', 'heating_electric', 'heating_floor', 'heating_circulating', 'heating_district', 'available_immediately', 'condition_of_property_renovated', 'attic_loft_conversion', 'parking']\n",
    "\n",
    "print('Num Features:', fit.n_features_)\n",
    "print('Feature Ranking', fit.ranking_)\n",
    "\n",
    "list(zip(features, fit.support_))\n"
   ]
  },
  {
   "cell_type": "code",
   "execution_count": 29,
   "metadata": {},
   "outputs": [
    {
     "name": "stdout",
     "output_type": "stream",
     "text": [
      "Num Features: 25\n",
      "Feature Ranking [5 4 3 2 1 1 1 1 1 1 1 1 1 1 1 1 1 1 1 1 1 1 1 1 1 1 1 1 1]\n"
     ]
    },
    {
     "name": "stderr",
     "output_type": "stream",
     "text": [
      "/usr/local/lib/python3.7/site-packages/sklearn/utils/validation.py:761: DataConversionWarning: A column-vector y was passed when a 1d array was expected. Please change the shape of y to (n_samples, ), for example using ravel().\n",
      "  y = column_or_1d(y, warn=True)\n"
     ]
    },
    {
     "data": {
      "text/plain": [
       "[('apartment', False),\n",
       " ('house', False),\n",
       " ('sale', False),\n",
       " ('rent', False),\n",
       " ('number_of_whole_rooms', True),\n",
       " ('floor', True),\n",
       " ('number_of_half_rooms', True),\n",
       " ('furnish_furnished', True),\n",
       " ('furnish_partly_furnished', True),\n",
       " ('view_garden', True),\n",
       " ('view_panoramic', True),\n",
       " ('view_street', True),\n",
       " ('balcony', True),\n",
       " ('lift', True),\n",
       " ('air_conditioner', True),\n",
       " ('utility_double_comfort', True),\n",
       " ('heating_gas', True),\n",
       " ('heating_wall_heating', True),\n",
       " ('heating_combination', True),\n",
       " ('heating_ceiling', True),\n",
       " ('heating_central_heating', True),\n",
       " ('heating_electric', True),\n",
       " ('heating_floor', True),\n",
       " ('heating_circulating', True),\n",
       " ('heating_district', True),\n",
       " ('available_immediately', True),\n",
       " ('condition_of_property_renovated', True),\n",
       " ('attic_loft_conversion', True),\n",
       " ('parking', True)]"
      ]
     },
     "execution_count": 29,
     "metadata": {},
     "output_type": "execute_result"
    }
   ],
   "source": [
    "#Feature extraction\n",
    "#25\n",
    "my_model = LinearRegression()\n",
    "rfe = RFE(my_model, 25)\n",
    "fit = rfe.fit(X, y)\n",
    "\n",
    "features = ['apartment', 'house', 'sale', 'rent', 'number_of_whole_rooms', 'floor', 'number_of_half_rooms', 'furnish_furnished', 'furnish_partly_furnished', 'view_garden', 'view_panoramic', 'view_street', 'balcony', 'lift', 'air_conditioner', 'utility_double_comfort', 'heating_gas', 'heating_wall_heating', 'heating_combination', 'heating_ceiling', 'heating_central_heating', 'heating_electric', 'heating_floor', 'heating_circulating', 'heating_district', 'available_immediately', 'condition_of_property_renovated', 'attic_loft_conversion', 'parking']\n",
    "\n",
    "print('Num Features:', fit.n_features_)\n",
    "print('Feature Ranking', fit.ranking_)\n",
    "\n",
    "list(zip(features, fit.support_))\n"
   ]
  },
  {
   "cell_type": "code",
   "execution_count": 30,
   "metadata": {},
   "outputs": [
    {
     "name": "stdout",
     "output_type": "stream",
     "text": [
      "Num Features: 26\n",
      "Feature Ranking [4 3 2 1 1 1 1 1 1 1 1 1 1 1 1 1 1 1 1 1 1 1 1 1 1 1 1 1 1]\n"
     ]
    },
    {
     "name": "stderr",
     "output_type": "stream",
     "text": [
      "/usr/local/lib/python3.7/site-packages/sklearn/utils/validation.py:761: DataConversionWarning: A column-vector y was passed when a 1d array was expected. Please change the shape of y to (n_samples, ), for example using ravel().\n",
      "  y = column_or_1d(y, warn=True)\n"
     ]
    },
    {
     "data": {
      "text/plain": [
       "[('apartment', False),\n",
       " ('house', False),\n",
       " ('sale', False),\n",
       " ('rent', True),\n",
       " ('number_of_whole_rooms', True),\n",
       " ('floor', True),\n",
       " ('number_of_half_rooms', True),\n",
       " ('furnish_furnished', True),\n",
       " ('furnish_partly_furnished', True),\n",
       " ('view_garden', True),\n",
       " ('view_panoramic', True),\n",
       " ('view_street', True),\n",
       " ('balcony', True),\n",
       " ('lift', True),\n",
       " ('air_conditioner', True),\n",
       " ('utility_double_comfort', True),\n",
       " ('heating_gas', True),\n",
       " ('heating_wall_heating', True),\n",
       " ('heating_combination', True),\n",
       " ('heating_ceiling', True),\n",
       " ('heating_central_heating', True),\n",
       " ('heating_electric', True),\n",
       " ('heating_floor', True),\n",
       " ('heating_circulating', True),\n",
       " ('heating_district', True),\n",
       " ('available_immediately', True),\n",
       " ('condition_of_property_renovated', True),\n",
       " ('attic_loft_conversion', True),\n",
       " ('parking', True)]"
      ]
     },
     "execution_count": 30,
     "metadata": {},
     "output_type": "execute_result"
    }
   ],
   "source": [
    "#Feature extraction\n",
    "#26\n",
    "my_model = LinearRegression()\n",
    "rfe = RFE(my_model, 26)\n",
    "fit = rfe.fit(X, y)\n",
    "\n",
    "features = ['apartment', 'house', 'sale', 'rent', 'number_of_whole_rooms', 'floor', 'number_of_half_rooms', 'furnish_furnished', 'furnish_partly_furnished', 'view_garden', 'view_panoramic', 'view_street', 'balcony', 'lift', 'air_conditioner', 'utility_double_comfort', 'heating_gas', 'heating_wall_heating', 'heating_combination', 'heating_ceiling', 'heating_central_heating', 'heating_electric', 'heating_floor', 'heating_circulating', 'heating_district', 'available_immediately', 'condition_of_property_renovated', 'attic_loft_conversion', 'parking']\n",
    "\n",
    "print('Num Features:', fit.n_features_)\n",
    "print('Feature Ranking', fit.ranking_)\n",
    "\n",
    "list(zip(features, fit.support_))\n"
   ]
  },
  {
   "cell_type": "code",
   "execution_count": 31,
   "metadata": {},
   "outputs": [
    {
     "name": "stdout",
     "output_type": "stream",
     "text": [
      "Num Features: 27\n",
      "Feature Ranking [3 2 1 1 1 1 1 1 1 1 1 1 1 1 1 1 1 1 1 1 1 1 1 1 1 1 1 1 1]\n"
     ]
    },
    {
     "name": "stderr",
     "output_type": "stream",
     "text": [
      "/usr/local/lib/python3.7/site-packages/sklearn/utils/validation.py:761: DataConversionWarning: A column-vector y was passed when a 1d array was expected. Please change the shape of y to (n_samples, ), for example using ravel().\n",
      "  y = column_or_1d(y, warn=True)\n"
     ]
    },
    {
     "data": {
      "text/plain": [
       "[('apartment', False),\n",
       " ('house', False),\n",
       " ('sale', True),\n",
       " ('rent', True),\n",
       " ('number_of_whole_rooms', True),\n",
       " ('floor', True),\n",
       " ('number_of_half_rooms', True),\n",
       " ('furnish_furnished', True),\n",
       " ('furnish_partly_furnished', True),\n",
       " ('view_garden', True),\n",
       " ('view_panoramic', True),\n",
       " ('view_street', True),\n",
       " ('balcony', True),\n",
       " ('lift', True),\n",
       " ('air_conditioner', True),\n",
       " ('utility_double_comfort', True),\n",
       " ('heating_gas', True),\n",
       " ('heating_wall_heating', True),\n",
       " ('heating_combination', True),\n",
       " ('heating_ceiling', True),\n",
       " ('heating_central_heating', True),\n",
       " ('heating_electric', True),\n",
       " ('heating_floor', True),\n",
       " ('heating_circulating', True),\n",
       " ('heating_district', True),\n",
       " ('available_immediately', True),\n",
       " ('condition_of_property_renovated', True),\n",
       " ('attic_loft_conversion', True),\n",
       " ('parking', True)]"
      ]
     },
     "execution_count": 31,
     "metadata": {},
     "output_type": "execute_result"
    }
   ],
   "source": [
    "#Feature extraction\n",
    "#27\n",
    "my_model = LinearRegression()\n",
    "rfe = RFE(my_model, 27)\n",
    "fit = rfe.fit(X, y)\n",
    "\n",
    "features = ['apartment', 'house', 'sale', 'rent', 'number_of_whole_rooms', 'floor', 'number_of_half_rooms', 'furnish_furnished', 'furnish_partly_furnished', 'view_garden', 'view_panoramic', 'view_street', 'balcony', 'lift', 'air_conditioner', 'utility_double_comfort', 'heating_gas', 'heating_wall_heating', 'heating_combination', 'heating_ceiling', 'heating_central_heating', 'heating_electric', 'heating_floor', 'heating_circulating', 'heating_district', 'available_immediately', 'condition_of_property_renovated', 'attic_loft_conversion', 'parking']\n",
    "\n",
    "print('Num Features:', fit.n_features_)\n",
    "print('Feature Ranking', fit.ranking_)\n",
    "\n",
    "list(zip(features, fit.support_))\n"
   ]
  },
  {
   "cell_type": "code",
   "execution_count": null,
   "metadata": {},
   "outputs": [],
   "source": []
  }
 ],
 "metadata": {
  "kernelspec": {
   "display_name": "Python 3",
   "language": "python",
   "name": "python3"
  },
  "language_info": {
   "codemirror_mode": {
    "name": "ipython",
    "version": 3
   },
   "file_extension": ".py",
   "mimetype": "text/x-python",
   "name": "python",
   "nbconvert_exporter": "python",
   "pygments_lexer": "ipython3",
   "version": "3.7.0"
  }
 },
 "nbformat": 4,
 "nbformat_minor": 2
}
