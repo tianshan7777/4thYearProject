{
 "cells": [
  {
   "cell_type": "code",
   "execution_count": 38,
   "metadata": {},
   "outputs": [],
   "source": [
    "import pandas as pd\n",
    "from sklearn.model_selection import KFold\n",
    "from sklearn.preprocessing import MinMaxScaler\n",
    "#OLS\n",
    "from sklearn.linear_model import LinearRegression\n",
    "import numpy as np\n"
   ]
  },
  {
   "cell_type": "code",
   "execution_count": 44,
   "metadata": {},
   "outputs": [
    {
     "data": {
      "text/html": [
       "<div>\n",
       "<style scoped>\n",
       "    .dataframe tbody tr th:only-of-type {\n",
       "        vertical-align: middle;\n",
       "    }\n",
       "\n",
       "    .dataframe tbody tr th {\n",
       "        vertical-align: top;\n",
       "    }\n",
       "\n",
       "    .dataframe thead th {\n",
       "        text-align: right;\n",
       "    }\n",
       "</style>\n",
       "<table border=\"1\" class=\"dataframe\">\n",
       "  <thead>\n",
       "    <tr style=\"text-align: right;\">\n",
       "      <th></th>\n",
       "      <th>price_per_sqm</th>\n",
       "    </tr>\n",
       "  </thead>\n",
       "  <tbody>\n",
       "    <tr>\n",
       "      <th>count</th>\n",
       "      <td>11745.000000</td>\n",
       "    </tr>\n",
       "    <tr>\n",
       "      <th>mean</th>\n",
       "      <td>11.533021</td>\n",
       "    </tr>\n",
       "    <tr>\n",
       "      <th>std</th>\n",
       "      <td>4.163036</td>\n",
       "    </tr>\n",
       "    <tr>\n",
       "      <th>min</th>\n",
       "      <td>0.000000</td>\n",
       "    </tr>\n",
       "    <tr>\n",
       "      <th>25%</th>\n",
       "      <td>8.800000</td>\n",
       "    </tr>\n",
       "    <tr>\n",
       "      <th>50%</th>\n",
       "      <td>10.722222</td>\n",
       "    </tr>\n",
       "    <tr>\n",
       "      <th>75%</th>\n",
       "      <td>13.238682</td>\n",
       "    </tr>\n",
       "    <tr>\n",
       "      <th>max</th>\n",
       "      <td>55.487179</td>\n",
       "    </tr>\n",
       "  </tbody>\n",
       "</table>\n",
       "</div>"
      ],
      "text/plain": [
       "       price_per_sqm\n",
       "count   11745.000000\n",
       "mean       11.533021\n",
       "std         4.163036\n",
       "min         0.000000\n",
       "25%         8.800000\n",
       "50%        10.722222\n",
       "75%        13.238682\n",
       "max        55.487179"
      ]
     },
     "execution_count": 44,
     "metadata": {},
     "output_type": "execute_result"
    }
   ],
   "source": [
    "data = pd.read_csv('rent_clean.csv')\n",
    "data[['price_per_sqm']].describe()\n"
   ]
  },
  {
   "cell_type": "code",
   "execution_count": 70,
   "metadata": {},
   "outputs": [],
   "source": [
    "X = data[['apartment', 'rent', 'number_of_whole_rooms', 'number_of_half_rooms', 'floor', 'deposit_per_sqm', 'furnish_furnished', 'furnish_equipped', 'furnish_partly_furnished', 'furnish_empty', 'view_courtyard', 'view_courtyard_sunny', 'view_garden', 'view_square', 'view_panoramic', 'view_park', 'view_street', 'view_street_quiet', 'view_street_sunny', 'view_hill', 'utilities_fee_per_sqm', 'common_cost', 'balcony', 'parking', 'garage', 'lift', 'air_conditioner', 'heating_gas', 'heating_combination', 'heating_central_heating', 'heating_electric', 'heating_circulating', 'available_immediately', 'shortest_rental_period', 'children_welcomed', 'can_be_an_office', 'foreigners_welcomed', 'washing_machine', 'microwave', 'dish_washer', 'fridge', 'american_kitchen', 'condition_of_property_renovated', 'pet', 'reception']]\n",
    "y = data[['price_per_sqm']]\n",
    "\n",
    "X = X.fillna(0)\n",
    "y = y.fillna(0)\n"
   ]
  },
  {
   "cell_type": "code",
   "execution_count": 72,
   "metadata": {},
   "outputs": [
    {
     "name": "stdout",
     "output_type": "stream",
     "text": [
      "Train Index: [ 1178  1179  1180 ... 11768 11769 11770] \n",
      "\n",
      "Test Index: [   0    1    2 ... 1175 1176 1177]\n",
      "Train Index: [    0     1     2 ... 11768 11769 11770] \n",
      "\n",
      "Test Index: [1178 1179 1180 ... 2352 2353 2354]\n",
      "Train Index: [    0     1     2 ... 11768 11769 11770] \n",
      "\n",
      "Test Index: [2355 2356 2357 ... 3529 3530 3531]\n",
      "Train Index: [    0     1     2 ... 11768 11769 11770] \n",
      "\n",
      "Test Index: [3532 3533 3534 ... 4706 4707 4708]\n",
      "Train Index: [    0     1     2 ... 11768 11769 11770] \n",
      "\n",
      "Test Index: [4709 4710 4711 ... 5883 5884 5885]\n",
      "Train Index: [    0     1     2 ... 11768 11769 11770] \n",
      "\n",
      "Test Index: [5886 5887 5888 ... 7060 7061 7062]\n",
      "Train Index: [    0     1     2 ... 11768 11769 11770] \n",
      "\n",
      "Test Index: [7063 7064 7065 ... 8237 8238 8239]\n",
      "Train Index: [    0     1     2 ... 11768 11769 11770] \n",
      "\n",
      "Test Index: [8240 8241 8242 ... 9414 9415 9416]\n",
      "Train Index: [    0     1     2 ... 11768 11769 11770] \n",
      "\n",
      "Test Index: [ 9417  9418  9419 ... 10591 10592 10593]\n",
      "Train Index: [    0     1     2 ... 10591 10592 10593] \n",
      "\n",
      "Test Index: [10594 10595 10596 ... 11768 11769 11770]\n",
      "[0.024265835833870986, 0.08658871144445224, 0.23810500020940295, 0.12380209143416443, 0.13243548400058747, 0.07807396184734794, 0.11189447814941257, 0.11678697390354975, 0.12944636106658836, 0.22708072876186902]\n",
      "0.12684796266512458\n"
     ]
    }
   ],
   "source": [
    "scores = []\n",
    "cv = KFold(n_splits = 10, random_state = 42, shuffle = False)\n",
    "for train_index, test_index in cv.split(X):\n",
    "    print('Train Index:', train_index, '\\n')\n",
    "    print('Test Index:', test_index)\n",
    "    \n",
    "    X_train, X_test, y_train, y_test = X.iloc[train_index.tolist()], X.iloc[test_index], y.iloc[train_index], y.iloc[test_index]\n",
    "    my_model = LinearRegression().fit(X_train, y_train)\n",
    "    scores.append(my_model.score(X_test, y_test))\n",
    "\n",
    "print(scores)\n",
    "print(np.mean(scores))\n",
    "    \n",
    "    "
   ]
  },
  {
   "cell_type": "code",
   "execution_count": null,
   "metadata": {},
   "outputs": [],
   "source": []
  }
 ],
 "metadata": {
  "kernelspec": {
   "display_name": "Python 3",
   "language": "python",
   "name": "python3"
  },
  "language_info": {
   "codemirror_mode": {
    "name": "ipython",
    "version": 3
   },
   "file_extension": ".py",
   "mimetype": "text/x-python",
   "name": "python",
   "nbconvert_exporter": "python",
   "pygments_lexer": "ipython3",
   "version": "3.7.0"
  }
 },
 "nbformat": 4,
 "nbformat_minor": 2
}
