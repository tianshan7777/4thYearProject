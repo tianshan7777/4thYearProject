{
 "cells": [
  {
   "cell_type": "code",
   "execution_count": 14,
   "metadata": {},
   "outputs": [],
   "source": [
    "#Feature selected according to RFE\n",
    "\n",
    "import pandas as pd\n",
    "from sklearn.model_selection import KFold\n",
    "#OLS\n",
    "from sklearn.linear_model import LinearRegression\n",
    "import numpy as np\n",
    "from IPython.display import HTML, display\n",
    "import matplotlib.pyplot as plt\n",
    "%matplotlib inline\n",
    "\n"
   ]
  },
  {
   "cell_type": "code",
   "execution_count": 15,
   "metadata": {},
   "outputs": [
    {
     "name": "stderr",
     "output_type": "stream",
     "text": [
      "/usr/local/lib/python3.7/site-packages/IPython/core/interactiveshell.py:3020: DtypeWarning: Columns (39,50,108) have mixed types. Specify dtype option on import or set low_memory=False.\n",
      "  interactivity=interactivity, compiler=compiler, result=result)\n"
     ]
    }
   ],
   "source": [
    "data = pd.read_csv('rent_clean.csv')\n",
    "#data[['price_per_sqm']].describe()\n",
    "\n",
    "total_r2 = []\n",
    "total_adj_r2 = []\n"
   ]
  },
  {
   "cell_type": "code",
   "execution_count": 16,
   "metadata": {},
   "outputs": [],
   "source": [
    "test = data[['price_per_sqm', 'apartment', 'house', 'number_of_whole_rooms', 'floor', 'number_of_half_rooms', 'furnish_furnished', 'furnish_partly_furnished', 'view_garden', 'view_panoramic', 'view_street', 'balcony', 'lift', 'air_conditioner', 'utility_double_comfort', 'heating_gas', 'heating_wall_heating', 'heating_combination', 'heating_ceiling', 'heating_central_heating', 'heating_electric', 'heating_floor', 'heating_circulating', 'heating_district', 'available_immediately', 'condition_of_property_renovated', 'parking']]\n",
    "test = test.dropna()\n"
   ]
  },
  {
   "cell_type": "code",
   "execution_count": 17,
   "metadata": {},
   "outputs": [
    {
     "name": "stdout",
     "output_type": "stream",
     "text": [
      "R Square: -6.5053056583721665e+19 \n",
      "\n",
      "Adjusted R Square: -6.642370445339489e+19 \n",
      "\n"
     ]
    }
   ],
   "source": [
    "#With all 26 features\n",
    "X = test[['apartment', 'house', 'number_of_whole_rooms', 'floor', 'number_of_half_rooms', 'furnish_furnished', 'furnish_partly_furnished', 'view_garden', 'view_panoramic', 'view_street', 'balcony', 'lift', 'air_conditioner', 'utility_double_comfort', 'heating_gas', 'heating_wall_heating', 'heating_combination', 'heating_ceiling', 'heating_central_heating', 'heating_electric', 'heating_floor', 'heating_circulating', 'heating_district', 'available_immediately', 'condition_of_property_renovated', 'parking']]\n",
    "y = test[['price_per_sqm']]\n",
    "\n",
    "#10 fold\n",
    "scores = []\n",
    "cv = KFold(n_splits = 10, random_state = 42, shuffle = False)\n",
    "for train_index, test_index in cv.split(X):\n",
    "    #print('Train Index:', train_index, '\\n')\n",
    "    #print('Test Index:', test_index)\n",
    "    \n",
    "    X_train, X_test, y_train, y_test = X.iloc[train_index.tolist()], X.iloc[test_index], y.iloc[train_index], y.iloc[test_index]\n",
    "    my_model = LinearRegression().fit(X_train, y_train)\n",
    "    scores.append(my_model.score(X_test, y_test))\n",
    "\n",
    "r_square = np.mean(scores)\n",
    "adj_r = 1-(1-r_square)*(len(y)-1)/(len(y)-X.shape[1]-1)\n",
    "\n",
    "total_r2.append(r_square)\n",
    "total_adj_r2.append(adj_r)\n",
    "\n",
    "print('R Square:', r_square, '\\n')\n",
    "print('Adjusted R Square:', adj_r, '\\n')\n"
   ]
  },
  {
   "cell_type": "code",
   "execution_count": 18,
   "metadata": {
    "scrolled": false
   },
   "outputs": [
    {
     "name": "stdout",
     "output_type": "stream",
     "text": [
      "R Square: -4.966925184526299e+17 \n",
      "\n",
      "Adjusted R Square: -5.026767656629025e+17 \n",
      "\n"
     ]
    }
   ],
   "source": [
    "#With 15 features (rfe)\n",
    "X = test[['apartment','house','furnish_furnished','view_garden','view_panoramic','balcony','lift','air_conditioner','heating_gas','heating_wall_heating','heating_ceiling','heating_electric','heating_circulating','heating_district','parking']]\n",
    "y = test[['price_per_sqm']]\n",
    "\n",
    "#10 fold\n",
    "scores = []\n",
    "cv = KFold(n_splits = 10, random_state = 42, shuffle = False)\n",
    "for train_index, test_index in cv.split(X):\n",
    "    #print('Train Index:', train_index, '\\n')\n",
    "    #print('Test Index:', test_index)\n",
    "    \n",
    "    X_train, X_test, y_train, y_test = X.iloc[train_index.tolist()], X.iloc[test_index], y.iloc[train_index], y.iloc[test_index]\n",
    "    my_model = LinearRegression().fit(X_train, y_train)\n",
    "    scores.append(my_model.score(X_test, y_test))\n",
    "\n",
    "r_square = np.mean(scores)\n",
    "adj_r = 1-(1-r_square)*(len(y)-1)/(len(y)-X.shape[1]-1)\n",
    "\n",
    "total_r2.append(r_square)\n",
    "total_adj_r2.append(adj_r)\n",
    "\n",
    "print('R Square:', r_square, '\\n')\n",
    "print('Adjusted R Square:', adj_r, '\\n')\n",
    "\n"
   ]
  },
  {
   "cell_type": "code",
   "execution_count": 19,
   "metadata": {},
   "outputs": [
    {
     "name": "stdout",
     "output_type": "stream",
     "text": [
      "R Square: -6.677082593965386e+18 \n",
      "\n",
      "Adjusted R Square: -6.762961469772015e+18 \n",
      "\n"
     ]
    }
   ],
   "source": [
    "#16\n",
    "X = test[['apartment','house','furnish_furnished','view_garden','view_panoramic','balcony','lift','air_conditioner','heating_gas','heating_wall_heating','heating_ceiling','heating_electric','heating_circulating','heating_district','parking', 'heating_central_heating']]\n",
    "y = test[['price_per_sqm']]\n",
    "\n",
    "#10 fold\n",
    "scores = []\n",
    "cv = KFold(n_splits = 10, random_state = 42, shuffle = False)\n",
    "for train_index, test_index in cv.split(X):\n",
    "    #print('Train Index:', train_index, '\\n')\n",
    "    #print('Test Index:', test_index)\n",
    "    \n",
    "    X_train, X_test, y_train, y_test = X.iloc[train_index.tolist()], X.iloc[test_index], y.iloc[train_index], y.iloc[test_index]\n",
    "    my_model = LinearRegression().fit(X_train, y_train)\n",
    "    scores.append(my_model.score(X_test, y_test))\n",
    "\n",
    "r_square = np.mean(scores)\n",
    "adj_r = 1-(1-r_square)*(len(y)-1)/(len(y)-X.shape[1]-1)\n",
    "\n",
    "total_r2.append(r_square)\n",
    "total_adj_r2.append(adj_r)\n",
    "\n",
    "print('R Square:', r_square, '\\n')\n",
    "print('Adjusted R Square:', adj_r, '\\n')\n",
    "\n"
   ]
  },
  {
   "cell_type": "code",
   "execution_count": 20,
   "metadata": {},
   "outputs": [
    {
     "name": "stdout",
     "output_type": "stream",
     "text": [
      "R Square: -1.1250916590263302e+18 \n",
      "\n",
      "Adjusted R Square: -1.1404790751192083e+18 \n",
      "\n"
     ]
    }
   ],
   "source": [
    "#17\n",
    "X = test[['apartment','house','furnish_furnished','view_garden','view_panoramic','balcony','lift','air_conditioner','heating_gas','heating_wall_heating','heating_ceiling','heating_electric','heating_circulating','heating_district','parking', 'heating_central_heating', 'number_of_half_rooms']]\n",
    "y = test[['price_per_sqm']]\n",
    "\n",
    "#10 fold\n",
    "scores = []\n",
    "cv = KFold(n_splits = 10, random_state = 42, shuffle = False)\n",
    "for train_index, test_index in cv.split(X):\n",
    "    #print('Train Index:', train_index, '\\n')\n",
    "    #print('Test Index:', test_index)\n",
    "    \n",
    "    X_train, X_test, y_train, y_test = X.iloc[train_index.tolist()], X.iloc[test_index], y.iloc[train_index], y.iloc[test_index]\n",
    "    my_model = LinearRegression().fit(X_train, y_train)\n",
    "    scores.append(my_model.score(X_test, y_test))\n",
    "\n",
    "r_square = np.mean(scores)\n",
    "adj_r = 1-(1-r_square)*(len(y)-1)/(len(y)-X.shape[1]-1)\n",
    "\n",
    "total_r2.append(r_square)\n",
    "total_adj_r2.append(adj_r)\n",
    "\n",
    "print('R Square:', r_square, '\\n')\n",
    "print('Adjusted R Square:', adj_r, '\\n')\n",
    "\n"
   ]
  },
  {
   "cell_type": "code",
   "execution_count": 21,
   "metadata": {},
   "outputs": [
    {
     "name": "stdout",
     "output_type": "stream",
     "text": [
      "R Square: -1.5149214352854675e+19 \n",
      "\n",
      "Adjusted R Square: -1.536876818405547e+19 \n",
      "\n"
     ]
    }
   ],
   "source": [
    "#18\n",
    "X = test[['apartment','house','furnish_furnished','view_garden','view_panoramic','balcony','lift','air_conditioner','heating_gas','heating_wall_heating','heating_ceiling','heating_electric','heating_circulating','heating_district','parking', 'heating_central_heating', 'number_of_half_rooms', 'heating_combination']]\n",
    "y = test[['price_per_sqm']]\n",
    "\n",
    "#10 fold\n",
    "scores = []\n",
    "cv = KFold(n_splits = 10, random_state = 42, shuffle = False)\n",
    "for train_index, test_index in cv.split(X):\n",
    "    #print('Train Index:', train_index, '\\n')\n",
    "    #print('Test Index:', test_index)\n",
    "    \n",
    "    X_train, X_test, y_train, y_test = X.iloc[train_index.tolist()], X.iloc[test_index], y.iloc[train_index], y.iloc[test_index]\n",
    "    my_model = LinearRegression().fit(X_train, y_train)\n",
    "    scores.append(my_model.score(X_test, y_test))\n",
    "\n",
    "r_square = np.mean(scores)\n",
    "adj_r = 1-(1-r_square)*(len(y)-1)/(len(y)-X.shape[1]-1)\n",
    "\n",
    "total_r2.append(r_square)\n",
    "total_adj_r2.append(adj_r)\n",
    "\n",
    "print('R Square:', r_square, '\\n')\n",
    "print('Adjusted R Square:', adj_r, '\\n')\n",
    "\n"
   ]
  },
  {
   "cell_type": "code",
   "execution_count": 22,
   "metadata": {},
   "outputs": [
    {
     "name": "stdout",
     "output_type": "stream",
     "text": [
      "R Square: -3.646222139030756e+18 \n",
      "\n",
      "Adjusted R Square: -3.7020466520376735e+18 \n",
      "\n"
     ]
    }
   ],
   "source": [
    "#19\n",
    "X = test[['apartment','house','furnish_furnished','view_garden','view_panoramic','balcony','lift','air_conditioner','heating_gas','heating_wall_heating','heating_ceiling','heating_electric','heating_circulating','heating_district','parking', 'heating_central_heating', 'number_of_half_rooms', 'heating_combination', 'heating_floor']]\n",
    "y = test[['price_per_sqm']]\n",
    "\n",
    "#10 fold\n",
    "scores = []\n",
    "cv = KFold(n_splits = 10, random_state = 42, shuffle = False)\n",
    "for train_index, test_index in cv.split(X):\n",
    "    #print('Train Index:', train_index, '\\n')\n",
    "    #print('Test Index:', test_index)\n",
    "    \n",
    "    X_train, X_test, y_train, y_test = X.iloc[train_index.tolist()], X.iloc[test_index], y.iloc[train_index], y.iloc[test_index]\n",
    "    my_model = LinearRegression().fit(X_train, y_train)\n",
    "    scores.append(my_model.score(X_test, y_test))\n",
    "\n",
    "r_square = np.mean(scores)\n",
    "adj_r = 1-(1-r_square)*(len(y)-1)/(len(y)-X.shape[1]-1)\n",
    "\n",
    "total_r2.append(r_square)\n",
    "total_adj_r2.append(adj_r)\n",
    "\n",
    "print('R Square:', r_square, '\\n')\n",
    "print('Adjusted R Square:', adj_r, '\\n')\n",
    "\n"
   ]
  },
  {
   "cell_type": "code",
   "execution_count": 23,
   "metadata": {},
   "outputs": [
    {
     "name": "stdout",
     "output_type": "stream",
     "text": [
      "R Square: -1.2525358531393612e+19 \n",
      "\n",
      "Adjusted R Square: -1.2727380443190282e+19 \n",
      "\n"
     ]
    }
   ],
   "source": [
    "#20\n",
    "X = test[['apartment','house','furnish_furnished','view_garden','view_panoramic','balcony','lift','air_conditioner','heating_gas','heating_wall_heating','heating_ceiling','heating_electric','heating_circulating','heating_district','parking', 'heating_central_heating', 'number_of_half_rooms', 'heating_combination', 'heating_floor', 'available_immediately']]\n",
    "y = test[['price_per_sqm']]\n",
    "\n",
    "#10 fold\n",
    "scores = []\n",
    "cv = KFold(n_splits = 10, random_state = 42, shuffle = False)\n",
    "for train_index, test_index in cv.split(X):\n",
    "    #print('Train Index:', train_index, '\\n')\n",
    "    #print('Test Index:', test_index)\n",
    "    \n",
    "    X_train, X_test, y_train, y_test = X.iloc[train_index.tolist()], X.iloc[test_index], y.iloc[train_index], y.iloc[test_index]\n",
    "    my_model = LinearRegression().fit(X_train, y_train)\n",
    "    scores.append(my_model.score(X_test, y_test))\n",
    "\n",
    "r_square = np.mean(scores)\n",
    "adj_r = 1-(1-r_square)*(len(y)-1)/(len(y)-X.shape[1]-1)\n",
    "\n",
    "total_r2.append(r_square)\n",
    "total_adj_r2.append(adj_r)\n",
    "\n",
    "print('R Square:', r_square, '\\n')\n",
    "print('Adjusted R Square:', adj_r, '\\n')\n",
    "\n"
   ]
  },
  {
   "cell_type": "code",
   "execution_count": 24,
   "metadata": {},
   "outputs": [
    {
     "name": "stdout",
     "output_type": "stream",
     "text": [
      "R Square: -1.7500598240415635e+17 \n",
      "\n",
      "Adjusted R Square: -1.7797218549575222e+17 \n",
      "\n"
     ]
    }
   ],
   "source": [
    "#21\n",
    "X = test[['apartment','house','furnish_furnished','view_garden','view_panoramic','balcony','lift','air_conditioner','heating_gas','heating_wall_heating','heating_ceiling','heating_electric','heating_circulating','heating_district','parking', 'heating_central_heating', 'number_of_half_rooms', 'heating_combination', 'heating_floor', 'available_immediately', 'number_of_whole_rooms']]\n",
    "y = test[['price_per_sqm']]\n",
    "\n",
    "#10 fold\n",
    "scores = []\n",
    "cv = KFold(n_splits = 10, random_state = 42, shuffle = False)\n",
    "for train_index, test_index in cv.split(X):\n",
    "    #print('Train Index:', train_index, '\\n')\n",
    "    #print('Test Index:', test_index)\n",
    "    \n",
    "    X_train, X_test, y_train, y_test = X.iloc[train_index.tolist()], X.iloc[test_index], y.iloc[train_index], y.iloc[test_index]\n",
    "    my_model = LinearRegression().fit(X_train, y_train)\n",
    "    scores.append(my_model.score(X_test, y_test))\n",
    "\n",
    "r_square = np.mean(scores)\n",
    "adj_r = 1-(1-r_square)*(len(y)-1)/(len(y)-X.shape[1]-1)\n",
    "\n",
    "total_r2.append(r_square)\n",
    "total_adj_r2.append(adj_r)\n",
    "\n",
    "print('R Square:', r_square, '\\n')\n",
    "print('Adjusted R Square:', adj_r, '\\n')\n"
   ]
  },
  {
   "cell_type": "code",
   "execution_count": 25,
   "metadata": {},
   "outputs": [
    {
     "name": "stdout",
     "output_type": "stream",
     "text": [
      "R Square: -1.8060886974352726e+19 \n",
      "\n",
      "Adjusted R Square: -1.8381839731570627e+19 \n",
      "\n"
     ]
    }
   ],
   "source": [
    "#22\n",
    "X = test[['apartment','house','furnish_furnished','view_garden','view_panoramic','balcony','lift','air_conditioner','heating_gas','heating_wall_heating','heating_ceiling','heating_electric','heating_circulating','heating_district','parking', 'heating_central_heating', 'number_of_half_rooms', 'heating_combination', 'heating_floor', 'available_immediately', 'number_of_whole_rooms', 'utility_double_comfort']]\n",
    "y = test[['price_per_sqm']]\n",
    "\n",
    "#10 fold\n",
    "scores = []\n",
    "cv = KFold(n_splits = 10, random_state = 42, shuffle = False)\n",
    "for train_index, test_index in cv.split(X):\n",
    "    #print('Train Index:', train_index, '\\n')\n",
    "    #print('Test Index:', test_index)\n",
    "    \n",
    "    X_train, X_test, y_train, y_test = X.iloc[train_index.tolist()], X.iloc[test_index], y.iloc[train_index], y.iloc[test_index]\n",
    "    my_model = LinearRegression().fit(X_train, y_train)\n",
    "    scores.append(my_model.score(X_test, y_test))\n",
    "\n",
    "r_square = np.mean(scores)\n",
    "adj_r = 1-(1-r_square)*(len(y)-1)/(len(y)-X.shape[1]-1)\n",
    "\n",
    "total_r2.append(r_square)\n",
    "total_adj_r2.append(adj_r)\n",
    "\n",
    "print('R Square:', r_square, '\\n')\n",
    "print('Adjusted R Square:', adj_r, '\\n')\n"
   ]
  },
  {
   "cell_type": "code",
   "execution_count": 26,
   "metadata": {},
   "outputs": [
    {
     "name": "stdout",
     "output_type": "stream",
     "text": [
      "R Square: -3.363635184921522e+19 \n",
      "\n",
      "Adjusted R Square: -3.4261765020219224e+19 \n",
      "\n"
     ]
    }
   ],
   "source": [
    "#23\n",
    "X = test[['apartment','house','furnish_furnished','view_garden','view_panoramic','balcony','lift','air_conditioner','heating_gas','heating_wall_heating','heating_ceiling','heating_electric','heating_circulating','heating_district','parking', 'heating_central_heating', 'number_of_half_rooms', 'heating_combination', 'heating_floor', 'available_immediately', 'number_of_whole_rooms', 'utility_double_comfort', 'furnish_partly_furnished']]\n",
    "y = test[['price_per_sqm']]\n",
    "\n",
    "#10 fold\n",
    "scores = []\n",
    "cv = KFold(n_splits = 10, random_state = 42, shuffle = False)\n",
    "for train_index, test_index in cv.split(X):\n",
    "    #print('Train Index:', train_index, '\\n')\n",
    "    #print('Test Index:', test_index)\n",
    "    \n",
    "    X_train, X_test, y_train, y_test = X.iloc[train_index.tolist()], X.iloc[test_index], y.iloc[train_index], y.iloc[test_index]\n",
    "    my_model = LinearRegression().fit(X_train, y_train)\n",
    "    scores.append(my_model.score(X_test, y_test))\n",
    "\n",
    "r_square = np.mean(scores)\n",
    "adj_r = 1-(1-r_square)*(len(y)-1)/(len(y)-X.shape[1]-1)\n",
    "\n",
    "total_r2.append(r_square)\n",
    "total_adj_r2.append(adj_r)\n",
    "\n",
    "print('R Square:', r_square, '\\n')\n",
    "print('Adjusted R Square:', adj_r, '\\n')\n"
   ]
  },
  {
   "cell_type": "code",
   "execution_count": 27,
   "metadata": {},
   "outputs": [
    {
     "name": "stdout",
     "output_type": "stream",
     "text": [
      "R Square: -1.9309493647242555e+19 \n",
      "\n",
      "Adjusted R Square: -1.9684435271460856e+19 \n",
      "\n"
     ]
    }
   ],
   "source": [
    "#24\n",
    "X = test[['apartment','house','furnish_furnished','view_garden','view_panoramic','balcony','lift','air_conditioner','heating_gas','heating_wall_heating','heating_ceiling','heating_electric','heating_circulating','heating_district','parking', 'heating_central_heating', 'number_of_half_rooms', 'heating_combination', 'heating_floor', 'available_immediately', 'number_of_whole_rooms', 'utility_double_comfort', 'furnish_partly_furnished', 'condition_of_property_renovated']]\n",
    "y = test[['price_per_sqm']]\n",
    "\n",
    "#10 fold\n",
    "scores = []\n",
    "cv = KFold(n_splits = 10, random_state = 42, shuffle = False)\n",
    "for train_index, test_index in cv.split(X):\n",
    "    #print('Train Index:', train_index, '\\n')\n",
    "    #print('Test Index:', test_index)\n",
    "    \n",
    "    X_train, X_test, y_train, y_test = X.iloc[train_index.tolist()], X.iloc[test_index], y.iloc[train_index], y.iloc[test_index]\n",
    "    my_model = LinearRegression().fit(X_train, y_train)\n",
    "    scores.append(my_model.score(X_test, y_test))\n",
    "\n",
    "r_square = np.mean(scores)\n",
    "adj_r = 1-(1-r_square)*(len(y)-1)/(len(y)-X.shape[1]-1)\n",
    "\n",
    "total_r2.append(r_square)\n",
    "total_adj_r2.append(adj_r)\n",
    "\n",
    "print('R Square:', r_square, '\\n')\n",
    "print('Adjusted R Square:', adj_r, '\\n')\n"
   ]
  },
  {
   "cell_type": "code",
   "execution_count": 28,
   "metadata": {},
   "outputs": [
    {
     "name": "stdout",
     "output_type": "stream",
     "text": [
      "R Square: -1.2048868450546657e+18 \n",
      "\n",
      "Adjusted R Square: -1.2292772670193352e+18 \n",
      "\n"
     ]
    }
   ],
   "source": [
    "#25\n",
    "X = test[['apartment','house','furnish_furnished','view_garden','view_panoramic','balcony','lift','air_conditioner','heating_gas','heating_wall_heating','heating_ceiling','heating_electric','heating_circulating','heating_district','parking', 'heating_central_heating', 'number_of_half_rooms', 'heating_combination', 'heating_floor', 'available_immediately', 'number_of_whole_rooms', 'utility_double_comfort', 'furnish_partly_furnished', 'condition_of_property_renovated', 'floor']]\n",
    "y = test[['price_per_sqm']]\n",
    "\n",
    "#10 fold\n",
    "scores = []\n",
    "cv = KFold(n_splits = 10, random_state = 42, shuffle = False)\n",
    "for train_index, test_index in cv.split(X):\n",
    "    #print('Train Index:', train_index, '\\n')\n",
    "    #print('Test Index:', test_index)\n",
    "    \n",
    "    X_train, X_test, y_train, y_test = X.iloc[train_index.tolist()], X.iloc[test_index], y.iloc[train_index], y.iloc[test_index]\n",
    "    my_model = LinearRegression().fit(X_train, y_train)\n",
    "    scores.append(my_model.score(X_test, y_test))\n",
    "\n",
    "r_square = np.mean(scores)\n",
    "adj_r = 1-(1-r_square)*(len(y)-1)/(len(y)-X.shape[1]-1)\n",
    "\n",
    "total_r2.append(r_square)\n",
    "total_adj_r2.append(adj_r)\n",
    "\n",
    "print('R Square:', r_square, '\\n')\n",
    "print('Adjusted R Square:', adj_r, '\\n')\n"
   ]
  },
  {
   "cell_type": "code",
   "execution_count": 29,
   "metadata": {},
   "outputs": [
    {
     "name": "stdout",
     "output_type": "stream",
     "text": [
      "-1.7500598240415635e+17\n"
     ]
    }
   ],
   "source": [
    "print(max(total_r2))\n"
   ]
  },
  {
   "cell_type": "code",
   "execution_count": 30,
   "metadata": {},
   "outputs": [
    {
     "name": "stdout",
     "output_type": "stream",
     "text": [
      "-1.7797218549575222e+17\n"
     ]
    }
   ],
   "source": [
    "print(max(total_adj_r2))\n"
   ]
  },
  {
   "cell_type": "code",
   "execution_count": null,
   "metadata": {},
   "outputs": [],
   "source": []
  }
 ],
 "metadata": {
  "kernelspec": {
   "display_name": "Python 3",
   "language": "python",
   "name": "python3"
  },
  "language_info": {
   "codemirror_mode": {
    "name": "ipython",
    "version": 3
   },
   "file_extension": ".py",
   "mimetype": "text/x-python",
   "name": "python",
   "nbconvert_exporter": "python",
   "pygments_lexer": "ipython3",
   "version": "3.7.0"
  }
 },
 "nbformat": 4,
 "nbformat_minor": 2
}
