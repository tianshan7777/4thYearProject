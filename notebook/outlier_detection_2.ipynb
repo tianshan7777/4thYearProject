{
 "cells": [
  {
   "cell_type": "code",
   "execution_count": 2,
   "metadata": {},
   "outputs": [],
   "source": [
    "#Outlier detection for additional information\n",
    "\n",
    "import pandas as pd\n",
    "import numpy as np\n",
    "import seaborn as sns\n",
    "import matplotlib.pyplot as plt\n"
   ]
  },
  {
   "cell_type": "code",
   "execution_count": 4,
   "metadata": {},
   "outputs": [
    {
     "name": "stderr",
     "output_type": "stream",
     "text": [
      "/usr/local/lib/python3.7/site-packages/IPython/core/interactiveshell.py:3020: DtypeWarning: Columns (39,50,108) have mixed types. Specify dtype option on import or set low_memory=False.\n",
      "  interactivity=interactivity, compiler=compiler, result=result)\n"
     ]
    },
    {
     "data": {
      "text/html": [
       "<div>\n",
       "<style scoped>\n",
       "    .dataframe tbody tr th:only-of-type {\n",
       "        vertical-align: middle;\n",
       "    }\n",
       "\n",
       "    .dataframe tbody tr th {\n",
       "        vertical-align: top;\n",
       "    }\n",
       "\n",
       "    .dataframe thead th {\n",
       "        text-align: right;\n",
       "    }\n",
       "</style>\n",
       "<table border=\"1\" class=\"dataframe\">\n",
       "  <thead>\n",
       "    <tr style=\"text-align: right;\">\n",
       "      <th></th>\n",
       "      <th>id</th>\n",
       "      <th>web_alberlet</th>\n",
       "      <th>web_ingatlan</th>\n",
       "      <th>web_tower</th>\n",
       "      <th>apartment</th>\n",
       "      <th>house</th>\n",
       "      <th>sale</th>\n",
       "      <th>rent</th>\n",
       "      <th>price_per_month</th>\n",
       "      <th>size(sqm)</th>\n",
       "      <th>...</th>\n",
       "      <th>orientation_northeast</th>\n",
       "      <th>orientation_northwest</th>\n",
       "      <th>orientation_southwest</th>\n",
       "      <th>orientation_southeast</th>\n",
       "      <th>garden_access</th>\n",
       "      <th>garden_AC</th>\n",
       "      <th>attic</th>\n",
       "      <th>attic_loft_conversion</th>\n",
       "      <th>attic_penthouse</th>\n",
       "      <th>attic_topfloor</th>\n",
       "    </tr>\n",
       "  </thead>\n",
       "  <tbody>\n",
       "    <tr>\n",
       "      <th>0</th>\n",
       "      <td>0</td>\n",
       "      <td>1.0</td>\n",
       "      <td>0.0</td>\n",
       "      <td>0.0</td>\n",
       "      <td>1</td>\n",
       "      <td>0</td>\n",
       "      <td>0</td>\n",
       "      <td>1</td>\n",
       "      <td>386</td>\n",
       "      <td>35</td>\n",
       "      <td>...</td>\n",
       "      <td>NaN</td>\n",
       "      <td>NaN</td>\n",
       "      <td>NaN</td>\n",
       "      <td>NaN</td>\n",
       "      <td>NaN</td>\n",
       "      <td>NaN</td>\n",
       "      <td>NaN</td>\n",
       "      <td>NaN</td>\n",
       "      <td>NaN</td>\n",
       "      <td>NaN</td>\n",
       "    </tr>\n",
       "    <tr>\n",
       "      <th>1</th>\n",
       "      <td>1</td>\n",
       "      <td>1.0</td>\n",
       "      <td>0.0</td>\n",
       "      <td>0.0</td>\n",
       "      <td>1</td>\n",
       "      <td>0</td>\n",
       "      <td>0</td>\n",
       "      <td>1</td>\n",
       "      <td>773</td>\n",
       "      <td>56</td>\n",
       "      <td>...</td>\n",
       "      <td>NaN</td>\n",
       "      <td>NaN</td>\n",
       "      <td>NaN</td>\n",
       "      <td>NaN</td>\n",
       "      <td>NaN</td>\n",
       "      <td>NaN</td>\n",
       "      <td>NaN</td>\n",
       "      <td>NaN</td>\n",
       "      <td>NaN</td>\n",
       "      <td>NaN</td>\n",
       "    </tr>\n",
       "    <tr>\n",
       "      <th>2</th>\n",
       "      <td>2</td>\n",
       "      <td>1.0</td>\n",
       "      <td>0.0</td>\n",
       "      <td>0.0</td>\n",
       "      <td>1</td>\n",
       "      <td>0</td>\n",
       "      <td>0</td>\n",
       "      <td>1</td>\n",
       "      <td>464</td>\n",
       "      <td>53</td>\n",
       "      <td>...</td>\n",
       "      <td>NaN</td>\n",
       "      <td>NaN</td>\n",
       "      <td>NaN</td>\n",
       "      <td>NaN</td>\n",
       "      <td>NaN</td>\n",
       "      <td>NaN</td>\n",
       "      <td>NaN</td>\n",
       "      <td>NaN</td>\n",
       "      <td>NaN</td>\n",
       "      <td>NaN</td>\n",
       "    </tr>\n",
       "    <tr>\n",
       "      <th>3</th>\n",
       "      <td>3</td>\n",
       "      <td>1.0</td>\n",
       "      <td>0.0</td>\n",
       "      <td>0.0</td>\n",
       "      <td>1</td>\n",
       "      <td>0</td>\n",
       "      <td>0</td>\n",
       "      <td>1</td>\n",
       "      <td>835</td>\n",
       "      <td>75</td>\n",
       "      <td>...</td>\n",
       "      <td>NaN</td>\n",
       "      <td>NaN</td>\n",
       "      <td>NaN</td>\n",
       "      <td>NaN</td>\n",
       "      <td>NaN</td>\n",
       "      <td>NaN</td>\n",
       "      <td>NaN</td>\n",
       "      <td>NaN</td>\n",
       "      <td>NaN</td>\n",
       "      <td>NaN</td>\n",
       "    </tr>\n",
       "    <tr>\n",
       "      <th>4</th>\n",
       "      <td>4</td>\n",
       "      <td>1.0</td>\n",
       "      <td>0.0</td>\n",
       "      <td>0.0</td>\n",
       "      <td>1</td>\n",
       "      <td>0</td>\n",
       "      <td>0</td>\n",
       "      <td>1</td>\n",
       "      <td>773</td>\n",
       "      <td>69</td>\n",
       "      <td>...</td>\n",
       "      <td>NaN</td>\n",
       "      <td>NaN</td>\n",
       "      <td>NaN</td>\n",
       "      <td>NaN</td>\n",
       "      <td>NaN</td>\n",
       "      <td>NaN</td>\n",
       "      <td>NaN</td>\n",
       "      <td>NaN</td>\n",
       "      <td>NaN</td>\n",
       "      <td>NaN</td>\n",
       "    </tr>\n",
       "  </tbody>\n",
       "</table>\n",
       "<p>5 rows × 236 columns</p>\n",
       "</div>"
      ],
      "text/plain": [
       "   id  web_alberlet  web_ingatlan  web_tower  apartment  house  sale  rent  \\\n",
       "0   0           1.0           0.0        0.0          1      0     0     1   \n",
       "1   1           1.0           0.0        0.0          1      0     0     1   \n",
       "2   2           1.0           0.0        0.0          1      0     0     1   \n",
       "3   3           1.0           0.0        0.0          1      0     0     1   \n",
       "4   4           1.0           0.0        0.0          1      0     0     1   \n",
       "\n",
       "   price_per_month  size(sqm)       ...        orientation_northeast  \\\n",
       "0              386         35       ...                          NaN   \n",
       "1              773         56       ...                          NaN   \n",
       "2              464         53       ...                          NaN   \n",
       "3              835         75       ...                          NaN   \n",
       "4              773         69       ...                          NaN   \n",
       "\n",
       "   orientation_northwest  orientation_southwest  orientation_southeast  \\\n",
       "0                    NaN                    NaN                    NaN   \n",
       "1                    NaN                    NaN                    NaN   \n",
       "2                    NaN                    NaN                    NaN   \n",
       "3                    NaN                    NaN                    NaN   \n",
       "4                    NaN                    NaN                    NaN   \n",
       "\n",
       "   garden_access  garden_AC  attic  attic_loft_conversion  attic_penthouse  \\\n",
       "0            NaN        NaN    NaN                    NaN              NaN   \n",
       "1            NaN        NaN    NaN                    NaN              NaN   \n",
       "2            NaN        NaN    NaN                    NaN              NaN   \n",
       "3            NaN        NaN    NaN                    NaN              NaN   \n",
       "4            NaN        NaN    NaN                    NaN              NaN   \n",
       "\n",
       "   attic_topfloor  \n",
       "0             NaN  \n",
       "1             NaN  \n",
       "2             NaN  \n",
       "3             NaN  \n",
       "4             NaN  \n",
       "\n",
       "[5 rows x 236 columns]"
      ]
     },
     "execution_count": 4,
     "metadata": {},
     "output_type": "execute_result"
    }
   ],
   "source": [
    "data = pd.read_csv('rent_clean.csv')\n",
    "data.head()\n"
   ]
  },
  {
   "cell_type": "code",
   "execution_count": 5,
   "metadata": {},
   "outputs": [],
   "source": [
    "data_apa = data[data['apartment'] != 0]\n",
    "data_house = data[data['house'] != 0]\n"
   ]
  },
  {
   "cell_type": "code",
   "execution_count": 118,
   "metadata": {},
   "outputs": [
    {
     "name": "stdout",
     "output_type": "stream",
     "text": [
      "9.873887686366187\n",
      "-5.659972131188207\n"
     ]
    }
   ],
   "source": [
    "upper_threshold = data['tourism_apartment'].mean() + 3 * data_apa['tourism_apartment'].mad()\n",
    "lower_threshold = data['tourism_apartment'].mean() - 3 * data_apa['tourism_apartment'].mad()\n",
    "\n",
    "print(upper_threshold)\n",
    "print(lower_threshold)\n"
   ]
  },
  {
   "cell_type": "code",
   "execution_count": 83,
   "metadata": {},
   "outputs": [
    {
     "name": "stdout",
     "output_type": "stream",
     "text": [
      "52.72927562827915\n",
      "-29.48893920826385\n"
     ]
    }
   ],
   "source": [
    "upper_threshold = data['tourism_attraction'].mean() + 3 * data_apa['tourism_attraction'].mad()\n",
    "lower_threshold = data['tourism_attraction'].mean() - 3 * data_apa['tourism_attraction'].mad()\n",
    "\n",
    "print(upper_threshold)\n",
    "print(lower_threshold)\n"
   ]
  },
  {
   "cell_type": "code",
   "execution_count": 84,
   "metadata": {},
   "outputs": [
    {
     "name": "stdout",
     "output_type": "stream",
     "text": [
      "31.95343941462815\n",
      "-15.308634385318827\n"
     ]
    }
   ],
   "source": [
    "upper_threshold = data['tourism_gallery'].mean() + 3 * data['tourism_gallery'].mad()\n",
    "lower_threshold = data['tourism_gallery'].mean() - 3 * data['tourism_gallery'].mad()\n",
    "\n",
    "print(upper_threshold)\n",
    "print(lower_threshold)\n"
   ]
  },
  {
   "cell_type": "code",
   "execution_count": 85,
   "metadata": {},
   "outputs": [
    {
     "name": "stdout",
     "output_type": "stream",
     "text": [
      "9.311298945676585\n",
      "-5.139860665156663\n"
     ]
    }
   ],
   "source": [
    "upper_threshold = data['tourism_guest_house'].mean() + 3 * data['tourism_guest_house'].mad()\n",
    "lower_threshold = data['tourism_guest_house'].mean() - 3 * data['tourism_guest_house'].mad()\n",
    "\n",
    "print(upper_threshold)\n",
    "print(lower_threshold)\n"
   ]
  },
  {
   "cell_type": "code",
   "execution_count": 86,
   "metadata": {},
   "outputs": [
    {
     "name": "stdout",
     "output_type": "stream",
     "text": [
      "28.38255221927936\n",
      "-15.618640911828848\n"
     ]
    }
   ],
   "source": [
    "upper_threshold = data['tourism_hostel'].mean() + 3 * data['tourism_hostel'].mad()\n",
    "lower_threshold = data['tourism_hostel'].mean() - 3 * data['tourism_hostel'].mad()\n",
    "\n",
    "print(upper_threshold)\n",
    "print(lower_threshold)\n"
   ]
  },
  {
   "cell_type": "code",
   "execution_count": 87,
   "metadata": {},
   "outputs": [
    {
     "name": "stdout",
     "output_type": "stream",
     "text": [
      "69.34367617742143\n",
      "-34.67933160176941\n"
     ]
    }
   ],
   "source": [
    "upper_threshold = data['tourism_hotel'].mean() + 3 * data['tourism_hotel'].mad()\n",
    "lower_threshold = data['tourism_hotel'].mean() - 3 * data['tourism_hotel'].mad()\n",
    "\n",
    "print(upper_threshold)\n",
    "print(lower_threshold)\n"
   ]
  },
  {
   "cell_type": "code",
   "execution_count": 88,
   "metadata": {},
   "outputs": [
    {
     "name": "stdout",
     "output_type": "stream",
     "text": [
      "38.06991480100156\n",
      "-19.494092865736928\n"
     ]
    }
   ],
   "source": [
    "upper_threshold = data['tourism_information'].mean() + 3 * data['tourism_information'].mad()\n",
    "lower_threshold = data['tourism_information'].mean() - 3 * data['tourism_information'].mad()\n",
    "\n",
    "print(upper_threshold)\n",
    "print(lower_threshold)\n"
   ]
  },
  {
   "cell_type": "code",
   "execution_count": 89,
   "metadata": {},
   "outputs": [
    {
     "name": "stdout",
     "output_type": "stream",
     "text": [
      "24.414919440663173\n",
      "-11.25766856987904\n"
     ]
    }
   ],
   "source": [
    "upper_threshold = data['tourism_museum'].mean() + 3 * data['tourism_museum'].mad()\n",
    "lower_threshold = data['tourism_museum'].mean() - 3 * data['tourism_museum'].mad()\n",
    "\n",
    "print(upper_threshold)\n",
    "print(lower_threshold)\n"
   ]
  },
  {
   "cell_type": "code",
   "execution_count": 90,
   "metadata": {},
   "outputs": [
    {
     "name": "stdout",
     "output_type": "stream",
     "text": [
      "85.86160331586461\n",
      "-36.865256361485216\n"
     ]
    }
   ],
   "source": [
    "upper_threshold = data['shop_beauty'].mean() + 3 * data['shop_beauty'].mad()\n",
    "lower_threshold = data['shop_beauty'].mean() - 3 * data['shop_beauty'].mad()\n",
    "\n",
    "print(upper_threshold)\n",
    "print(lower_threshold)\n"
   ]
  },
  {
   "cell_type": "code",
   "execution_count": 91,
   "metadata": {},
   "outputs": [
    {
     "name": "stdout",
     "output_type": "stream",
     "text": [
      "118.86563364455932\n",
      "-59.40849321468931\n"
     ]
    }
   ],
   "source": [
    "upper_threshold = data['shop_clothing_shoes_accessories'].mean() + 3 * data['shop_clothing_shoes_accessories'].mad()\n",
    "lower_threshold = data['shop_clothing_shoes_accessories'].mean() - 3 * data['shop_clothing_shoes_accessories'].mad()\n",
    "\n",
    "print(upper_threshold)\n",
    "print(lower_threshold)\n"
   ]
  },
  {
   "cell_type": "code",
   "execution_count": 92,
   "metadata": {},
   "outputs": [
    {
     "name": "stdout",
     "output_type": "stream",
     "text": [
      "4.453410722349602\n",
      "-2.266340804755515\n"
     ]
    }
   ],
   "source": [
    "upper_threshold = data['shop_convenience_shop'].mean() + 3 * data['shop_convenience_shop'].mad()\n",
    "lower_threshold = data['shop_convenience_shop'].mean() - 3 * data['shop_convenience_shop'].mad()\n",
    "\n",
    "print(upper_threshold)\n",
    "print(lower_threshold)\n"
   ]
  },
  {
   "cell_type": "code",
   "execution_count": 93,
   "metadata": {},
   "outputs": [
    {
     "name": "stdout",
     "output_type": "stream",
     "text": [
      "2.127195624200537\n",
      "-1.3461234977881678\n"
     ]
    }
   ],
   "source": [
    "upper_threshold = data['shop_department_store'].mean() + 3 * data['shop_department_store'].mad()\n",
    "lower_threshold = data['shop_department_store'].mean() - 3 * data['shop_department_store'].mad()\n",
    "\n",
    "print(upper_threshold)\n",
    "print(lower_threshold)\n"
   ]
  },
  {
   "cell_type": "code",
   "execution_count": 94,
   "metadata": {},
   "outputs": [
    {
     "name": "stdout",
     "output_type": "stream",
     "text": [
      "7.163978309748877\n",
      "-3.453843232015464\n"
     ]
    }
   ],
   "source": [
    "upper_threshold = data['shop_discount_store_charity'].mean() + 3 * data['shop_discount_store_charity'].mad()\n",
    "lower_threshold = data['shop_discount_store_charity'].mean() - 3 * data['shop_discount_store_charity'].mad()\n",
    "\n",
    "print(upper_threshold)\n",
    "print(lower_threshold)\n"
   ]
  },
  {
   "cell_type": "code",
   "execution_count": 95,
   "metadata": {},
   "outputs": [
    {
     "name": "stdout",
     "output_type": "stream",
     "text": [
      "168.70308785572806\n",
      "-62.062190735687274\n"
     ]
    }
   ],
   "source": [
    "upper_threshold = data['shop_food_beverages'].mean() + 3 * data['shop_food_beverages'].mad()\n",
    "lower_threshold = data['shop_food_beverages'].mean() - 3 * data['shop_food_beverages'].mad()\n",
    "\n",
    "print(upper_threshold)\n",
    "print(lower_threshold)\n"
   ]
  },
  {
   "cell_type": "code",
   "execution_count": 96,
   "metadata": {},
   "outputs": [
    {
     "name": "stdout",
     "output_type": "stream",
     "text": [
      "18.762555715471937\n",
      "-8.451791974073583\n"
     ]
    }
   ],
   "source": [
    "upper_threshold = data['shop_health'].mean() + 3 * data['shop_health'].mad()\n",
    "lower_threshold = data['shop_health'].mean() - 3 * data['shop_health'].mad()\n",
    "\n",
    "print(upper_threshold)\n",
    "print(lower_threshold)\n"
   ]
  },
  {
   "cell_type": "code",
   "execution_count": 97,
   "metadata": {},
   "outputs": [
    {
     "name": "stdout",
     "output_type": "stream",
     "text": [
      "3.73463017861436\n",
      "-1.865290275462546\n"
     ]
    }
   ],
   "source": [
    "upper_threshold = data['shop_laundry'].mean() + 3 * data['shop_laundry'].mad()\n",
    "lower_threshold = data['shop_laundry'].mean() - 3 * data['shop_laundry'].mad()\n",
    "\n",
    "print(upper_threshold)\n",
    "print(lower_threshold)\n"
   ]
  },
  {
   "cell_type": "code",
   "execution_count": 98,
   "metadata": {},
   "outputs": [
    {
     "name": "stdout",
     "output_type": "stream",
     "text": [
      "6.15292849503835\n",
      "-3.0782534461894846\n"
     ]
    }
   ],
   "source": [
    "upper_threshold = data['shop_mall'].mean() + 3 * data['shop_mall'].mad()\n",
    "lower_threshold = data['shop_mall'].mean() - 3 * data['shop_mall'].mad()\n",
    "\n",
    "print(upper_threshold)\n",
    "print(lower_threshold)\n"
   ]
  },
  {
   "cell_type": "code",
   "execution_count": 99,
   "metadata": {},
   "outputs": [
    {
     "name": "stdout",
     "output_type": "stream",
     "text": [
      "83.49706375613387\n",
      "-38.99889027894416\n"
     ]
    }
   ],
   "source": [
    "upper_threshold = data['shop_stationery_gifts_books_newspapers'].mean() + 3 * data['shop_stationery_gifts_books_newspapers'].mad()\n",
    "lower_threshold = data['shop_stationery_gifts_books_newspapers'].mean() - 3 * data['shop_stationery_gifts_books_newspapers'].mad()\n",
    "\n",
    "print(upper_threshold)\n",
    "print(lower_threshold)\n"
   ]
  },
  {
   "cell_type": "code",
   "execution_count": 100,
   "metadata": {},
   "outputs": [
    {
     "name": "stdout",
     "output_type": "stream",
     "text": [
      "27.06968732691395\n",
      "-7.695802355373724\n"
     ]
    }
   ],
   "source": [
    "upper_threshold = data['shop_supermarket'].mean() + 3 * data['shop_supermarket'].mad()\n",
    "lower_threshold = data['shop_supermarket'].mean() - 3 * data['shop_supermarket'].mad()\n",
    "\n",
    "print(upper_threshold)\n",
    "print(lower_threshold)\n"
   ]
  },
  {
   "cell_type": "code",
   "execution_count": 101,
   "metadata": {},
   "outputs": [
    {
     "name": "stdout",
     "output_type": "stream",
     "text": [
      "12.875956910584907\n",
      "-7.2713353831021115\n"
     ]
    }
   ],
   "source": [
    "upper_threshold = data['shop_travel_agency'].mean() + 3 * data['shop_travel_agency'].mad()\n",
    "lower_threshold = data['shop_travel_agency'].mean() - 3 * data['shop_travel_agency'].mad()\n",
    "\n",
    "print(upper_threshold)\n",
    "print(lower_threshold)\n"
   ]
  },
  {
   "cell_type": "code",
   "execution_count": 102,
   "metadata": {},
   "outputs": [
    {
     "name": "stdout",
     "output_type": "stream",
     "text": [
      "9.29162529513875\n",
      "-4.194012517974534\n"
     ]
    }
   ],
   "source": [
    "upper_threshold = data['metro_station'].mean() + 3 * data['metro_station'].mad()\n",
    "lower_threshold = data['metro_station'].mean() - 3 * data['metro_station'].mad()\n",
    "\n",
    "print(upper_threshold)\n",
    "print(lower_threshold)\n"
   ]
  },
  {
   "cell_type": "code",
   "execution_count": 103,
   "metadata": {},
   "outputs": [
    {
     "name": "stdout",
     "output_type": "stream",
     "text": [
      "3.2197222069236027\n",
      "-1.9029266925238069\n"
     ]
    }
   ],
   "source": [
    "upper_threshold = data['leisure_dance'].mean() + 3 * data['leisure_dance'].mad()\n",
    "lower_threshold = data['leisure_dance'].mean() - 3 * data['leisure_dance'].mad()\n",
    "\n",
    "print(upper_threshold)\n",
    "print(lower_threshold)\n"
   ]
  },
  {
   "cell_type": "code",
   "execution_count": 104,
   "metadata": {},
   "outputs": [
    {
     "name": "stdout",
     "output_type": "stream",
     "text": [
      "13.536669132545054\n",
      "-4.411531081402416\n"
     ]
    }
   ],
   "source": [
    "upper_threshold = data['leisure_dog_park'].mean() + 3 * data['leisure_dog_park'].mad()\n",
    "lower_threshold = data['leisure_dog_park'].mean() - 3 * data['leisure_dog_park'].mad()\n",
    "\n",
    "print(upper_threshold)\n",
    "print(lower_threshold)\n"
   ]
  },
  {
   "cell_type": "code",
   "execution_count": 105,
   "metadata": {},
   "outputs": [
    {
     "name": "stdout",
     "output_type": "stream",
     "text": [
      "5.322750495590458\n",
      "-2.1687278976803395\n"
     ]
    }
   ],
   "source": [
    "upper_threshold = data['leisure_fitness_centre'].mean() + 3 * data['leisure_fitness_centre'].mad()\n",
    "lower_threshold = data['leisure_fitness_centre'].mean() - 3 * data['leisure_fitness_centre'].mad()\n",
    "\n",
    "print(upper_threshold)\n",
    "print(lower_threshold)\n"
   ]
  },
  {
   "cell_type": "code",
   "execution_count": 106,
   "metadata": {},
   "outputs": [
    {
     "name": "stdout",
     "output_type": "stream",
     "text": [
      "4.652037735293735\n",
      "-2.137722893733969\n"
     ]
    }
   ],
   "source": [
    "upper_threshold = data['leisure_fitness_station'].mean() + 3 * data['leisure_fitness_station'].mad()\n",
    "lower_threshold = data['leisure_fitness_station'].mean() - 3 * data['leisure_fitness_station'].mad()\n",
    "\n",
    "print(upper_threshold)\n",
    "print(lower_threshold)\n"
   ]
  },
  {
   "cell_type": "code",
   "execution_count": 107,
   "metadata": {},
   "outputs": [
    {
     "name": "stdout",
     "output_type": "stream",
     "text": [
      "22.756443780192072\n",
      "-11.063639430519146\n"
     ]
    }
   ],
   "source": [
    "upper_threshold = data['leisure_garden'].mean() + 3 * data['leisure_garden'].mad()\n",
    "lower_threshold = data['leisure_garden'].mean() - 3 * data['leisure_garden'].mad()\n",
    "\n",
    "print(upper_threshold)\n",
    "print(lower_threshold)\n"
   ]
  },
  {
   "cell_type": "code",
   "execution_count": 108,
   "metadata": {},
   "outputs": [
    {
     "name": "stdout",
     "output_type": "stream",
     "text": [
      "2.239170461949149\n",
      "-1.4844342458247755\n"
     ]
    }
   ],
   "source": [
    "upper_threshold = data['leisure_nature_reserve'].mean() + 3 * data['leisure_nature_reserve'].mad()\n",
    "lower_threshold = data['leisure_nature_reserve'].mean() - 3 * data['leisure_nature_reserve'].mad()\n",
    "\n",
    "print(upper_threshold)\n",
    "print(lower_threshold)\n"
   ]
  },
  {
   "cell_type": "code",
   "execution_count": 109,
   "metadata": {},
   "outputs": [
    {
     "name": "stdout",
     "output_type": "stream",
     "text": [
      "39.92582078519179\n",
      "-9.966429059764891\n"
     ]
    }
   ],
   "source": [
    "upper_threshold = data['leisure_park'].mean() + 3 * data['leisure_park'].mad()\n",
    "lower_threshold = data['leisure_park'].mean() - 3 * data['leisure_park'].mad()\n",
    "\n",
    "print(upper_threshold)\n",
    "print(lower_threshold)\n"
   ]
  },
  {
   "cell_type": "code",
   "execution_count": 110,
   "metadata": {},
   "outputs": [
    {
     "name": "stdout",
     "output_type": "stream",
     "text": [
      "30.420230077936257\n",
      "-9.670251316573587\n"
     ]
    }
   ],
   "source": [
    "upper_threshold = data['leisure_pitch'].mean() + 3 * data['leisure_pitch'].mad()\n",
    "lower_threshold = data['leisure_pitch'].mean() - 3 * data['leisure_pitch'].mad()\n",
    "\n",
    "print(upper_threshold)\n",
    "print(lower_threshold)\n"
   ]
  },
  {
   "cell_type": "code",
   "execution_count": 111,
   "metadata": {},
   "outputs": [
    {
     "name": "stdout",
     "output_type": "stream",
     "text": [
      "28.540360328683676\n",
      "-5.378691821335105\n"
     ]
    }
   ],
   "source": [
    "upper_threshold = data['leisure_playground'].mean() + 3 * data['leisure_playground'].mad()\n",
    "lower_threshold = data['leisure_playground'].mean() - 3 * data['leisure_playground'].mad()\n",
    "\n",
    "print(upper_threshold)\n",
    "print(lower_threshold)\n"
   ]
  },
  {
   "cell_type": "code",
   "execution_count": 112,
   "metadata": {},
   "outputs": [
    {
     "name": "stdout",
     "output_type": "stream",
     "text": [
      "11.18986220207547\n",
      "-3.4056467573384057\n"
     ]
    }
   ],
   "source": [
    "upper_threshold = data['leisure_sports_centre'].mean() + 3 * data['leisure_sports_centre'].mad()\n",
    "lower_threshold = data['leisure_sports_centre'].mean() - 3 * data['leisure_sports_centre'].mad()\n",
    "\n",
    "print(upper_threshold)\n",
    "print(lower_threshold)\n"
   ]
  },
  {
   "cell_type": "code",
   "execution_count": 113,
   "metadata": {},
   "outputs": [
    {
     "name": "stdout",
     "output_type": "stream",
     "text": [
      "1.5097091588834906\n",
      "-1.0380415010804154\n"
     ]
    }
   ],
   "source": [
    "upper_threshold = data['leisure_stadium'].mean() + 3 * data['leisure_stadium'].mad()\n",
    "lower_threshold = data['leisure_stadium'].mean() - 3 * data['leisure_stadium'].mad()\n",
    "\n",
    "print(upper_threshold)\n",
    "print(lower_threshold)\n"
   ]
  },
  {
   "cell_type": "code",
   "execution_count": 114,
   "metadata": {},
   "outputs": [
    {
     "name": "stdout",
     "output_type": "stream",
     "text": [
      "39.830559604938266\n",
      "-10.077670716049376\n"
     ]
    }
   ],
   "source": [
    "upper_threshold = data['leisure_swimming_pool'].mean() + 3 * data['leisure_swimming_pool'].mad()\n",
    "lower_threshold = data['leisure_swimming_pool'].mean() - 3 * data['leisure_swimming_pool'].mad()\n",
    "\n",
    "print(upper_threshold)\n",
    "print(lower_threshold)\n"
   ]
  },
  {
   "cell_type": "code",
   "execution_count": 115,
   "metadata": {},
   "outputs": [
    {
     "name": "stdout",
     "output_type": "stream",
     "text": [
      "4.471439346511505\n",
      "-2.6252070807736745\n"
     ]
    }
   ],
   "source": [
    "upper_threshold = data['leisure_track'].mean() + 3 * data['leisure_track'].mad()\n",
    "lower_threshold = data['leisure_track'].mean() - 3 * data['leisure_track'].mad()\n",
    "\n",
    "print(upper_threshold)\n",
    "print(lower_threshold)\n"
   ]
  },
  {
   "cell_type": "code",
   "execution_count": 116,
   "metadata": {},
   "outputs": [
    {
     "name": "stdout",
     "output_type": "stream",
     "text": [
      "2.3732068868599185\n",
      "-1.5719155777103133\n"
     ]
    }
   ],
   "source": [
    "upper_threshold = data['leisure_water_park'].mean() + 3 * data['leisure_water_park'].mad()\n",
    "lower_threshold = data['leisure_water_park'].mean() - 3 * data['leisure_water_park'].mad()\n",
    "\n",
    "print(upper_threshold)\n",
    "print(lower_threshold)\n"
   ]
  },
  {
   "cell_type": "code",
   "execution_count": 120,
   "metadata": {},
   "outputs": [
    {
     "name": "stdout",
     "output_type": "stream",
     "text": [
      "28.594898219130783\n",
      "-12.416833483764206\n"
     ]
    }
   ],
   "source": [
    "upper_threshold = data['bus_station'].mean() + 3 * data['bus_station'].mad()\n",
    "lower_threshold = data['bus_station'].mean() - 3 * data['bus_station'].mad()\n",
    "\n",
    "print(upper_threshold)\n",
    "print(lower_threshold)\n"
   ]
  },
  {
   "cell_type": "code",
   "execution_count": 123,
   "metadata": {},
   "outputs": [
    {
     "name": "stdout",
     "output_type": "stream",
     "text": [
      "732.681407275754\n",
      "-352.39748917193964\n"
     ]
    }
   ],
   "source": [
    "upper_threshold = data['amenity_sustenance'].mean() + 3 * data['amenity_sustenance'].mad()\n",
    "lower_threshold = data['amenity_sustenance'].mean() - 3 * data['amenity_sustenance'].mad()\n",
    "\n",
    "print(upper_threshold)\n",
    "print(lower_threshold)\n"
   ]
  },
  {
   "cell_type": "code",
   "execution_count": 125,
   "metadata": {},
   "outputs": [
    {
     "name": "stdout",
     "output_type": "stream",
     "text": [
      "79.24829547981822\n",
      "-22.81451755101013\n"
     ]
    }
   ],
   "source": [
    "upper_threshold = data['amenity_school'].mean() + 3 * data['amenity_school'].mad()\n",
    "lower_threshold = data['amenity_school'].mean() - 3 * data['amenity_school'].mad()\n",
    "\n",
    "print(upper_threshold)\n",
    "print(lower_threshold)\n"
   ]
  },
  {
   "cell_type": "code",
   "execution_count": 126,
   "metadata": {},
   "outputs": [
    {
     "name": "stdout",
     "output_type": "stream",
     "text": [
      "10.238021450045762\n",
      "-4.912560571615723\n"
     ]
    }
   ],
   "source": [
    "upper_threshold = data['amenity_education'].mean() + 3 * data['amenity_education'].mad()\n",
    "lower_threshold = data['amenity_education'].mean() - 3 * data['amenity_education'].mad()\n",
    "\n",
    "print(upper_threshold)\n",
    "print(lower_threshold)\n"
   ]
  },
  {
   "cell_type": "code",
   "execution_count": 128,
   "metadata": {},
   "outputs": [
    {
     "name": "stdout",
     "output_type": "stream",
     "text": [
      "123.74547035312492\n",
      "-56.229711284226774\n"
     ]
    }
   ],
   "source": [
    "upper_threshold = data['amenity_financial'].mean() + 3 * data['amenity_financial'].mad()\n",
    "lower_threshold = data['amenity_financial'].mean() - 3 * data['amenity_financial'].mad()\n",
    "\n",
    "print(upper_threshold)\n",
    "print(lower_threshold)\n"
   ]
  },
  {
   "cell_type": "code",
   "execution_count": 130,
   "metadata": {},
   "outputs": [
    {
     "name": "stdout",
     "output_type": "stream",
     "text": [
      "57.369410239109705\n",
      "-14.349615829119053\n"
     ]
    }
   ],
   "source": [
    "upper_threshold = data['amenity_healthcare'].mean() + 3 * data['amenity_healthcare'].mad()\n",
    "lower_threshold = data['amenity_healthcare'].mean() - 3 * data['amenity_healthcare'].mad()\n",
    "\n",
    "print(upper_threshold)\n",
    "print(lower_threshold)\n"
   ]
  },
  {
   "cell_type": "code",
   "execution_count": 131,
   "metadata": {},
   "outputs": [
    {
     "name": "stdout",
     "output_type": "stream",
     "text": [
      "44.30273716398359\n",
      "-22.112269064416864\n"
     ]
    }
   ],
   "source": [
    "upper_threshold = data['amenity_arts'].mean() + 3 * data['amenity_arts'].mad()\n",
    "lower_threshold = data['amenity_arts'].mean() - 3 * data['amenity_arts'].mad()\n",
    "\n",
    "print(upper_threshold)\n",
    "print(lower_threshold)\n"
   ]
  },
  {
   "cell_type": "code",
   "execution_count": 133,
   "metadata": {},
   "outputs": [
    {
     "name": "stdout",
     "output_type": "stream",
     "text": [
      "55.197675458479765\n",
      "-26.659233524914224\n"
     ]
    }
   ],
   "source": [
    "upper_threshold = data['amenity_entertainment'].mean() + 3 * data['amenity_entertainment'].mad()\n",
    "lower_threshold = data['amenity_entertainment'].mean() - 3 * data['amenity_entertainment'].mad()\n",
    "\n",
    "print(upper_threshold)\n",
    "print(lower_threshold)\n"
   ]
  },
  {
   "cell_type": "code",
   "execution_count": 135,
   "metadata": {},
   "outputs": [
    {
     "name": "stdout",
     "output_type": "stream",
     "text": [
      "29.599707645493\n",
      "-9.52426800570029\n"
     ]
    }
   ],
   "source": [
    "upper_threshold = data['amenity_religion'].mean() + 3 * data['amenity_religion'].mad()\n",
    "lower_threshold = data['amenity_religion'].mean() - 3 * data['amenity_religion'].mad()\n",
    "\n",
    "print(upper_threshold)\n",
    "print(lower_threshold)\n"
   ]
  },
  {
   "cell_type": "code",
   "execution_count": 136,
   "metadata": {},
   "outputs": [
    {
     "name": "stdout",
     "output_type": "stream",
     "text": [
      "6.22841926922762\n",
      "-2.8834188444548743\n"
     ]
    }
   ],
   "source": [
    "upper_threshold = data['amenity_police'].mean() + 3 * data['amenity_police'].mad()\n",
    "lower_threshold = data['amenity_police'].mean() - 3 * data['amenity_police'].mad()\n",
    "\n",
    "print(upper_threshold)\n",
    "print(lower_threshold)\n"
   ]
  },
  {
   "cell_type": "code",
   "execution_count": 138,
   "metadata": {},
   "outputs": [
    {
     "name": "stdout",
     "output_type": "stream",
     "text": [
      "8.281510298030822\n",
      "-4.61708076782948\n"
     ]
    }
   ],
   "source": [
    "upper_threshold = data['amenity_government'].mean() + 3 * data['amenity_government'].mad()\n",
    "lower_threshold = data['amenity_government'].mean() - 3 * data['amenity_government'].mad()\n",
    "\n",
    "print(upper_threshold)\n",
    "print(lower_threshold)\n"
   ]
  },
  {
   "cell_type": "code",
   "execution_count": 139,
   "metadata": {},
   "outputs": [
    {
     "name": "stdout",
     "output_type": "stream",
     "text": [
      "104.94657309363193\n",
      "-47.37270511300157\n"
     ]
    }
   ],
   "source": [
    "upper_threshold = data['amenity_vending_machine'].mean() + 3 * data['amenity_vending_machine'].mad()\n",
    "lower_threshold = data['amenity_vending_machine'].mean() - 3 * data['amenity_vending_machine'].mad()\n",
    "\n",
    "print(upper_threshold)\n",
    "print(lower_threshold)\n"
   ]
  },
  {
   "cell_type": "code",
   "execution_count": 141,
   "metadata": {},
   "outputs": [
    {
     "name": "stdout",
     "output_type": "stream",
     "text": [
      "192.115481278853\n",
      "-84.86087249455261\n"
     ]
    }
   ],
   "source": [
    "upper_threshold = data['amenity_transportation_bicycle'].mean() + 3 * data['amenity_transportation_bicycle'].mad()\n",
    "lower_threshold = data['amenity_transportation_bicycle'].mean() - 3 * data['amenity_transportation_bicycle'].mad()\n",
    "\n",
    "print(upper_threshold)\n",
    "print(lower_threshold)\n"
   ]
  },
  {
   "cell_type": "code",
   "execution_count": 142,
   "metadata": {},
   "outputs": [
    {
     "name": "stdout",
     "output_type": "stream",
     "text": [
      "6.333674570928103\n",
      "-2.4395279393759832\n"
     ]
    }
   ],
   "source": [
    "upper_threshold = data['amenity_transportation_car'].mean() + 3 * data['amenity_transportation_car'].mad()\n",
    "lower_threshold = data['amenity_transportation_car'].mean() - 3 * data['amenity_transportation_car'].mad()\n",
    "\n",
    "print(upper_threshold)\n",
    "print(lower_threshold)\n"
   ]
  },
  {
   "cell_type": "code",
   "execution_count": 145,
   "metadata": {},
   "outputs": [
    {
     "name": "stdout",
     "output_type": "stream",
     "text": [
      "106.46100870186179\n",
      "-10.854348265195398\n"
     ]
    }
   ],
   "source": [
    "upper_threshold = data['amenity_parking'].mean() + 3 * data['amenity_parking'].mad()\n",
    "lower_threshold = data['amenity_parking'].mean() - 3 * data['amenity_parking'].mad()\n",
    "\n",
    "print(upper_threshold)\n",
    "print(lower_threshold)\n"
   ]
  },
  {
   "cell_type": "code",
   "execution_count": 146,
   "metadata": {},
   "outputs": [
    {
     "name": "stdout",
     "output_type": "stream",
     "text": [
      "3.2687245120564263\n",
      "-1.9116605412807912\n"
     ]
    }
   ],
   "source": [
    "upper_threshold = data['amenity_coworking_space'].mean() + 3 * data['amenity_coworking_space'].mad()\n",
    "lower_threshold = data['amenity_coworking_space'].mean() - 3 * data['amenity_coworking_space'].mad()\n",
    "\n",
    "print(upper_threshold)\n",
    "print(lower_threshold)\n"
   ]
  },
  {
   "cell_type": "code",
   "execution_count": 148,
   "metadata": {},
   "outputs": [
    {
     "name": "stdout",
     "output_type": "stream",
     "text": [
      "10.785219649225834\n",
      "-2.569435093962901\n"
     ]
    }
   ],
   "source": [
    "upper_threshold = data['amenity_recycling'].mean() + 3 * data['amenity_recycling'].mad()\n",
    "lower_threshold = data['amenity_recycling'].mean() - 3 * data['amenity_recycling'].mad()\n",
    "\n",
    "print(upper_threshold)\n",
    "print(lower_threshold)\n"
   ]
  },
  {
   "cell_type": "code",
   "execution_count": null,
   "metadata": {},
   "outputs": [],
   "source": []
  }
 ],
 "metadata": {
  "kernelspec": {
   "display_name": "Python 3",
   "language": "python",
   "name": "python3"
  },
  "language_info": {
   "codemirror_mode": {
    "name": "ipython",
    "version": 3
   },
   "file_extension": ".py",
   "mimetype": "text/x-python",
   "name": "python",
   "nbconvert_exporter": "python",
   "pygments_lexer": "ipython3",
   "version": "3.7.0"
  }
 },
 "nbformat": 4,
 "nbformat_minor": 2
}
