{
 "cells": [
  {
   "cell_type": "code",
   "execution_count": 1,
   "metadata": {},
   "outputs": [],
   "source": [
    "#Outlier detection for original property characteristics data\n",
    "import pandas as pd\n",
    "import numpy as np\n",
    "import seaborn as sns\n",
    "import matplotlib.pyplot as plt\n"
   ]
  },
  {
   "cell_type": "code",
   "execution_count": 4,
   "metadata": {},
   "outputs": [],
   "source": [
    "data = pd.read_csv('rent_origin.csv')\n"
   ]
  },
  {
   "cell_type": "code",
   "execution_count": 5,
   "metadata": {
    "scrolled": true
   },
   "outputs": [
    {
     "data": {
      "text/html": [
       "<div>\n",
       "<style scoped>\n",
       "    .dataframe tbody tr th:only-of-type {\n",
       "        vertical-align: middle;\n",
       "    }\n",
       "\n",
       "    .dataframe tbody tr th {\n",
       "        vertical-align: top;\n",
       "    }\n",
       "\n",
       "    .dataframe thead th {\n",
       "        text-align: right;\n",
       "    }\n",
       "</style>\n",
       "<table border=\"1\" class=\"dataframe\">\n",
       "  <thead>\n",
       "    <tr style=\"text-align: right;\">\n",
       "      <th></th>\n",
       "      <th>id</th>\n",
       "      <th>web_alberlet</th>\n",
       "      <th>web_ingatlan</th>\n",
       "      <th>web_tower</th>\n",
       "      <th>apartment</th>\n",
       "      <th>house</th>\n",
       "      <th>sale</th>\n",
       "      <th>rent</th>\n",
       "      <th>price_per_month</th>\n",
       "      <th>size(sqm)</th>\n",
       "      <th>...</th>\n",
       "      <th>orientation_northeast</th>\n",
       "      <th>orientation_northwest</th>\n",
       "      <th>orientation_southwest</th>\n",
       "      <th>orientation_southeast</th>\n",
       "      <th>garden_access</th>\n",
       "      <th>garden_AC</th>\n",
       "      <th>attic</th>\n",
       "      <th>attic_loft_conversion</th>\n",
       "      <th>attic_penthouse</th>\n",
       "      <th>attic_topfloor</th>\n",
       "    </tr>\n",
       "  </thead>\n",
       "  <tbody>\n",
       "    <tr>\n",
       "      <th>0</th>\n",
       "      <td>0</td>\n",
       "      <td>1.0</td>\n",
       "      <td>0.0</td>\n",
       "      <td>0.0</td>\n",
       "      <td>1</td>\n",
       "      <td>0</td>\n",
       "      <td>0.0</td>\n",
       "      <td>1.0</td>\n",
       "      <td>386</td>\n",
       "      <td>35</td>\n",
       "      <td>...</td>\n",
       "      <td>NaN</td>\n",
       "      <td>NaN</td>\n",
       "      <td>NaN</td>\n",
       "      <td>NaN</td>\n",
       "      <td>NaN</td>\n",
       "      <td>NaN</td>\n",
       "      <td>NaN</td>\n",
       "      <td>NaN</td>\n",
       "      <td>NaN</td>\n",
       "      <td>NaN</td>\n",
       "    </tr>\n",
       "    <tr>\n",
       "      <th>1</th>\n",
       "      <td>1</td>\n",
       "      <td>1.0</td>\n",
       "      <td>0.0</td>\n",
       "      <td>0.0</td>\n",
       "      <td>1</td>\n",
       "      <td>0</td>\n",
       "      <td>0.0</td>\n",
       "      <td>1.0</td>\n",
       "      <td>773</td>\n",
       "      <td>56</td>\n",
       "      <td>...</td>\n",
       "      <td>NaN</td>\n",
       "      <td>NaN</td>\n",
       "      <td>NaN</td>\n",
       "      <td>NaN</td>\n",
       "      <td>NaN</td>\n",
       "      <td>NaN</td>\n",
       "      <td>NaN</td>\n",
       "      <td>NaN</td>\n",
       "      <td>NaN</td>\n",
       "      <td>NaN</td>\n",
       "    </tr>\n",
       "    <tr>\n",
       "      <th>2</th>\n",
       "      <td>2</td>\n",
       "      <td>1.0</td>\n",
       "      <td>0.0</td>\n",
       "      <td>0.0</td>\n",
       "      <td>1</td>\n",
       "      <td>0</td>\n",
       "      <td>0.0</td>\n",
       "      <td>1.0</td>\n",
       "      <td>464</td>\n",
       "      <td>53</td>\n",
       "      <td>...</td>\n",
       "      <td>NaN</td>\n",
       "      <td>NaN</td>\n",
       "      <td>NaN</td>\n",
       "      <td>NaN</td>\n",
       "      <td>NaN</td>\n",
       "      <td>NaN</td>\n",
       "      <td>NaN</td>\n",
       "      <td>NaN</td>\n",
       "      <td>NaN</td>\n",
       "      <td>NaN</td>\n",
       "    </tr>\n",
       "    <tr>\n",
       "      <th>3</th>\n",
       "      <td>3</td>\n",
       "      <td>1.0</td>\n",
       "      <td>0.0</td>\n",
       "      <td>0.0</td>\n",
       "      <td>1</td>\n",
       "      <td>0</td>\n",
       "      <td>0.0</td>\n",
       "      <td>1.0</td>\n",
       "      <td>835</td>\n",
       "      <td>75</td>\n",
       "      <td>...</td>\n",
       "      <td>NaN</td>\n",
       "      <td>NaN</td>\n",
       "      <td>NaN</td>\n",
       "      <td>NaN</td>\n",
       "      <td>NaN</td>\n",
       "      <td>NaN</td>\n",
       "      <td>NaN</td>\n",
       "      <td>NaN</td>\n",
       "      <td>NaN</td>\n",
       "      <td>NaN</td>\n",
       "    </tr>\n",
       "    <tr>\n",
       "      <th>4</th>\n",
       "      <td>4</td>\n",
       "      <td>1.0</td>\n",
       "      <td>0.0</td>\n",
       "      <td>0.0</td>\n",
       "      <td>1</td>\n",
       "      <td>0</td>\n",
       "      <td>0.0</td>\n",
       "      <td>1.0</td>\n",
       "      <td>773</td>\n",
       "      <td>69</td>\n",
       "      <td>...</td>\n",
       "      <td>NaN</td>\n",
       "      <td>NaN</td>\n",
       "      <td>NaN</td>\n",
       "      <td>NaN</td>\n",
       "      <td>NaN</td>\n",
       "      <td>NaN</td>\n",
       "      <td>NaN</td>\n",
       "      <td>NaN</td>\n",
       "      <td>NaN</td>\n",
       "      <td>NaN</td>\n",
       "    </tr>\n",
       "  </tbody>\n",
       "</table>\n",
       "<p>5 rows × 229 columns</p>\n",
       "</div>"
      ],
      "text/plain": [
       "   id  web_alberlet  web_ingatlan  web_tower  apartment  house  sale  rent  \\\n",
       "0   0           1.0           0.0        0.0          1      0   0.0   1.0   \n",
       "1   1           1.0           0.0        0.0          1      0   0.0   1.0   \n",
       "2   2           1.0           0.0        0.0          1      0   0.0   1.0   \n",
       "3   3           1.0           0.0        0.0          1      0   0.0   1.0   \n",
       "4   4           1.0           0.0        0.0          1      0   0.0   1.0   \n",
       "\n",
       "   price_per_month  size(sqm)       ...        orientation_northeast  \\\n",
       "0              386         35       ...                          NaN   \n",
       "1              773         56       ...                          NaN   \n",
       "2              464         53       ...                          NaN   \n",
       "3              835         75       ...                          NaN   \n",
       "4              773         69       ...                          NaN   \n",
       "\n",
       "   orientation_northwest  orientation_southwest  orientation_southeast  \\\n",
       "0                    NaN                    NaN                    NaN   \n",
       "1                    NaN                    NaN                    NaN   \n",
       "2                    NaN                    NaN                    NaN   \n",
       "3                    NaN                    NaN                    NaN   \n",
       "4                    NaN                    NaN                    NaN   \n",
       "\n",
       "   garden_access  garden_AC  attic  attic_loft_conversion  attic_penthouse  \\\n",
       "0            NaN        NaN    NaN                    NaN              NaN   \n",
       "1            NaN        NaN    NaN                    NaN              NaN   \n",
       "2            NaN        NaN    NaN                    NaN              NaN   \n",
       "3            NaN        NaN    NaN                    NaN              NaN   \n",
       "4            NaN        NaN    NaN                    NaN              NaN   \n",
       "\n",
       "   attic_topfloor  \n",
       "0             NaN  \n",
       "1             NaN  \n",
       "2             NaN  \n",
       "3             NaN  \n",
       "4             NaN  \n",
       "\n",
       "[5 rows x 229 columns]"
      ]
     },
     "execution_count": 5,
     "metadata": {},
     "output_type": "execute_result"
    }
   ],
   "source": [
    "data.head()\n"
   ]
  },
  {
   "cell_type": "code",
   "execution_count": 6,
   "metadata": {},
   "outputs": [],
   "source": [
    "#Seperate houses and apartments\n",
    "data_apa = data[data['apartment'] != 0]\n",
    "data_house = data[data['house'] != 0]\n"
   ]
  },
  {
   "cell_type": "code",
   "execution_count": 7,
   "metadata": {
    "scrolled": false
   },
   "outputs": [
    {
     "data": {
      "image/png": "[encoded data removed]",
      "text/plain": [
       "<Figure size 720x720 with 1 Axes>"
      ]
     },
     "metadata": {
      "needs_background": "light"
     },
     "output_type": "display_data"
    }
   ],
   "source": [
    "plt.figure(figsize = (10,10))\n",
    "plt.hist(data['price_per_sqm'], bins = 300, alpha = 0.5)\n",
    "plt.xlabel('price_per_sqm')\n",
    "plt.ylabel('frequency')\n",
    "plt.show()\n"
   ]
  },
  {
   "cell_type": "code",
   "execution_count": 8,
   "metadata": {},
   "outputs": [
    {
     "data": {
      "text/plain": [
       "<matplotlib.axes._subplots.AxesSubplot at 0x1123ad828>"
      ]
     },
     "execution_count": 8,
     "metadata": {},
     "output_type": "execute_result"
    },
    {
     "data": {
      "image/png": "[encoded data removed]",
      "text/plain": [
       "<Figure size 432x288 with 1 Axes>"
      ]
     },
     "metadata": {
      "needs_background": "light"
     },
     "output_type": "display_data"
    }
   ],
   "source": [
    "sns.boxplot(data['price_per_sqm'])\n",
    "\n",
    "#From previous exploratory data analysis, we found that, houses and apartments price_per_sqm share similar shapes\n",
    "#Therefore, we discuss these two types together\n"
   ]
  },
  {
   "cell_type": "code",
   "execution_count": 9,
   "metadata": {},
   "outputs": [
    {
     "data": {
      "text/plain": [
       "count    11771.000000\n",
       "mean        17.558472\n",
       "std        266.884123\n",
       "min          0.000000\n",
       "25%          8.800000\n",
       "50%         10.742857\n",
       "75%         13.250000\n",
       "max      15200.000000\n",
       "Name: price_per_sqm, dtype: float64"
      ]
     },
     "execution_count": 9,
     "metadata": {},
     "output_type": "execute_result"
    }
   ],
   "source": [
    "data['price_per_sqm'].describe()\n"
   ]
  },
  {
   "cell_type": "code",
   "execution_count": 10,
   "metadata": {},
   "outputs": [
    {
     "name": "stdout",
     "output_type": "stream",
     "text": [
      "1085.094964\n",
      "-1049.97802\n"
     ]
    }
   ],
   "source": [
    "#Find outliers by finding the values of 4 times std\n",
    "upper_threshold = 17.558472 + 4 * 266.884123\n",
    "lower_threshold = 17.558472 - 4 * 266.884123\n",
    "\n",
    "print(upper_threshold)\n",
    "print(lower_threshold)\n",
    "\n",
    "#Since this number is still a bit too large, we tries another method\n",
    "#Using machines learning techniques such as isolated tree to detect outliers for multi dimensional data is very complicated\n",
    "#Hence, here we only apply statistical methods\n"
   ]
  },
  {
   "cell_type": "code",
   "execution_count": 11,
   "metadata": {},
   "outputs": [
    {
     "name": "stdout",
     "output_type": "stream",
     "text": [
      "12.672363643639295\n"
     ]
    }
   ],
   "source": [
    "#Find outliers by finding MAD mean absolute deviation\n",
    "print(data['price_per_sqm'].mad())\n"
   ]
  },
  {
   "cell_type": "code",
   "execution_count": 12,
   "metadata": {},
   "outputs": [
    {
     "name": "stdout",
     "output_type": "stream",
     "text": [
      "55.57556293091788\n",
      "-20.45861893091789\n"
     ]
    }
   ],
   "source": [
    "upper_threshold = 17.558472 + 3 * 12.672363643639295\n",
    "lower_threshold = 17.558472 - 3 * 12.672363643639295\n",
    "\n",
    "print(upper_threshold)\n",
    "print(lower_threshold)\n",
    "\n",
    "#According to the paper, 3 times is very consevative\n"
   ]
  },
  {
   "cell_type": "code",
   "execution_count": 13,
   "metadata": {},
   "outputs": [
    {
     "data": {
      "image/png": "[encoded data removed]",
      "text/plain": [
       "<Figure size 1440x720 with 1 Axes>"
      ]
     },
     "metadata": {
      "needs_background": "light"
     },
     "output_type": "display_data"
    }
   ],
   "source": [
    "plt.figure(figsize = (20,10))\n",
    "plt.hist(data_apa['price_per_sqm'], bins = 300, alpha = 0.5)\n",
    "plt.xlabel('price_per_sqm')\n",
    "plt.ylabel('frequency')\n",
    "plt.title('price_per_sqm for apartments')\n",
    "plt.show()\n"
   ]
  },
  {
   "cell_type": "code",
   "execution_count": 14,
   "metadata": {},
   "outputs": [
    {
     "data": {
      "text/plain": [
       "<matplotlib.axes._subplots.AxesSubplot at 0x113f407f0>"
      ]
     },
     "execution_count": 14,
     "metadata": {},
     "output_type": "execute_result"
    },
    {
     "data": {
      "image/png": "[encoded data removed]",
      "text/plain": [
       "<Figure size 432x288 with 1 Axes>"
      ]
     },
     "metadata": {
      "needs_background": "light"
     },
     "output_type": "display_data"
    }
   ],
   "source": [
    "sns.boxplot(x = data_apa['price_per_sqm'])\n"
   ]
  },
  {
   "cell_type": "code",
   "execution_count": 15,
   "metadata": {},
   "outputs": [
    {
     "data": {
      "text/plain": [
       "count    11121.000000\n",
       "mean        18.018261\n",
       "std        274.563845\n",
       "min          0.000000\n",
       "25%          8.888889\n",
       "50%         10.864865\n",
       "75%         13.333333\n",
       "max      15200.000000\n",
       "Name: price_per_sqm, dtype: float64"
      ]
     },
     "execution_count": 15,
     "metadata": {},
     "output_type": "execute_result"
    }
   ],
   "source": [
    "data_apa['price_per_sqm'].describe()\n"
   ]
  },
  {
   "cell_type": "code",
   "execution_count": 16,
   "metadata": {},
   "outputs": [
    {
     "name": "stdout",
     "output_type": "stream",
     "text": [
      "13.306955170979341\n"
     ]
    }
   ],
   "source": [
    "print(data_apa['price_per_sqm'].mad())"
   ]
  },
  {
   "cell_type": "code",
   "execution_count": 17,
   "metadata": {},
   "outputs": [
    {
     "name": "stdout",
     "output_type": "stream",
     "text": [
      "57.93912651293802\n",
      "-21.902604512938023\n"
     ]
    }
   ],
   "source": [
    "upper_threshold = 18.018261 + 3 * 13.306955170979341\n",
    "lower_threshold = 18.018261 - 3 * 13.306955170979341\n",
    "\n",
    "print(upper_threshold)\n",
    "print(lower_threshold)\n",
    "\n",
    "#According to the paper, 3 times is very consevative\n"
   ]
  },
  {
   "cell_type": "code",
   "execution_count": 18,
   "metadata": {},
   "outputs": [],
   "source": [
    "data_clean = pd.read_csv('rent_clean.csv')\n",
    "data_clean_apa = data_clean[data_clean['apartment'] != 0]\n",
    "data_clean_house = data_clean[data_clean['house'] != 0]\n"
   ]
  },
  {
   "cell_type": "code",
   "execution_count": 19,
   "metadata": {},
   "outputs": [
    {
     "name": "stderr",
     "output_type": "stream",
     "text": [
      "/usr/local/lib/python3.7/site-packages/numpy/lib/histograms.py:754: RuntimeWarning: invalid value encountered in greater_equal\n",
      "  keep = (tmp_a >= first_edge)\n",
      "/usr/local/lib/python3.7/site-packages/numpy/lib/histograms.py:755: RuntimeWarning: invalid value encountered in less_equal\n",
      "  keep &= (tmp_a <= last_edge)\n"
     ]
    },
    {
     "data": {
      "image/png": "[encoded data removed]",
      "text/plain": [
       "<Figure size 720x720 with 1 Axes>"
      ]
     },
     "metadata": {
      "needs_background": "light"
     },
     "output_type": "display_data"
    }
   ],
   "source": [
    "plt.figure(figsize=(10,10))\n",
    "plt.hist(data_clean_apa['price_per_sqm'], bins = 200, alpha = 0.5)\n",
    "plt.xlabel('price_per_sqm')\n",
    "plt.ylabel('frequency')\n",
    "plt.title('price_per_sqm for apartments')\n",
    "plt.show()\n"
   ]
  },
  {
   "cell_type": "code",
   "execution_count": 20,
   "metadata": {},
   "outputs": [
    {
     "data": {
      "text/plain": [
       "<matplotlib.axes._subplots.AxesSubplot at 0x113332e48>"
      ]
     },
     "execution_count": 20,
     "metadata": {},
     "output_type": "execute_result"
    },
    {
     "data": {
      "image/png": "[encoded data removed]",
      "text/plain": [
       "<Figure size 432x288 with 1 Axes>"
      ]
     },
     "metadata": {
      "needs_background": "light"
     },
     "output_type": "display_data"
    }
   ],
   "source": [
    "sns.boxplot(x = data_clean_apa['price_per_sqm'])\n"
   ]
  },
  {
   "cell_type": "code",
   "execution_count": 21,
   "metadata": {
    "scrolled": false
   },
   "outputs": [
    {
     "data": {
      "image/png": "[encoded data removed]",
      "text/plain": [
       "<Figure size 720x720 with 1 Axes>"
      ]
     },
     "metadata": {
      "needs_background": "light"
     },
     "output_type": "display_data"
    }
   ],
   "source": [
    "plt.figure(figsize=(10,10))\n",
    "plt.hist(data_house['price_per_sqm'], bins = 200, alpha = 0.5)\n",
    "plt.xlabel('price_per_sqm')\n",
    "plt.ylabel('frequency')\n",
    "plt.title('price_per_sqm for houses')\n",
    "plt.show()\n"
   ]
  },
  {
   "cell_type": "code",
   "execution_count": 22,
   "metadata": {},
   "outputs": [
    {
     "data": {
      "text/plain": [
       "<matplotlib.axes._subplots.AxesSubplot at 0x1134090f0>"
      ]
     },
     "execution_count": 22,
     "metadata": {},
     "output_type": "execute_result"
    },
    {
     "data": {
      "image/png": "[encoded data removed]",
      "text/plain": [
       "<Figure size 432x288 with 1 Axes>"
      ]
     },
     "metadata": {
      "needs_background": "light"
     },
     "output_type": "display_data"
    }
   ],
   "source": [
    "sns.boxplot(x = data_house['price_per_sqm'])"
   ]
  },
  {
   "cell_type": "code",
   "execution_count": 23,
   "metadata": {},
   "outputs": [
    {
     "data": {
      "text/plain": [
       "count    650.000000\n",
       "mean       9.691839\n",
       "std        4.998209\n",
       "min        1.440000\n",
       "25%        6.781379\n",
       "50%        9.149329\n",
       "75%       11.491911\n",
       "max       89.600000\n",
       "Name: price_per_sqm, dtype: float64"
      ]
     },
     "execution_count": 23,
     "metadata": {},
     "output_type": "execute_result"
    }
   ],
   "source": [
    "data_house['price_per_sqm'].describe()\n"
   ]
  },
  {
   "cell_type": "code",
   "execution_count": 24,
   "metadata": {},
   "outputs": [
    {
     "name": "stdout",
     "output_type": "stream",
     "text": [
      "2.9883205809667692\n"
     ]
    }
   ],
   "source": [
    "print(data_house['price_per_sqm'].mad())\n"
   ]
  },
  {
   "cell_type": "code",
   "execution_count": 25,
   "metadata": {},
   "outputs": [
    {
     "name": "stdout",
     "output_type": "stream",
     "text": [
      "18.65680074290031\n",
      "0.7268772570996926\n"
     ]
    }
   ],
   "source": [
    "upper_threshold = 9.691839 + 3 * 2.9883205809667692\n",
    "lower_threshold = 9.691839 - 3 * 2.9883205809667692\n",
    "\n",
    "print(upper_threshold)\n",
    "print(lower_threshold)\n"
   ]
  },
  {
   "cell_type": "code",
   "execution_count": 26,
   "metadata": {},
   "outputs": [],
   "source": [
    "data_clean = pd.read_csv('rent_clean.csv')\n",
    "data_clean_apa = data_clean[data_clean['apartment'] != 0]\n",
    "data_clean_house = data_clean[data_clean['house'] != 0]\n"
   ]
  },
  {
   "cell_type": "code",
   "execution_count": 27,
   "metadata": {},
   "outputs": [
    {
     "data": {
      "image/png": "[encoded data removed]",
      "text/plain": [
       "<Figure size 720x720 with 1 Axes>"
      ]
     },
     "metadata": {
      "needs_background": "light"
     },
     "output_type": "display_data"
    }
   ],
   "source": [
    "plt.figure(figsize=(10,10))\n",
    "plt.hist(data_clean_house['price_per_sqm'], bins = 200, alpha = 0.5)\n",
    "plt.xlabel('price_per_sqm')\n",
    "plt.ylabel('frequency')\n",
    "plt.title('price_per_sqm for houses')\n",
    "plt.show()\n"
   ]
  },
  {
   "cell_type": "code",
   "execution_count": 28,
   "metadata": {},
   "outputs": [
    {
     "data": {
      "text/plain": [
       "<matplotlib.axes._subplots.AxesSubplot at 0x11328a320>"
      ]
     },
     "execution_count": 28,
     "metadata": {},
     "output_type": "execute_result"
    },
    {
     "data": {
      "image/png": "[encoded data removed]",
      "text/plain": [
       "<Figure size 432x288 with 1 Axes>"
      ]
     },
     "metadata": {
      "needs_background": "light"
     },
     "output_type": "display_data"
    }
   ],
   "source": [
    "sns.boxplot(x = data_clean_house['price_per_sqm'])\n"
   ]
  },
  {
   "cell_type": "code",
   "execution_count": 29,
   "metadata": {},
   "outputs": [
    {
     "data": {
      "image/png": "[encoded data removed]",
      "text/plain": [
       "<Figure size 720x720 with 1 Axes>"
      ]
     },
     "metadata": {
      "needs_background": "light"
     },
     "output_type": "display_data"
    }
   ],
   "source": [
    "plt.figure(figsize=(10,10))\n",
    "plt.hist(data['number_of_whole_rooms'])\n",
    "plt.xlabel('number_of_whole_rooms')\n",
    "plt.ylabel('frequency')\n",
    "plt.show()\n"
   ]
  },
  {
   "cell_type": "code",
   "execution_count": 30,
   "metadata": {},
   "outputs": [
    {
     "data": {
      "text/plain": [
       "<matplotlib.axes._subplots.AxesSubplot at 0x113d38128>"
      ]
     },
     "execution_count": 30,
     "metadata": {},
     "output_type": "execute_result"
    },
    {
     "data": {
      "image/png": "[encoded data removed]",
      "text/plain": [
       "<Figure size 432x288 with 1 Axes>"
      ]
     },
     "metadata": {
      "needs_background": "light"
     },
     "output_type": "display_data"
    }
   ],
   "source": [
    "sns.boxplot(x = data['number_of_whole_rooms'])\n"
   ]
  },
  {
   "cell_type": "code",
   "execution_count": 31,
   "metadata": {},
   "outputs": [
    {
     "data": {
      "text/plain": [
       "count    11771.000000\n",
       "mean         2.210263\n",
       "std          1.421183\n",
       "min          0.000000\n",
       "25%          1.000000\n",
       "50%          2.000000\n",
       "75%          3.000000\n",
       "max         32.000000\n",
       "Name: number_of_whole_rooms, dtype: float64"
      ]
     },
     "execution_count": 31,
     "metadata": {},
     "output_type": "execute_result"
    }
   ],
   "source": [
    "data['number_of_whole_rooms'].describe()\n"
   ]
  },
  {
   "cell_type": "code",
   "execution_count": 32,
   "metadata": {},
   "outputs": [
    {
     "name": "stdout",
     "output_type": "stream",
     "text": [
      "0.967807104687396\n"
     ]
    }
   ],
   "source": [
    "#Use MAD method again\n",
    "print(data['number_of_whole_rooms'].mad())\n"
   ]
  },
  {
   "cell_type": "code",
   "execution_count": 33,
   "metadata": {},
   "outputs": [
    {
     "name": "stdout",
     "output_type": "stream",
     "text": [
      "5.113684314062187\n",
      "-0.6931583140621878\n"
     ]
    }
   ],
   "source": [
    "upper_threshold = 2.210263 + 3*0.967807104687396\n",
    "lower_threshold = 2.210263 - 3*0.967807104687396\n",
    "\n",
    "print(upper_threshold)\n",
    "print(lower_threshold)\n"
   ]
  },
  {
   "cell_type": "code",
   "execution_count": 34,
   "metadata": {},
   "outputs": [
    {
     "data": {
      "text/plain": [
       "count    11121.0\n",
       "mean         1.0\n",
       "std          0.0\n",
       "min          1.0\n",
       "25%          1.0\n",
       "50%          1.0\n",
       "75%          1.0\n",
       "max          1.0\n",
       "Name: apartment, dtype: float64"
      ]
     },
     "execution_count": 34,
     "metadata": {},
     "output_type": "execute_result"
    }
   ],
   "source": [
    "#Considering houses naturally have more rooms than apartments\n",
    "#Here we calculate MAD for houses and apartments separately\n",
    "data_apa['apartment'].describe()\n"
   ]
  },
  {
   "cell_type": "code",
   "execution_count": 35,
   "metadata": {},
   "outputs": [
    {
     "data": {
      "text/plain": [
       "count    650.0\n",
       "mean       1.0\n",
       "std        0.0\n",
       "min        1.0\n",
       "25%        1.0\n",
       "50%        1.0\n",
       "75%        1.0\n",
       "max        1.0\n",
       "Name: house, dtype: float64"
      ]
     },
     "execution_count": 35,
     "metadata": {},
     "output_type": "execute_result"
    }
   ],
   "source": [
    "data_house['house'].describe()\n"
   ]
  },
  {
   "cell_type": "code",
   "execution_count": 36,
   "metadata": {},
   "outputs": [
    {
     "data": {
      "image/png": "[encoded data removed]",
      "text/plain": [
       "<Figure size 720x720 with 1 Axes>"
      ]
     },
     "metadata": {
      "needs_background": "light"
     },
     "output_type": "display_data"
    }
   ],
   "source": [
    "plt.figure(figsize=(10, 10))\n",
    "plt.hist(data_apa['number_of_whole_rooms'], alpha = 0.5)\n",
    "plt.xlabel('number_of_whole_rooms')\n",
    "plt.ylabel('frequency')\n",
    "plt.title('number_of_whole_rooms for apartments')\n",
    "plt.show()\n"
   ]
  },
  {
   "cell_type": "code",
   "execution_count": 37,
   "metadata": {},
   "outputs": [
    {
     "name": "stdout",
     "output_type": "stream",
     "text": [
      "0.7749836608191839\n",
      "1.8591952662721891\n"
     ]
    }
   ],
   "source": [
    "#MAD\n",
    "print(data_apa['number_of_whole_rooms'].mad())\n",
    "print(data_house['number_of_whole_rooms'].mad())\n"
   ]
  },
  {
   "cell_type": "code",
   "execution_count": 38,
   "metadata": {},
   "outputs": [
    {
     "data": {
      "text/plain": [
       "count    11121.000000\n",
       "mean         2.044061\n",
       "std          1.067944\n",
       "min          0.000000\n",
       "25%          1.000000\n",
       "50%          2.000000\n",
       "75%          3.000000\n",
       "max         20.000000\n",
       "Name: number_of_whole_rooms, dtype: float64"
      ]
     },
     "execution_count": 38,
     "metadata": {},
     "output_type": "execute_result"
    }
   ],
   "source": [
    "data_apa['number_of_whole_rooms'].describe()\n"
   ]
  },
  {
   "cell_type": "code",
   "execution_count": 39,
   "metadata": {},
   "outputs": [
    {
     "name": "stdout",
     "output_type": "stream",
     "text": [
      "4.369011982457552\n",
      "-0.2808899824575515\n"
     ]
    }
   ],
   "source": [
    "#Upper and lower limit for apartments\n",
    "upper_threshold = 2.044061 + 3*0.7749836608191839\n",
    "lower_threshold = 2.044061 - 3*0.7749836608191839\n",
    "\n",
    "print(upper_threshold)\n",
    "print(lower_threshold)"
   ]
  },
  {
   "cell_type": "code",
   "execution_count": 40,
   "metadata": {},
   "outputs": [],
   "source": [
    "data_clean = pd.read_csv('rent_clean.csv')\n",
    "data_clean_apa = data_clean[data_clean['apartment'] != 0]\n",
    "data_clean_house = data_clean[data_clean['house'] != 0]\n"
   ]
  },
  {
   "cell_type": "code",
   "execution_count": 41,
   "metadata": {},
   "outputs": [
    {
     "data": {
      "image/png": "[encoded data removed]",
      "text/plain": [
       "<Figure size 720x720 with 1 Axes>"
      ]
     },
     "metadata": {
      "needs_background": "light"
     },
     "output_type": "display_data"
    }
   ],
   "source": [
    "plt.figure(figsize=(10, 10))\n",
    "plt.hist(data_clean_apa['number_of_whole_rooms'], alpha = 0.5)\n",
    "plt.xlabel('number_of_whole_rooms')\n",
    "plt.ylabel('frequency')\n",
    "plt.title('number_of_whole_rooms for apartments')\n",
    "plt.show()\n"
   ]
  },
  {
   "cell_type": "code",
   "execution_count": 42,
   "metadata": {},
   "outputs": [
    {
     "data": {
      "text/plain": [
       "count    650.000000\n",
       "mean       5.053846\n",
       "std        2.918280\n",
       "min        1.000000\n",
       "25%        3.000000\n",
       "50%        5.000000\n",
       "75%        6.000000\n",
       "max       32.000000\n",
       "Name: number_of_whole_rooms, dtype: float64"
      ]
     },
     "execution_count": 42,
     "metadata": {},
     "output_type": "execute_result"
    }
   ],
   "source": [
    "data_house['number_of_whole_rooms'].describe()\n"
   ]
  },
  {
   "cell_type": "code",
   "execution_count": 43,
   "metadata": {},
   "outputs": [
    {
     "data": {
      "image/png": "[encoded data removed]",
      "text/plain": [
       "<Figure size 720x720 with 1 Axes>"
      ]
     },
     "metadata": {
      "needs_background": "light"
     },
     "output_type": "display_data"
    }
   ],
   "source": [
    "plt.figure(figsize=(10, 10))\n",
    "plt.hist(data_house['number_of_whole_rooms'], alpha = 0.5)\n",
    "plt.xlabel('number_of_whole_rooms')\n",
    "plt.ylabel('frequency')\n",
    "plt.title('number_of_whole_rooms for houses')\n",
    "plt.show()\n"
   ]
  },
  {
   "cell_type": "code",
   "execution_count": 44,
   "metadata": {},
   "outputs": [
    {
     "name": "stdout",
     "output_type": "stream",
     "text": [
      "10.631431798816568\n",
      "-0.5237397988165675\n"
     ]
    }
   ],
   "source": [
    "#Upper and lower limit for houses\n",
    "upper_threshold = 5.053846 + 3*1.8591952662721891\n",
    "lower_threshold = 5.053846 - 3*1.8591952662721891\n",
    "\n",
    "print(upper_threshold)\n",
    "print(lower_threshold)\n"
   ]
  },
  {
   "cell_type": "code",
   "execution_count": 45,
   "metadata": {},
   "outputs": [],
   "source": [
    "data_clean = pd.read_csv('rent_clean.csv')\n",
    "data_clean_apa = data_clean[data_clean['apartment'] != 0]\n",
    "data_clean_house = data_clean[data_clean['house'] != 0]\n"
   ]
  },
  {
   "cell_type": "code",
   "execution_count": 46,
   "metadata": {},
   "outputs": [
    {
     "data": {
      "image/png": "[encoded data removed]",
      "text/plain": [
       "<Figure size 720x720 with 1 Axes>"
      ]
     },
     "metadata": {
      "needs_background": "light"
     },
     "output_type": "display_data"
    }
   ],
   "source": [
    "plt.figure(figsize=(10, 10))\n",
    "plt.hist(data_clean_house['number_of_whole_rooms'], alpha = 0.5)\n",
    "plt.xlabel('number_of_whole_rooms')\n",
    "plt.ylabel('frequency')\n",
    "plt.title('number_of_whole_rooms for houses')\n",
    "plt.show()\n"
   ]
  },
  {
   "cell_type": "code",
   "execution_count": 47,
   "metadata": {},
   "outputs": [
    {
     "data": {
      "image/png": "[encoded data removed]",
      "text/plain": [
       "<Figure size 720x720 with 1 Axes>"
      ]
     },
     "metadata": {
      "needs_background": "light"
     },
     "output_type": "display_data"
    }
   ],
   "source": [
    "plt.figure(figsize = (10,10))\n",
    "plt.hist(data_apa['number_of_half_rooms'], alpha = 0.5)\n",
    "plt.xlabel('number_of_half_rooms')\n",
    "plt.ylabel('frequency')\n",
    "plt.title('number_of_half_rooms for apartments')\n",
    "plt.show()\n"
   ]
  },
  {
   "cell_type": "code",
   "execution_count": 48,
   "metadata": {},
   "outputs": [
    {
     "data": {
      "text/plain": [
       "count    11121.000000\n",
       "mean         0.330186\n",
       "std          0.600925\n",
       "min          0.000000\n",
       "25%          0.000000\n",
       "50%          0.000000\n",
       "75%          1.000000\n",
       "max         20.000000\n",
       "Name: number_of_half_rooms, dtype: float64"
      ]
     },
     "execution_count": 48,
     "metadata": {},
     "output_type": "execute_result"
    }
   ],
   "source": [
    "data_apa['number_of_half_rooms'].describe()\n"
   ]
  },
  {
   "cell_type": "code",
   "execution_count": 49,
   "metadata": {},
   "outputs": [
    {
     "name": "stdout",
     "output_type": "stream",
     "text": [
      "0.47480772056220377\n"
     ]
    }
   ],
   "source": [
    "print(data_apa['number_of_half_rooms'].mad())"
   ]
  },
  {
   "cell_type": "code",
   "execution_count": 50,
   "metadata": {},
   "outputs": [
    {
     "name": "stdout",
     "output_type": "stream",
     "text": [
      "1.754609161686611\n",
      "-1.0942371616866113\n"
     ]
    }
   ],
   "source": [
    "#Upper and lower limit\n",
    "upper_threshold = 0.330186 + 3*0.47480772056220377\n",
    "lower_threshold = 0.330186 - 3*0.47480772056220377\n",
    "\n",
    "print(upper_threshold)\n",
    "print(lower_threshold)"
   ]
  },
  {
   "cell_type": "code",
   "execution_count": 51,
   "metadata": {},
   "outputs": [
    {
     "data": {
      "image/png": "[encoded data removed]",
      "text/plain": [
       "<Figure size 720x720 with 1 Axes>"
      ]
     },
     "metadata": {
      "needs_background": "light"
     },
     "output_type": "display_data"
    }
   ],
   "source": [
    "data_clean = pd.read_csv('rent_clean.csv')\n",
    "data_clean_apa = data_clean[data_clean['apartment'] != 0]\n",
    "data_clean_house = data_clean[data_clean['house'] != 0]\n",
    "\n",
    "plt.figure(figsize = (10,10))\n",
    "plt.hist(data_clean_apa['number_of_half_rooms'], alpha = 0.5)\n",
    "plt.xlabel('number_of_half_rooms')\n",
    "plt.ylabel('frequency')\n",
    "plt.title('number_of_half_rooms for apartments')\n",
    "plt.show()\n"
   ]
  },
  {
   "cell_type": "code",
   "execution_count": 52,
   "metadata": {},
   "outputs": [
    {
     "data": {
      "image/png": "[encoded data removed]",
      "text/plain": [
       "<Figure size 720x720 with 1 Axes>"
      ]
     },
     "metadata": {
      "needs_background": "light"
     },
     "output_type": "display_data"
    }
   ],
   "source": [
    "plt.figure(figsize = (10,10))\n",
    "plt.hist(data_house['number_of_half_rooms'], alpha = 0.5)\n",
    "plt.xlabel('number_of_half_rooms')\n",
    "plt.ylabel('frequency')\n",
    "plt.title('number_of_half_rooms for houses')\n",
    "plt.show()\n"
   ]
  },
  {
   "cell_type": "code",
   "execution_count": 53,
   "metadata": {},
   "outputs": [
    {
     "data": {
      "text/plain": [
       "count    650.000000\n",
       "mean       0.409231\n",
       "std        0.844765\n",
       "min        0.000000\n",
       "25%        0.000000\n",
       "50%        0.000000\n",
       "75%        1.000000\n",
       "max        6.000000\n",
       "Name: number_of_half_rooms, dtype: float64"
      ]
     },
     "execution_count": 53,
     "metadata": {},
     "output_type": "execute_result"
    }
   ],
   "source": [
    "data_house['number_of_half_rooms'].describe()\n"
   ]
  },
  {
   "cell_type": "code",
   "execution_count": 54,
   "metadata": {},
   "outputs": [
    {
     "name": "stdout",
     "output_type": "stream",
     "text": [
      "0.6081798816568047\n"
     ]
    }
   ],
   "source": [
    "print(data_house['number_of_half_rooms'].mad())\n"
   ]
  },
  {
   "cell_type": "code",
   "execution_count": 55,
   "metadata": {},
   "outputs": [
    {
     "name": "stdout",
     "output_type": "stream",
     "text": [
      "2.233770644970414\n",
      "-1.415308644970414\n"
     ]
    }
   ],
   "source": [
    "#Upper and lower limit\n",
    "upper_threshold = 0.409231 + 3*0.6081798816568047\n",
    "lower_threshold = 0.409231 - 3*0.6081798816568047\n",
    "\n",
    "print(upper_threshold)\n",
    "print(lower_threshold)\n"
   ]
  },
  {
   "cell_type": "code",
   "execution_count": 56,
   "metadata": {},
   "outputs": [
    {
     "ename": "NameError",
     "evalue": "name 'number_of_half_rooms_house_clean' is not defined",
     "output_type": "error",
     "traceback": [
      "\u001b[0;31m---------------------------------------------------------------------------\u001b[0m",
      "\u001b[0;31mNameError\u001b[0m                                 Traceback (most recent call last)",
      "\u001b[0;32m<ipython-input-56-349244d2037c>\u001b[0m in \u001b[0;36m<module>\u001b[0;34m\u001b[0m\n\u001b[1;32m      4\u001b[0m \u001b[0;34m\u001b[0m\u001b[0m\n\u001b[1;32m      5\u001b[0m \u001b[0mplt\u001b[0m\u001b[0;34m.\u001b[0m\u001b[0mfigure\u001b[0m\u001b[0;34m(\u001b[0m\u001b[0mfigsize\u001b[0m \u001b[0;34m=\u001b[0m \u001b[0;34m(\u001b[0m\u001b[0;36m10\u001b[0m\u001b[0;34m,\u001b[0m\u001b[0;36m10\u001b[0m\u001b[0;34m)\u001b[0m\u001b[0;34m)\u001b[0m\u001b[0;34m\u001b[0m\u001b[0m\n\u001b[0;32m----> 6\u001b[0;31m \u001b[0mplt\u001b[0m\u001b[0;34m.\u001b[0m\u001b[0mhist\u001b[0m\u001b[0;34m(\u001b[0m\u001b[0mnumber_of_half_rooms_house_clean\u001b[0m\u001b[0;34m[\u001b[0m\u001b[0;34m'number_of_half_rooms'\u001b[0m\u001b[0;34m]\u001b[0m\u001b[0;34m,\u001b[0m \u001b[0malpha\u001b[0m \u001b[0;34m=\u001b[0m \u001b[0;36m0.5\u001b[0m\u001b[0;34m)\u001b[0m\u001b[0;34m\u001b[0m\u001b[0m\n\u001b[0m\u001b[1;32m      7\u001b[0m \u001b[0mplt\u001b[0m\u001b[0;34m.\u001b[0m\u001b[0mxlabel\u001b[0m\u001b[0;34m(\u001b[0m\u001b[0;34m'number_of_half_rooms'\u001b[0m\u001b[0;34m)\u001b[0m\u001b[0;34m\u001b[0m\u001b[0m\n\u001b[1;32m      8\u001b[0m \u001b[0mplt\u001b[0m\u001b[0;34m.\u001b[0m\u001b[0mylabel\u001b[0m\u001b[0;34m(\u001b[0m\u001b[0;34m'frequency'\u001b[0m\u001b[0;34m)\u001b[0m\u001b[0;34m\u001b[0m\u001b[0m\n",
      "\u001b[0;31mNameError\u001b[0m: name 'number_of_half_rooms_house_clean' is not defined"
     ]
    },
    {
     "data": {
      "text/plain": [
       "<Figure size 720x720 with 0 Axes>"
      ]
     },
     "metadata": {},
     "output_type": "display_data"
    }
   ],
   "source": [
    "data_clean = pd.read_csv('rent_clean.csv')\n",
    "data_clean_apa = data_clean[data_clean['apartment'] != 0]\n",
    "data_clean_house = data_clean[data_clean['house'] != 0]\n",
    "\n",
    "plt.figure(figsize = (10,10))\n",
    "plt.hist(number_of_half_rooms_house_clean['number_of_half_rooms'], alpha = 0.5)\n",
    "plt.xlabel('number_of_half_rooms')\n",
    "plt.ylabel('frequency')\n",
    "plt.title('number_of_half_rooms for houses')\n",
    "plt.show()\n"
   ]
  },
  {
   "cell_type": "code",
   "execution_count": null,
   "metadata": {
    "scrolled": false
   },
   "outputs": [],
   "source": [
    "#Deposite\n",
    "plt.figure(figsize = (10,10))\n",
    "plt.hist(data['deposit'], alpha = 0.5)\n",
    "plt.xlabel('deposit')\n",
    "plt.ylabel('frequency')\n",
    "plt.title('deposit')\n",
    "plt.show()\n"
   ]
  },
  {
   "cell_type": "code",
   "execution_count": null,
   "metadata": {},
   "outputs": [],
   "source": [
    "#Deposite per sqm\n",
    "plt.figure(figsize = (10,10))\n",
    "plt.hist(data['deposit_per_sqm'], alpha = 0.5)\n",
    "plt.xlabel('deposit_per_sqm')\n",
    "plt.ylabel('frequency')\n",
    "plt.title('deposit_per_sqm')\n",
    "plt.show()\n"
   ]
  },
  {
   "cell_type": "code",
   "execution_count": 57,
   "metadata": {},
   "outputs": [
    {
     "data": {
      "text/plain": [
       "count     3209.000000\n",
       "mean      1591.246494\n",
       "std       1303.453397\n",
       "min          3.000000\n",
       "25%        896.000000\n",
       "50%       1113.000000\n",
       "75%       1800.000000\n",
       "max      18000.000000\n",
       "Name: deposit, dtype: float64"
      ]
     },
     "execution_count": 57,
     "metadata": {},
     "output_type": "execute_result"
    }
   ],
   "source": [
    "data['deposit'].describe()\n"
   ]
  },
  {
   "cell_type": "code",
   "execution_count": 58,
   "metadata": {},
   "outputs": [
    {
     "data": {
      "text/plain": [
       "count    11771.000000\n",
       "mean         6.140405\n",
       "std         11.064547\n",
       "min          0.000000\n",
       "25%          0.000000\n",
       "50%          0.000000\n",
       "75%         13.778671\n",
       "max        159.071429\n",
       "Name: deposit_per_sqm, dtype: float64"
      ]
     },
     "execution_count": 58,
     "metadata": {},
     "output_type": "execute_result"
    }
   ],
   "source": [
    "data['deposit_per_sqm'].describe()\n"
   ]
  },
  {
   "cell_type": "code",
   "execution_count": 59,
   "metadata": {},
   "outputs": [
    {
     "data": {
      "text/plain": [
       "<matplotlib.axes._subplots.AxesSubplot at 0x11329ddd8>"
      ]
     },
     "execution_count": 59,
     "metadata": {},
     "output_type": "execute_result"
    },
    {
     "data": {
      "image/png": "[encoded data removed]",
      "text/plain": [
       "<Figure size 432x288 with 1 Axes>"
      ]
     },
     "metadata": {
      "needs_background": "light"
     },
     "output_type": "display_data"
    }
   ],
   "source": [
    "sns.boxplot(x = data_apa['deposit_per_sqm'])"
   ]
  },
  {
   "cell_type": "code",
   "execution_count": 60,
   "metadata": {},
   "outputs": [
    {
     "data": {
      "image/png": "[encoded data removed]",
      "text/plain": [
       "<Figure size 720x720 with 1 Axes>"
      ]
     },
     "metadata": {
      "needs_background": "light"
     },
     "output_type": "display_data"
    }
   ],
   "source": [
    "plt.figure(figsize = (10,10))\n",
    "plt.hist(data_apa['deposit_per_sqm'], alpha = 0.5)\n",
    "plt.xlabel('deposit')\n",
    "plt.ylabel('frequency')\n",
    "plt.title('deposit_per_sqm for apartments')\n",
    "plt.show()\n"
   ]
  },
  {
   "cell_type": "code",
   "execution_count": 61,
   "metadata": {},
   "outputs": [
    {
     "data": {
      "text/plain": [
       "count    11121.000000\n",
       "mean         6.346269\n",
       "std         11.212649\n",
       "min          0.000000\n",
       "25%          0.000000\n",
       "50%          0.000000\n",
       "75%         14.549020\n",
       "max        159.071429\n",
       "Name: deposit_per_sqm, dtype: float64"
      ]
     },
     "execution_count": 61,
     "metadata": {},
     "output_type": "execute_result"
    }
   ],
   "source": [
    "data_apa['deposit_per_sqm'].describe()\n"
   ]
  },
  {
   "cell_type": "code",
   "execution_count": 62,
   "metadata": {},
   "outputs": [
    {
     "name": "stdout",
     "output_type": "stream",
     "text": [
      "9.142070015417511\n"
     ]
    }
   ],
   "source": [
    "#Since naturally the larger the property is, the more deposit it will need\n",
    "#And both deposit and deposit_per_sqm share similar shapes\n",
    "#We use deposit_per_sqm here\n",
    "\n",
    "print(data_apa['deposit_per_sqm'].mad())"
   ]
  },
  {
   "cell_type": "code",
   "execution_count": 63,
   "metadata": {},
   "outputs": [
    {
     "name": "stdout",
     "output_type": "stream",
     "text": [
      "33.772479046252535\n",
      "-21.079941046252536\n"
     ]
    }
   ],
   "source": [
    "#Upper and lower limit\n",
    "upper_threshold = 6.346269 + 3*9.142070015417511\n",
    "lower_threshold = 6.346269 - 3*9.142070015417511\n",
    "\n",
    "print(upper_threshold)\n",
    "print(lower_threshold)\n"
   ]
  },
  {
   "cell_type": "code",
   "execution_count": 64,
   "metadata": {},
   "outputs": [],
   "source": [
    "data_clean = pd.read_csv('rent_clean.csv')\n",
    "data_clean_apa = data_clean[data_clean['apartment'] != 0]\n",
    "data_clean_house = data_clean[data_clean['house'] != 0]\n"
   ]
  },
  {
   "cell_type": "code",
   "execution_count": 65,
   "metadata": {},
   "outputs": [
    {
     "data": {
      "text/plain": [
       "<matplotlib.axes._subplots.AxesSubplot at 0x112488470>"
      ]
     },
     "execution_count": 65,
     "metadata": {},
     "output_type": "execute_result"
    },
    {
     "data": {
      "image/png": "[encoded data removed]",
      "text/plain": [
       "<Figure size 432x288 with 1 Axes>"
      ]
     },
     "metadata": {
      "needs_background": "light"
     },
     "output_type": "display_data"
    }
   ],
   "source": [
    "sns.boxplot(x = data_clean_apa['deposit_per_sqm'])\n"
   ]
  },
  {
   "cell_type": "code",
   "execution_count": 66,
   "metadata": {},
   "outputs": [
    {
     "data": {
      "image/png": "[encoded data removed]",
      "text/plain": [
       "<Figure size 720x720 with 1 Axes>"
      ]
     },
     "metadata": {
      "needs_background": "light"
     },
     "output_type": "display_data"
    }
   ],
   "source": [
    "plt.figure(figsize = (10,10))\n",
    "plt.hist(data_clean_apa['deposit_per_sqm'], alpha = 0.5)\n",
    "plt.xlabel('deposit')\n",
    "plt.ylabel('frequency')\n",
    "plt.title('deposit_per_sqm for apartments')\n",
    "plt.show()\n"
   ]
  },
  {
   "cell_type": "code",
   "execution_count": 67,
   "metadata": {
    "scrolled": true
   },
   "outputs": [
    {
     "data": {
      "text/plain": [
       "<matplotlib.axes._subplots.AxesSubplot at 0x11635c908>"
      ]
     },
     "execution_count": 67,
     "metadata": {},
     "output_type": "execute_result"
    },
    {
     "data": {
      "image/png": "[encoded data removed]",
      "text/plain": [
       "<Figure size 432x288 with 1 Axes>"
      ]
     },
     "metadata": {
      "needs_background": "light"
     },
     "output_type": "display_data"
    }
   ],
   "source": [
    "sns.boxplot(x = data_house['deposit_per_sqm'])\n"
   ]
  },
  {
   "cell_type": "code",
   "execution_count": 68,
   "metadata": {},
   "outputs": [
    {
     "data": {
      "image/png": "[encoded data removed]",
      "text/plain": [
       "<Figure size 720x720 with 1 Axes>"
      ]
     },
     "metadata": {
      "needs_background": "light"
     },
     "output_type": "display_data"
    }
   ],
   "source": [
    "plt.figure(figsize = (10,10))\n",
    "plt.hist(data_house['deposit_per_sqm'], alpha = 0.5)\n",
    "plt.xlabel('deposit_per_sqm')\n",
    "plt.ylabel('frequency')\n",
    "plt.title('deposit_per_sqm for houses')\n",
    "plt.show()\n"
   ]
  },
  {
   "cell_type": "code",
   "execution_count": 69,
   "metadata": {},
   "outputs": [
    {
     "data": {
      "text/plain": [
       "count    650.000000\n",
       "mean       2.618225\n",
       "std        7.275392\n",
       "min        0.000000\n",
       "25%        0.000000\n",
       "50%        0.000000\n",
       "75%        0.000000\n",
       "max       50.000000\n",
       "Name: deposit_per_sqm, dtype: float64"
      ]
     },
     "execution_count": 69,
     "metadata": {},
     "output_type": "execute_result"
    }
   ],
   "source": [
    "data_house['deposit_per_sqm'].describe()\n"
   ]
  },
  {
   "cell_type": "code",
   "execution_count": 70,
   "metadata": {},
   "outputs": [
    {
     "name": "stdout",
     "output_type": "stream",
     "text": [
      "4.49375272310773\n"
     ]
    }
   ],
   "source": [
    "print(data_house['deposit_per_sqm'].mad())\n"
   ]
  },
  {
   "cell_type": "code",
   "execution_count": 71,
   "metadata": {},
   "outputs": [
    {
     "name": "stdout",
     "output_type": "stream",
     "text": [
      "16.09948316932319\n",
      "-10.863033169323192\n"
     ]
    }
   ],
   "source": [
    "#Upper and lower limit\n",
    "upper_threshold = 2.618225 + 3*4.49375272310773\n",
    "lower_threshold = 2.618225 - 3*4.49375272310773\n",
    "\n",
    "print(upper_threshold)\n",
    "print(lower_threshold)\n"
   ]
  },
  {
   "cell_type": "code",
   "execution_count": 72,
   "metadata": {},
   "outputs": [],
   "source": [
    "data_clean = pd.read_csv('rent_clean.csv')\n",
    "data_clean_apa = data_clean[data_clean['apartment'] != 0]\n",
    "data_clean_house = data_clean[data_clean['house'] != 0]\n"
   ]
  },
  {
   "cell_type": "code",
   "execution_count": 73,
   "metadata": {},
   "outputs": [
    {
     "data": {
      "text/plain": [
       "<matplotlib.axes._subplots.AxesSubplot at 0x113ff35c0>"
      ]
     },
     "execution_count": 73,
     "metadata": {},
     "output_type": "execute_result"
    },
    {
     "data": {
      "image/png": "[encoded data removed]",
      "text/plain": [
       "<Figure size 432x288 with 1 Axes>"
      ]
     },
     "metadata": {
      "needs_background": "light"
     },
     "output_type": "display_data"
    }
   ],
   "source": [
    "sns.boxplot(x = data_clean_house['deposit_per_sqm'])\n"
   ]
  },
  {
   "cell_type": "code",
   "execution_count": 74,
   "metadata": {},
   "outputs": [
    {
     "data": {
      "image/png": "[encoded data removed]",
      "text/plain": [
       "<Figure size 720x720 with 1 Axes>"
      ]
     },
     "metadata": {
      "needs_background": "light"
     },
     "output_type": "display_data"
    }
   ],
   "source": [
    "plt.figure(figsize = (10,10))\n",
    "plt.hist(data_clean_house['deposit_per_sqm'], alpha = 0.5)\n",
    "plt.xlabel('deposit_per_sqm')\n",
    "plt.ylabel('frequency')\n",
    "plt.title('deposit_per_sqm for houses')\n",
    "plt.show()\n"
   ]
  },
  {
   "cell_type": "code",
   "execution_count": 75,
   "metadata": {},
   "outputs": [
    {
     "data": {
      "image/png": "[encoded data removed]",
      "text/plain": [
       "<Figure size 720x720 with 1 Axes>"
      ]
     },
     "metadata": {
      "needs_background": "light"
     },
     "output_type": "display_data"
    }
   ],
   "source": [
    "#Utilities fee per sqm\n",
    "plt.figure(figsize = (10,10))\n",
    "plt.hist(data_apa['utilities_fee_per_sqm'], alpha = 0.5)\n",
    "plt.xlabel('utilities_fee_per_sqm')\n",
    "plt.ylabel('frequency')\n",
    "plt.title('utilities_fee_per_sqm for apartments')\n",
    "plt.show()\n"
   ]
  },
  {
   "cell_type": "code",
   "execution_count": 76,
   "metadata": {},
   "outputs": [
    {
     "data": {
      "text/plain": [
       "<matplotlib.axes._subplots.AxesSubplot at 0x1163e0c88>"
      ]
     },
     "execution_count": 76,
     "metadata": {},
     "output_type": "execute_result"
    },
    {
     "data": {
      "image/png": "[encoded data removed]",
      "text/plain": [
       "<Figure size 432x288 with 1 Axes>"
      ]
     },
     "metadata": {
      "needs_background": "light"
     },
     "output_type": "display_data"
    }
   ],
   "source": [
    "sns.boxplot(x = data_apa['utilities_fee_per_sqm'])\n"
   ]
  },
  {
   "cell_type": "code",
   "execution_count": 77,
   "metadata": {},
   "outputs": [
    {
     "data": {
      "text/plain": [
       "count    11121.000000\n",
       "mean         0.782227\n",
       "std         16.145270\n",
       "min          0.000000\n",
       "25%          0.000000\n",
       "50%          0.000000\n",
       "75%          0.534483\n",
       "max        806.434783\n",
       "Name: utilities_fee_per_sqm, dtype: float64"
      ]
     },
     "execution_count": 77,
     "metadata": {},
     "output_type": "execute_result"
    }
   ],
   "source": [
    "data_apa['utilities_fee_per_sqm'].describe()\n"
   ]
  },
  {
   "cell_type": "code",
   "execution_count": 78,
   "metadata": {},
   "outputs": [
    {
     "name": "stdout",
     "output_type": "stream",
     "text": [
      "1.1650543064699315\n"
     ]
    }
   ],
   "source": [
    "print(data_apa['utilities_fee_per_sqm'].mad())\n"
   ]
  },
  {
   "cell_type": "code",
   "execution_count": 79,
   "metadata": {},
   "outputs": [
    {
     "name": "stdout",
     "output_type": "stream",
     "text": [
      "4.277389919409794\n",
      "-2.7129359194097944\n"
     ]
    }
   ],
   "source": [
    "#Upper and lower limit\n",
    "upper_threshold = 0.782227 + 3*1.1650543064699315\n",
    "lower_threshold = 0.782227 - 3*1.1650543064699315\n",
    "\n",
    "print(upper_threshold)\n",
    "print(lower_threshold)\n"
   ]
  },
  {
   "cell_type": "code",
   "execution_count": 80,
   "metadata": {},
   "outputs": [],
   "source": [
    "data_clean = pd.read_csv('rent_clean.csv')\n",
    "data_clean_apa = data_clean[data_clean['apartment'] != 0]\n",
    "data_clean_house = data_clean[data_clean['house'] != 0]\n"
   ]
  },
  {
   "cell_type": "code",
   "execution_count": 81,
   "metadata": {},
   "outputs": [
    {
     "data": {
      "text/plain": [
       "<matplotlib.axes._subplots.AxesSubplot at 0x11ab706a0>"
      ]
     },
     "execution_count": 81,
     "metadata": {},
     "output_type": "execute_result"
    },
    {
     "data": {
      "image/png": "[encoded data removed]",
      "text/plain": [
       "<Figure size 432x288 with 1 Axes>"
      ]
     },
     "metadata": {
      "needs_background": "light"
     },
     "output_type": "display_data"
    }
   ],
   "source": [
    "sns.boxplot(data_clean_apa['utilities_fee_per_sqm'])\n"
   ]
  },
  {
   "cell_type": "code",
   "execution_count": 82,
   "metadata": {},
   "outputs": [
    {
     "data": {
      "image/png": "[encoded data removed]",
      "text/plain": [
       "<Figure size 720x720 with 1 Axes>"
      ]
     },
     "metadata": {
      "needs_background": "light"
     },
     "output_type": "display_data"
    }
   ],
   "source": [
    "#Utilities fee per sqm\n",
    "plt.figure(figsize = (10,10))\n",
    "plt.hist(data_clean_apa['utilities_fee_per_sqm'], alpha = 0.5)\n",
    "plt.xlabel('utilities_fee_per_sqm')\n",
    "plt.ylabel('frequency')\n",
    "plt.title('utilities_fee_per_sqm for apartments')\n",
    "plt.show()\n"
   ]
  },
  {
   "cell_type": "code",
   "execution_count": 83,
   "metadata": {},
   "outputs": [
    {
     "data": {
      "image/png": "[encoded data removed]",
      "text/plain": [
       "<Figure size 720x720 with 1 Axes>"
      ]
     },
     "metadata": {
      "needs_background": "light"
     },
     "output_type": "display_data"
    }
   ],
   "source": [
    "#Utilities fee per sqm\n",
    "plt.figure(figsize = (10,10))\n",
    "plt.hist(data_house['utilities_fee_per_sqm'], alpha = 0.5)\n",
    "plt.xlabel('utilities_fee_per_sqm')\n",
    "plt.ylabel('frequency')\n",
    "plt.title('utilities_fee_per_sqm for houses')\n",
    "plt.show()\n"
   ]
  },
  {
   "cell_type": "code",
   "execution_count": 84,
   "metadata": {},
   "outputs": [
    {
     "data": {
      "text/plain": [
       "<matplotlib.axes._subplots.AxesSubplot at 0x1163ae3c8>"
      ]
     },
     "execution_count": 84,
     "metadata": {},
     "output_type": "execute_result"
    },
    {
     "data": {
      "image/png": "[encoded data removed]",
      "text/plain": [
       "<Figure size 432x288 with 1 Axes>"
      ]
     },
     "metadata": {
      "needs_background": "light"
     },
     "output_type": "display_data"
    }
   ],
   "source": [
    "sns.boxplot(x = data_house['utilities_fee_per_sqm'])\n"
   ]
  },
  {
   "cell_type": "code",
   "execution_count": 85,
   "metadata": {},
   "outputs": [
    {
     "data": {
      "text/plain": [
       "count    650.000000\n",
       "mean       0.484425\n",
       "std        8.498223\n",
       "min        0.000000\n",
       "25%        0.000000\n",
       "50%        0.000000\n",
       "75%        0.000000\n",
       "max      216.380000\n",
       "Name: utilities_fee_per_sqm, dtype: float64"
      ]
     },
     "execution_count": 85,
     "metadata": {},
     "output_type": "execute_result"
    }
   ],
   "source": [
    "data_house['utilities_fee_per_sqm'].describe()\n"
   ]
  },
  {
   "cell_type": "code",
   "execution_count": 86,
   "metadata": {},
   "outputs": [
    {
     "name": "stdout",
     "output_type": "stream",
     "text": [
      "0.8357358670875169\n"
     ]
    }
   ],
   "source": [
    "print(data_house['utilities_fee_per_sqm'].mad())\n"
   ]
  },
  {
   "cell_type": "code",
   "execution_count": 87,
   "metadata": {},
   "outputs": [
    {
     "name": "stdout",
     "output_type": "stream",
     "text": [
      "2.9916326012625505\n",
      "-2.0227826012625507\n"
     ]
    }
   ],
   "source": [
    "#Upper and lower limit\n",
    "upper_threshold = 0.484425 + 3*0.8357358670875169\n",
    "lower_threshold = 0.484425 - 3*0.8357358670875169\n",
    "\n",
    "print(upper_threshold)\n",
    "print(lower_threshold)\n"
   ]
  },
  {
   "cell_type": "code",
   "execution_count": 88,
   "metadata": {},
   "outputs": [],
   "source": [
    "data_clean = pd.read_csv('rent_clean.csv')\n",
    "data_clean_apa = data_clean[data_clean['apartment'] != 0]\n",
    "data_clean_house = data_clean[data_clean['house'] != 0]\n"
   ]
  },
  {
   "cell_type": "code",
   "execution_count": 89,
   "metadata": {},
   "outputs": [
    {
     "data": {
      "image/png": "[encoded data removed]",
      "text/plain": [
       "<Figure size 720x720 with 1 Axes>"
      ]
     },
     "metadata": {
      "needs_background": "light"
     },
     "output_type": "display_data"
    }
   ],
   "source": [
    "#Utilities fee per sqm\n",
    "plt.figure(figsize = (10,10))\n",
    "plt.hist(data_clean_house['utilities_fee_per_sqm'], alpha = 0.5)\n",
    "plt.xlabel('utilities_fee_per_sqm')\n",
    "plt.ylabel('frequency')\n",
    "plt.title('utilities_fee_per_sqm for houses')\n",
    "plt.show()\n"
   ]
  },
  {
   "cell_type": "code",
   "execution_count": 90,
   "metadata": {},
   "outputs": [
    {
     "data": {
      "text/plain": [
       "<matplotlib.axes._subplots.AxesSubplot at 0x113370b70>"
      ]
     },
     "execution_count": 90,
     "metadata": {},
     "output_type": "execute_result"
    },
    {
     "data": {
      "image/png": "[encoded data removed]",
      "text/plain": [
       "<Figure size 432x288 with 1 Axes>"
      ]
     },
     "metadata": {
      "needs_background": "light"
     },
     "output_type": "display_data"
    }
   ],
   "source": [
    "sns.boxplot(x = data_clean_house['utilities_fee_per_sqm'])\n"
   ]
  },
  {
   "cell_type": "code",
   "execution_count": 91,
   "metadata": {},
   "outputs": [
    {
     "data": {
      "image/png": "[encoded data removed]",
      "text/plain": [
       "<Figure size 720x720 with 1 Axes>"
      ]
     },
     "metadata": {
      "needs_background": "light"
     },
     "output_type": "display_data"
    }
   ],
   "source": [
    "#Common cost\n",
    "plt.figure(figsize = (10,10))\n",
    "plt.hist(data_apa['common_cost'], alpha = 0.5)\n",
    "plt.xlabel('common_cost')\n",
    "plt.ylabel('frequency')\n",
    "plt.title('common_cost for apartments')\n",
    "plt.show()\n"
   ]
  },
  {
   "cell_type": "code",
   "execution_count": 92,
   "metadata": {},
   "outputs": [
    {
     "data": {
      "text/plain": [
       "<matplotlib.axes._subplots.AxesSubplot at 0x113fddfd0>"
      ]
     },
     "execution_count": 92,
     "metadata": {},
     "output_type": "execute_result"
    },
    {
     "data": {
      "image/png": "[encoded data removed]",
      "text/plain": [
       "<Figure size 432x288 with 1 Axes>"
      ]
     },
     "metadata": {
      "needs_background": "light"
     },
     "output_type": "display_data"
    }
   ],
   "source": [
    "sns.boxplot(data_apa['common_cost'])\n"
   ]
  },
  {
   "cell_type": "code",
   "execution_count": 93,
   "metadata": {},
   "outputs": [
    {
     "data": {
      "text/plain": [
       "count    3009.000000\n",
       "mean       56.331672\n",
       "std        66.836905\n",
       "min         3.000000\n",
       "25%        31.000000\n",
       "50%        40.000000\n",
       "75%        62.000000\n",
       "max      2628.000000\n",
       "Name: common_cost, dtype: float64"
      ]
     },
     "execution_count": 93,
     "metadata": {},
     "output_type": "execute_result"
    }
   ],
   "source": [
    "data_apa['common_cost'].describe()\n"
   ]
  },
  {
   "cell_type": "code",
   "execution_count": 94,
   "metadata": {},
   "outputs": [
    {
     "name": "stdout",
     "output_type": "stream",
     "text": [
      "30.991817060174302\n"
     ]
    }
   ],
   "source": [
    "print(data_apa['common_cost'].mad())\n"
   ]
  },
  {
   "cell_type": "code",
   "execution_count": 95,
   "metadata": {},
   "outputs": [
    {
     "name": "stdout",
     "output_type": "stream",
     "text": [
      "149.30712318052292\n",
      "-36.64377918052291\n"
     ]
    }
   ],
   "source": [
    "#Upper and lower limit\n",
    "upper_threshold = 56.331672 + 3*30.991817060174302\n",
    "lower_threshold = 56.331672 - 3*30.991817060174302\n",
    "\n",
    "print(upper_threshold)\n",
    "print(lower_threshold)\n"
   ]
  },
  {
   "cell_type": "code",
   "execution_count": 96,
   "metadata": {},
   "outputs": [],
   "source": [
    "data_clean = pd.read_csv('rent_clean.csv')\n",
    "data_clean_apa = data_clean[data_clean['apartment'] != 0]\n",
    "data_clean_house = data_clean[data_clean['house'] != 0]\n"
   ]
  },
  {
   "cell_type": "code",
   "execution_count": 97,
   "metadata": {},
   "outputs": [
    {
     "data": {
      "image/png": "[encoded data removed]",
      "text/plain": [
       "<Figure size 720x720 with 1 Axes>"
      ]
     },
     "metadata": {
      "needs_background": "light"
     },
     "output_type": "display_data"
    }
   ],
   "source": [
    "plt.figure(figsize = (10,10))\n",
    "plt.hist(data_clean_apa['common_cost'], alpha = 0.5)\n",
    "plt.xlabel('common_cost')\n",
    "plt.ylabel('frequency')\n",
    "plt.title('common_cost for apartments')\n",
    "plt.show()\n"
   ]
  },
  {
   "cell_type": "code",
   "execution_count": 98,
   "metadata": {},
   "outputs": [
    {
     "data": {
      "text/plain": [
       "<matplotlib.axes._subplots.AxesSubplot at 0x11b74dc50>"
      ]
     },
     "execution_count": 98,
     "metadata": {},
     "output_type": "execute_result"
    },
    {
     "data": {
      "image/png": "[encoded data removed]",
      "text/plain": [
       "<Figure size 432x288 with 1 Axes>"
      ]
     },
     "metadata": {
      "needs_background": "light"
     },
     "output_type": "display_data"
    }
   ],
   "source": [
    "sns.boxplot(x = data_clean_apa['common_cost'])"
   ]
  },
  {
   "cell_type": "code",
   "execution_count": 99,
   "metadata": {},
   "outputs": [
    {
     "data": {
      "image/png": "[encoded data removed]",
      "text/plain": [
       "<Figure size 720x720 with 1 Axes>"
      ]
     },
     "metadata": {
      "needs_background": "light"
     },
     "output_type": "display_data"
    }
   ],
   "source": [
    "plt.figure(figsize = (10,10))\n",
    "plt.hist(data_house['common_cost'], alpha = 0.5)\n",
    "plt.xlabel('common_cost')\n",
    "plt.ylabel('frequency')\n",
    "plt.title('common_cost for houses')\n",
    "plt.show()\n"
   ]
  },
  {
   "cell_type": "code",
   "execution_count": 100,
   "metadata": {},
   "outputs": [
    {
     "data": {
      "text/plain": [
       "<matplotlib.axes._subplots.AxesSubplot at 0x113d8cc50>"
      ]
     },
     "execution_count": 100,
     "metadata": {},
     "output_type": "execute_result"
    },
    {
     "data": {
      "image/png": "[encoded data removed]",
      "text/plain": [
       "<Figure size 432x288 with 1 Axes>"
      ]
     },
     "metadata": {
      "needs_background": "light"
     },
     "output_type": "display_data"
    }
   ],
   "source": [
    "sns.boxplot(data_house['common_cost'])\n"
   ]
  },
  {
   "cell_type": "code",
   "execution_count": 101,
   "metadata": {},
   "outputs": [
    {
     "data": {
      "text/plain": [
       "count     26.000000\n",
       "mean      17.730769\n",
       "std       36.206693\n",
       "min        3.000000\n",
       "25%        3.000000\n",
       "50%        3.000000\n",
       "75%       14.250000\n",
       "max      155.000000\n",
       "Name: common_cost, dtype: float64"
      ]
     },
     "execution_count": 101,
     "metadata": {},
     "output_type": "execute_result"
    }
   ],
   "source": [
    "data_house['common_cost'].describe()\n"
   ]
  },
  {
   "cell_type": "code",
   "execution_count": 102,
   "metadata": {},
   "outputs": [
    {
     "name": "stdout",
     "output_type": "stream",
     "text": [
      "21.005917159763314\n"
     ]
    }
   ],
   "source": [
    "print(data_house['common_cost'].mad())\n"
   ]
  },
  {
   "cell_type": "code",
   "execution_count": 103,
   "metadata": {},
   "outputs": [
    {
     "name": "stdout",
     "output_type": "stream",
     "text": [
      "80.74852047928994\n",
      "-45.28698247928995\n"
     ]
    }
   ],
   "source": [
    "#Upper and lower limit\n",
    "upper_threshold = 17.730769 + 3*21.005917159763314\n",
    "lower_threshold = 17.730769 - 3*21.005917159763314\n",
    "\n",
    "print(upper_threshold)\n",
    "print(lower_threshold)\n"
   ]
  },
  {
   "cell_type": "code",
   "execution_count": 104,
   "metadata": {},
   "outputs": [],
   "source": [
    "data_clean = pd.read_csv('rent_clean.csv')\n",
    "data_clean_apa = data_clean[data_clean['apartment'] != 0]\n",
    "data_clean_house = data_clean[data_clean['house'] != 0]\n"
   ]
  },
  {
   "cell_type": "code",
   "execution_count": 105,
   "metadata": {},
   "outputs": [
    {
     "data": {
      "image/png": "[encoded data removed]",
      "text/plain": [
       "<Figure size 720x720 with 1 Axes>"
      ]
     },
     "metadata": {
      "needs_background": "light"
     },
     "output_type": "display_data"
    }
   ],
   "source": [
    "plt.figure(figsize = (10,10))\n",
    "plt.hist(data_clean_house['common_cost'], alpha = 0.5)\n",
    "plt.xlabel('common_cost')\n",
    "plt.ylabel('frequency')\n",
    "plt.title('common_cost for houses')\n",
    "plt.show()\n"
   ]
  },
  {
   "cell_type": "code",
   "execution_count": 107,
   "metadata": {},
   "outputs": [
    {
     "data": {
      "text/plain": [
       "<matplotlib.axes._subplots.AxesSubplot at 0x1124896a0>"
      ]
     },
     "execution_count": 107,
     "metadata": {},
     "output_type": "execute_result"
    },
    {
     "data": {
      "image/png": "[encoded data removed]",
      "text/plain": [
       "<Figure size 432x288 with 1 Axes>"
      ]
     },
     "metadata": {
      "needs_background": "light"
     },
     "output_type": "display_data"
    }
   ],
   "source": [
    "sns.boxplot(x = data_clean_house['common_cost'])\n"
   ]
  },
  {
   "cell_type": "code",
   "execution_count": null,
   "metadata": {},
   "outputs": [],
   "source": []
  }
 ],
 "metadata": {
  "kernelspec": {
   "display_name": "Python 3",
   "language": "python",
   "name": "python3"
  },
  "language_info": {
   "codemirror_mode": {
    "name": "ipython",
    "version": 3
   },
   "file_extension": ".py",
   "mimetype": "text/x-python",
   "name": "python",
   "nbconvert_exporter": "python",
   "pygments_lexer": "ipython3",
   "version": "3.7.0"
  }
 },
 "nbformat": 4,
 "nbformat_minor": 2
}
