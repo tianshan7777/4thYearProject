{
 "cells": [
  {
   "cell_type": "code",
   "execution_count": 3,
   "metadata": {},
   "outputs": [],
   "source": [
    "import pandas as pd\n",
    "import numpy as np\n",
    "from sklearn.model_selection import KFold\n",
    "from sklearn.linear_model import LinearRegression\n"
   ]
  },
  {
   "cell_type": "code",
   "execution_count": 4,
   "metadata": {},
   "outputs": [
    {
     "name": "stderr",
     "output_type": "stream",
     "text": [
      "/usr/local/lib/python3.7/site-packages/IPython/core/interactiveshell.py:3020: DtypeWarning: Columns (39,50,108) have mixed types. Specify dtype option on import or set low_memory=False.\n",
      "  interactivity=interactivity, compiler=compiler, result=result)\n"
     ]
    }
   ],
   "source": [
    "#Load data\n",
    "data = pd.read_csv('rent_clean.csv')\n"
   ]
  },
  {
   "cell_type": "code",
   "execution_count": 12,
   "metadata": {},
   "outputs": [
    {
     "name": "stdout",
     "output_type": "stream",
     "text": [
      "0.2273959202578469\n",
      "0.21985831947987478\n"
     ]
    }
   ],
   "source": [
    "#highest r square and ajd r square: 20 features\n",
    "test = data[['price_per_sqm', 'apartment', 'house', 'number_of_whole_rooms', 'floor', 'number_of_half_rooms', 'furnish_furnished', 'view_panoramic', 'view_street', 'balcony', 'lift', 'air_conditioner', 'utility_double_comfort', 'heating_gas', 'heating_wall_heating', 'heating_central_heating', 'heating_electric', 'heating_floor', 'heating_circulating', 'heating_district', 'condition_of_property_renovated'] ]\n",
    "test = test.dropna()\n",
    "\n",
    "X = test[['apartment', 'house', 'number_of_whole_rooms', 'floor', 'number_of_half_rooms', 'furnish_furnished', 'view_panoramic', 'view_street', 'balcony', 'lift', 'air_conditioner', 'utility_double_comfort', 'heating_gas', 'heating_wall_heating', 'heating_central_heating', 'heating_electric', 'heating_floor', 'heating_circulating', 'heating_district', 'condition_of_property_renovated']]\n",
    "y = test[['price_per_sqm']]\n",
    "\n",
    "scores = []\n",
    "cv = KFold(n_splits = 5, random_state = 42, shuffle = False)\n",
    "for train_index, test_index in cv.split(X):\n",
    "    X_train, X_test, y_train, y_test = X.iloc[train_index.tolist()], X.iloc[test_index], y.iloc[train_index], y.iloc[test_index]\n",
    "    my_model = LinearRegression().fit(X_train, y_train)\n",
    "    scores.append(my_model.score(X_test, y_test))\n",
    "\n",
    "r_square = np.mean(scores)\n",
    "adj_r = 1-(1-r_square)*(len(y)-1)/(len(y)-X.shape[1]-1)\n",
    "\n",
    "print(r_square)\n",
    "print(adj_r)\n",
    "        "
   ]
  },
  {
   "cell_type": "code",
   "execution_count": 13,
   "metadata": {
    "scrolled": true
   },
   "outputs": [
    {
     "name": "stdout",
     "output_type": "stream",
     "text": [
      "0.2640370251088904\n",
      "0.25685689852458693\n"
     ]
    }
   ],
   "source": [
    "test = data[['price_per_sqm', 'apartment', 'house', 'number_of_whole_rooms', 'floor', 'number_of_half_rooms', 'furnish_furnished', 'view_panoramic', 'view_street', 'balcony', 'lift', 'air_conditioner', 'utility_double_comfort', 'heating_gas', 'heating_wall_heating', 'heating_central_heating', 'heating_electric', 'heating_floor', 'heating_circulating', 'heating_district', 'condition_of_property_renovated'] ]\n",
    "test = test.dropna()\n",
    "\n",
    "X = test[['apartment', 'house', 'number_of_whole_rooms', 'floor', 'number_of_half_rooms', 'furnish_furnished', 'view_panoramic', 'view_street', 'balcony', 'lift', 'air_conditioner', 'utility_double_comfort', 'heating_gas', 'heating_wall_heating', 'heating_central_heating', 'heating_electric', 'heating_floor', 'heating_circulating', 'heating_district', 'condition_of_property_renovated']]\n",
    "y = test[['price_per_sqm']]\n",
    "\n",
    "my_model = LinearRegression().fit(X, y)\n",
    "\n",
    "print(my_model.score(X, y))\n",
    "print(1 - (1-my_model.score(X, y))*(len(y)-1)/(len(y)-X.shape[1]-1))\n"
   ]
  },
  {
   "cell_type": "code",
   "execution_count": 14,
   "metadata": {},
   "outputs": [
    {
     "name": "stdout",
     "output_type": "stream",
     "text": [
      "0.27350019072053655\n",
      "0.2656615463830436\n"
     ]
    }
   ],
   "source": [
    "test = data[['price_per_sqm', 'apartment', 'house', 'number_of_whole_rooms', 'floor', 'number_of_half_rooms', 'furnish_furnished', 'view_panoramic', 'view_street', 'balcony', 'lift', 'air_conditioner', 'utility_double_comfort', 'heating_gas', 'heating_wall_heating', 'heating_central_heating', 'heating_electric', 'heating_floor', 'heating_circulating', 'heating_district', 'condition_of_property_renovated', 'distace_to_danube','quadratic_danube','distace_to_city_centre','quadratic_centre','distace_to_keleti','quadratic_keleti'] ]\n",
    "test = test.dropna()\n",
    "\n",
    "X = test[['apartment', 'house', 'number_of_whole_rooms', 'floor', 'number_of_half_rooms', 'furnish_furnished', 'view_panoramic', 'view_street', 'balcony', 'lift', 'air_conditioner', 'utility_double_comfort', 'heating_gas', 'heating_wall_heating', 'heating_central_heating', 'heating_electric', 'heating_floor', 'heating_circulating', 'heating_district', 'condition_of_property_renovated', 'distace_to_danube','quadratic_danube']]\n",
    "y = test[['price_per_sqm']]\n",
    "\n",
    "my_model = LinearRegression().fit(X, y)\n",
    "\n",
    "print(my_model.score(X, y))\n",
    "print(1 - (1-my_model.score(X, y))*(len(y)-1)/(len(y)-X.shape[1]-1))\n"
   ]
  },
  {
   "cell_type": "code",
   "execution_count": 15,
   "metadata": {},
   "outputs": [
    {
     "name": "stdout",
     "output_type": "stream",
     "text": [
      "0.2376391632006559\n",
      "0.2294135926221441\n"
     ]
    }
   ],
   "source": [
    "test = data[['price_per_sqm', 'apartment', 'house', 'number_of_whole_rooms', 'floor', 'number_of_half_rooms', 'furnish_furnished', 'view_panoramic', 'view_street', 'balcony', 'lift', 'air_conditioner', 'utility_double_comfort', 'heating_gas', 'heating_wall_heating', 'heating_central_heating', 'heating_electric', 'heating_floor', 'heating_circulating', 'heating_district', 'condition_of_property_renovated', 'distace_to_danube','quadratic_danube','distace_to_city_centre','quadratic_centre','distace_to_keleti','quadratic_keleti'] ]\n",
    "test = test.dropna()\n",
    "\n",
    "X = test[['apartment', 'house', 'number_of_whole_rooms', 'floor', 'number_of_half_rooms', 'furnish_furnished', 'view_panoramic', 'view_street', 'balcony', 'lift', 'air_conditioner', 'utility_double_comfort', 'heating_gas', 'heating_wall_heating', 'heating_central_heating', 'heating_electric', 'heating_floor', 'heating_circulating', 'heating_district', 'condition_of_property_renovated', 'distace_to_danube','quadratic_danube']]\n",
    "y = test[['price_per_sqm']]\n",
    "\n",
    "scores = []\n",
    "cv = KFold(n_splits = 5, random_state = 42, shuffle = False)\n",
    "for train_index, test_index in cv.split(X):\n",
    "    X_train, X_test, y_train, y_test = X.iloc[train_index.tolist()], X.iloc[test_index], y.iloc[train_index], y.iloc[test_index]\n",
    "    my_model = LinearRegression().fit(X_train, y_train)\n",
    "    scores.append(my_model.score(X_test, y_test))\n",
    "\n",
    "r_square = np.mean(scores)\n",
    "adj_r = 1-(1-r_square)*(len(y)-1)/(len(y)-X.shape[1]-1)\n",
    "\n",
    "print(r_square)\n",
    "print(adj_r)\n"
   ]
  },
  {
   "cell_type": "code",
   "execution_count": 16,
   "metadata": {},
   "outputs": [
    {
     "name": "stdout",
     "output_type": "stream",
     "text": [
      "0.2909090286079512\n",
      "0.2832582187155407\n"
     ]
    }
   ],
   "source": [
    "test = data[['price_per_sqm', 'apartment', 'house', 'number_of_whole_rooms', 'floor', 'number_of_half_rooms', 'furnish_furnished', 'view_panoramic', 'view_street', 'balcony', 'lift', 'air_conditioner', 'utility_double_comfort', 'heating_gas', 'heating_wall_heating', 'heating_central_heating', 'heating_electric', 'heating_floor', 'heating_circulating', 'heating_district', 'condition_of_property_renovated', 'distace_to_danube','quadratic_danube','distace_to_city_centre','quadratic_centre','distace_to_keleti','quadratic_keleti'] ]\n",
    "test = test.dropna()\n",
    "\n",
    "X = test[['apartment', 'house', 'number_of_whole_rooms', 'floor', 'number_of_half_rooms', 'furnish_furnished', 'view_panoramic', 'view_street', 'balcony', 'lift', 'air_conditioner', 'utility_double_comfort', 'heating_gas', 'heating_wall_heating', 'heating_central_heating', 'heating_electric', 'heating_floor', 'heating_circulating', 'heating_district', 'condition_of_property_renovated', 'distace_to_city_centre','quadratic_centre']]\n",
    "y = test[['price_per_sqm']]\n",
    "\n",
    "my_model = LinearRegression().fit(X, y)\n",
    "\n",
    "print(my_model.score(X, y))\n",
    "print(1 - (1-my_model.score(X, y))*(len(y)-1)/(len(y)-X.shape[1]-1))"
   ]
  },
  {
   "cell_type": "code",
   "execution_count": 17,
   "metadata": {},
   "outputs": [
    {
     "name": "stdout",
     "output_type": "stream",
     "text": [
      "0.2544240161583041\n",
      "0.24637954747536284\n"
     ]
    }
   ],
   "source": [
    "test = data[['price_per_sqm', 'apartment', 'house', 'number_of_whole_rooms', 'floor', 'number_of_half_rooms', 'furnish_furnished', 'view_panoramic', 'view_street', 'balcony', 'lift', 'air_conditioner', 'utility_double_comfort', 'heating_gas', 'heating_wall_heating', 'heating_central_heating', 'heating_electric', 'heating_floor', 'heating_circulating', 'heating_district', 'condition_of_property_renovated', 'distace_to_danube','quadratic_danube','distace_to_city_centre','quadratic_centre','distace_to_keleti','quadratic_keleti'] ]\n",
    "test = test.dropna()\n",
    "\n",
    "X = test[['apartment', 'house', 'number_of_whole_rooms', 'floor', 'number_of_half_rooms', 'furnish_furnished', 'view_panoramic', 'view_street', 'balcony', 'lift', 'air_conditioner', 'utility_double_comfort', 'heating_gas', 'heating_wall_heating', 'heating_central_heating', 'heating_electric', 'heating_floor', 'heating_circulating', 'heating_district', 'condition_of_property_renovated','distace_to_city_centre','quadratic_centre']]\n",
    "y = test[['price_per_sqm']]\n",
    "\n",
    "scores = []\n",
    "cv = KFold(n_splits = 5, random_state = 42, shuffle = False)\n",
    "for train_index, test_index in cv.split(X):\n",
    "    X_train, X_test, y_train, y_test = X.iloc[train_index.tolist()], X.iloc[test_index], y.iloc[train_index], y.iloc[test_index]\n",
    "    my_model = LinearRegression().fit(X_train, y_train)\n",
    "    scores.append(my_model.score(X_test, y_test))\n",
    "\n",
    "r_square = np.mean(scores)\n",
    "adj_r = 1-(1-r_square)*(len(y)-1)/(len(y)-X.shape[1]-1)\n",
    "\n",
    "print(r_square)\n",
    "print(adj_r)\n"
   ]
  },
  {
   "cell_type": "code",
   "execution_count": 18,
   "metadata": {},
   "outputs": [
    {
     "name": "stdout",
     "output_type": "stream",
     "text": [
      "0.2697888597765583\n",
      "0.2619101716525192\n"
     ]
    }
   ],
   "source": [
    "test = data[['price_per_sqm', 'apartment', 'house', 'number_of_whole_rooms', 'floor', 'number_of_half_rooms', 'furnish_furnished', 'view_panoramic', 'view_street', 'balcony', 'lift', 'air_conditioner', 'utility_double_comfort', 'heating_gas', 'heating_wall_heating', 'heating_central_heating', 'heating_electric', 'heating_floor', 'heating_circulating', 'heating_district', 'condition_of_property_renovated', 'distace_to_danube','quadratic_danube','distace_to_city_centre','quadratic_centre','distace_to_keleti','quadratic_keleti'] ]\n",
    "test = test.dropna()\n",
    "\n",
    "X = test[['apartment', 'house', 'number_of_whole_rooms', 'floor', 'number_of_half_rooms', 'furnish_furnished', 'view_panoramic', 'view_street', 'balcony', 'lift', 'air_conditioner', 'utility_double_comfort', 'heating_gas', 'heating_wall_heating', 'heating_central_heating', 'heating_electric', 'heating_floor', 'heating_circulating', 'heating_district', 'condition_of_property_renovated', 'distace_to_keleti','quadratic_keleti']]\n",
    "y = test[['price_per_sqm']]\n",
    "\n",
    "my_model = LinearRegression().fit(X, y)\n",
    "\n",
    "print(my_model.score(X, y))\n",
    "print(1 - (1-my_model.score(X, y))*(len(y)-1)/(len(y)-X.shape[1]-1))\n"
   ]
  },
  {
   "cell_type": "code",
   "execution_count": 19,
   "metadata": {},
   "outputs": [
    {
     "name": "stdout",
     "output_type": "stream",
     "text": [
      "0.23768006919065296\n",
      "0.22869839106624246\n"
     ]
    }
   ],
   "source": [
    "test = data[['price_per_sqm', 'apartment', 'house', 'number_of_whole_rooms', 'floor', 'number_of_half_rooms', 'furnish_furnished', 'view_panoramic', 'view_street', 'balcony', 'lift', 'air_conditioner', 'utility_double_comfort', 'heating_gas', 'heating_wall_heating', 'heating_central_heating', 'heating_electric', 'heating_floor', 'heating_circulating', 'heating_district', 'condition_of_property_renovated', 'distace_to_danube','quadratic_danube','distace_to_city_centre','quadratic_centre','distace_to_keleti','quadratic_keleti'] ]\n",
    "test = test.dropna()\n",
    "\n",
    "X = test[['apartment', 'house', 'number_of_whole_rooms', 'floor', 'number_of_half_rooms', 'furnish_furnished', 'view_panoramic', 'view_street', 'balcony', 'lift', 'air_conditioner', 'utility_double_comfort', 'heating_gas', 'heating_wall_heating', 'heating_central_heating', 'heating_electric', 'heating_floor', 'heating_circulating', 'heating_district', 'condition_of_property_renovated', 'distace_to_danube','quadratic_danube','distace_to_keleti','quadratic_keleti']]\n",
    "y = test[['price_per_sqm']]\n",
    "\n",
    "scores = []\n",
    "cv = KFold(n_splits = 5, random_state = 42, shuffle = False)\n",
    "for train_index, test_index in cv.split(X):\n",
    "    X_train, X_test, y_train, y_test = X.iloc[train_index.tolist()], X.iloc[test_index], y.iloc[train_index], y.iloc[test_index]\n",
    "    my_model = LinearRegression().fit(X_train, y_train)\n",
    "    scores.append(my_model.score(X_test, y_test))\n",
    "\n",
    "r_square = np.mean(scores)\n",
    "adj_r = 1-(1-r_square)*(len(y)-1)/(len(y)-X.shape[1]-1)\n",
    "\n",
    "print(r_square)\n",
    "print(adj_r)\n"
   ]
  },
  {
   "cell_type": "code",
   "execution_count": 20,
   "metadata": {},
   "outputs": [
    {
     "name": "stdout",
     "output_type": "stream",
     "text": [
      "0.2930013713154487\n",
      "0.2846714905651152\n"
     ]
    }
   ],
   "source": [
    "test = data[['price_per_sqm', 'apartment', 'house', 'number_of_whole_rooms', 'floor', 'number_of_half_rooms', 'furnish_furnished', 'view_panoramic', 'view_street', 'balcony', 'lift', 'air_conditioner', 'utility_double_comfort', 'heating_gas', 'heating_wall_heating', 'heating_central_heating', 'heating_electric', 'heating_floor', 'heating_circulating', 'heating_district', 'condition_of_property_renovated', 'distace_to_danube','quadratic_danube','distace_to_city_centre','quadratic_centre','distace_to_keleti','quadratic_keleti'] ]\n",
    "test = test.dropna()\n",
    "\n",
    "X = test[['apartment', 'house', 'number_of_whole_rooms', 'floor', 'number_of_half_rooms', 'furnish_furnished', 'view_panoramic', 'view_street', 'balcony', 'lift', 'air_conditioner', 'utility_double_comfort', 'heating_gas', 'heating_wall_heating', 'heating_central_heating', 'heating_electric', 'heating_floor', 'heating_circulating', 'heating_district', 'condition_of_property_renovated', 'distace_to_danube','quadratic_danube','distace_to_city_centre','quadratic_centre']]\n",
    "y = test[['price_per_sqm']]\n",
    "\n",
    "my_model = LinearRegression().fit(X, y)\n",
    "\n",
    "print(my_model.score(X, y))\n",
    "print(1 - (1-my_model.score(X, y))*(len(y)-1)/(len(y)-X.shape[1]-1))\n"
   ]
  },
  {
   "cell_type": "code",
   "execution_count": 21,
   "metadata": {},
   "outputs": [
    {
     "name": "stdout",
     "output_type": "stream",
     "text": [
      "0.2543875894229106\n",
      "0.24560275984321\n"
     ]
    }
   ],
   "source": [
    "test = data[['price_per_sqm', 'apartment', 'house', 'number_of_whole_rooms', 'floor', 'number_of_half_rooms', 'furnish_furnished', 'view_panoramic', 'view_street', 'balcony', 'lift', 'air_conditioner', 'utility_double_comfort', 'heating_gas', 'heating_wall_heating', 'heating_central_heating', 'heating_electric', 'heating_floor', 'heating_circulating', 'heating_district', 'condition_of_property_renovated', 'distace_to_danube','quadratic_danube','distace_to_city_centre','quadratic_centre','distace_to_keleti','quadratic_keleti'] ]\n",
    "test = test.dropna()\n",
    "\n",
    "X = test[['apartment', 'house', 'number_of_whole_rooms', 'floor', 'number_of_half_rooms', 'furnish_furnished', 'view_panoramic', 'view_street', 'balcony', 'lift', 'air_conditioner', 'utility_double_comfort', 'heating_gas', 'heating_wall_heating', 'heating_central_heating', 'heating_electric', 'heating_floor', 'heating_circulating', 'heating_district', 'condition_of_property_renovated', 'distace_to_danube','quadratic_danube','distace_to_city_centre','quadratic_centre']]\n",
    "y = test[['price_per_sqm']]\n",
    "\n",
    "scores = []\n",
    "cv = KFold(n_splits = 5, random_state = 42, shuffle = False)\n",
    "for train_index, test_index in cv.split(X):\n",
    "    X_train, X_test, y_train, y_test = X.iloc[train_index.tolist()], X.iloc[test_index], y.iloc[train_index], y.iloc[test_index]\n",
    "    my_model = LinearRegression().fit(X_train, y_train)\n",
    "    scores.append(my_model.score(X_test, y_test))\n",
    "\n",
    "r_square = np.mean(scores)\n",
    "adj_r = 1-(1-r_square)*(len(y)-1)/(len(y)-X.shape[1]-1)\n",
    "\n",
    "print(r_square)\n",
    "print(adj_r)\n"
   ]
  },
  {
   "cell_type": "code",
   "execution_count": 22,
   "metadata": {},
   "outputs": [
    {
     "name": "stdout",
     "output_type": "stream",
     "text": [
      "0.3014656073246922\n",
      "0.2925408435853517\n"
     ]
    }
   ],
   "source": [
    "test = data[['price_per_sqm', 'apartment', 'house', 'number_of_whole_rooms', 'floor', 'number_of_half_rooms', 'furnish_furnished', 'view_panoramic', 'view_street', 'balcony', 'lift', 'air_conditioner', 'utility_double_comfort', 'heating_gas', 'heating_wall_heating', 'heating_central_heating', 'heating_electric', 'heating_floor', 'heating_circulating', 'heating_district', 'condition_of_property_renovated', 'distace_to_danube','quadratic_danube','distace_to_city_centre','quadratic_centre','distace_to_keleti','quadratic_keleti'] ]\n",
    "test = test.dropna()\n",
    "\n",
    "X = test[['apartment', 'house', 'number_of_whole_rooms', 'floor', 'number_of_half_rooms', 'furnish_furnished', 'view_panoramic', 'view_street', 'balcony', 'lift', 'air_conditioner', 'utility_double_comfort', 'heating_gas', 'heating_wall_heating', 'heating_central_heating', 'heating_electric', 'heating_floor', 'heating_circulating', 'heating_district', 'condition_of_property_renovated', 'distace_to_danube','quadratic_danube','distace_to_city_centre','quadratic_centre', 'distace_to_keleti','quadratic_keleti']]\n",
    "y = test[['price_per_sqm']]\n",
    "\n",
    "my_model = LinearRegression().fit(X, y)\n",
    "\n",
    "print(my_model.score(X, y))\n",
    "print(1 - (1-my_model.score(X, y))*(len(y)-1)/(len(y)-X.shape[1]-1))\n"
   ]
  },
  {
   "cell_type": "code",
   "execution_count": 23,
   "metadata": {},
   "outputs": [
    {
     "name": "stdout",
     "output_type": "stream",
     "text": [
      "0.26242186231249376\n",
      "0.25299825957054034\n"
     ]
    }
   ],
   "source": [
    "test = data[['price_per_sqm', 'apartment', 'house', 'number_of_whole_rooms', 'floor', 'number_of_half_rooms', 'furnish_furnished', 'view_panoramic', 'view_street', 'balcony', 'lift', 'air_conditioner', 'utility_double_comfort', 'heating_gas', 'heating_wall_heating', 'heating_central_heating', 'heating_electric', 'heating_floor', 'heating_circulating', 'heating_district', 'condition_of_property_renovated', 'distace_to_danube','quadratic_danube','distace_to_city_centre','quadratic_centre','distace_to_keleti','quadratic_keleti'] ]\n",
    "test = test.dropna()\n",
    "\n",
    "X = test[['apartment', 'house', 'number_of_whole_rooms', 'floor', 'number_of_half_rooms', 'furnish_furnished', 'view_panoramic', 'view_street', 'balcony', 'lift', 'air_conditioner', 'utility_double_comfort', 'heating_gas', 'heating_wall_heating', 'heating_central_heating', 'heating_electric', 'heating_floor', 'heating_circulating', 'heating_district', 'condition_of_property_renovated', 'distace_to_danube','quadratic_danube','distace_to_city_centre','quadratic_centre','distace_to_keleti','quadratic_keleti']]\n",
    "y = test[['price_per_sqm']]\n",
    "\n",
    "scores = []\n",
    "cv = KFold(n_splits = 5, random_state = 42, shuffle = False)\n",
    "for train_index, test_index in cv.split(X):\n",
    "    X_train, X_test, y_train, y_test = X.iloc[train_index.tolist()], X.iloc[test_index], y.iloc[train_index], y.iloc[test_index]\n",
    "    my_model = LinearRegression().fit(X_train, y_train)\n",
    "    scores.append(my_model.score(X_test, y_test))\n",
    "\n",
    "r_square = np.mean(scores)\n",
    "adj_r = 1-(1-r_square)*(len(y)-1)/(len(y)-X.shape[1]-1)\n",
    "\n",
    "print(r_square)\n",
    "print(adj_r)\n"
   ]
  },
  {
   "cell_type": "code",
   "execution_count": 24,
   "metadata": {},
   "outputs": [
    {
     "name": "stdout",
     "output_type": "stream",
     "text": [
      "R Square: 0.19165918470570392 \n",
      "\n",
      "Adjusted R Square: 0.18264423137528418 \n",
      "\n"
     ]
    }
   ],
   "source": [
    "test = data[['price_per_sqm','number_of_whole_rooms', 'floor', 'number_of_half_rooms', 'furnish_furnished', 'view_garden', 'view_panoramic', 'view_street', 'balcony', 'lift', 'air_conditioner', 'heating_central_heating', 'heating_electric', 'heating_circulating', 'heating_district', 'available_immediately']]\n",
    "test = test.dropna()\n",
    "\n",
    "X = test[['number_of_whole_rooms', 'floor', 'number_of_half_rooms', 'furnish_furnished', 'view_garden', 'view_panoramic', 'view_street', 'balcony', 'lift', 'air_conditioner', 'heating_central_heating', 'heating_electric', 'heating_circulating', 'heating_district', 'available_immediately']]\n",
    "y = test[['price_per_sqm']]\n",
    "\n",
    "#10 fold\n",
    "scores = []\n",
    "cv = KFold(n_splits = 10, random_state = 42, shuffle = False)\n",
    "for train_index, test_index in cv.split(X):\n",
    "    #print('Train Index:', train_index, '\\n')\n",
    "    #print('Test Index:', test_index)\n",
    "    \n",
    "    X_train, X_test, y_train, y_test = X.iloc[train_index.tolist()], X.iloc[test_index], y.iloc[train_index], y.iloc[test_index]\n",
    "    my_model = LinearRegression().fit(X_train, y_train)\n",
    "    scores.append(my_model.score(X_test, y_test))\n",
    "\n",
    "r_square = np.mean(scores)\n",
    "adj_r = 1-(1-r_square)*(len(y)-1)/(len(y)-X.shape[1]-1)\n",
    "\n",
    "print('R Square:', r_square, '\\n')\n",
    "print('Adjusted R Square:', adj_r, '\\n')\n"
   ]
  },
  {
   "cell_type": "code",
   "execution_count": 25,
   "metadata": {},
   "outputs": [
    {
     "name": "stdout",
     "output_type": "stream",
     "text": [
      "R Square: 0.24693489342258346 \n",
      "\n",
      "Adjusted R Square: 0.2350443917397821 \n",
      "\n"
     ]
    }
   ],
   "source": [
    "test = data[['price_per_sqm','number_of_whole_rooms', 'floor', 'number_of_half_rooms', 'furnish_furnished', 'view_garden', 'view_panoramic', 'view_street', 'balcony', 'lift', 'air_conditioner', 'heating_central_heating', 'heating_electric', 'heating_circulating', 'heating_district', 'available_immediately', 'distace_to_danube','quadratic_danube','distace_to_city_centre','quadratic_centre','distace_to_keleti','quadratic_keleti']]\n",
    "test = test.dropna()\n",
    "\n",
    "X = test[['number_of_whole_rooms', 'floor', 'number_of_half_rooms', 'furnish_furnished', 'view_garden', 'view_panoramic', 'view_street', 'balcony', 'lift', 'air_conditioner', 'heating_central_heating', 'heating_electric', 'heating_circulating', 'heating_district', 'available_immediately', 'distace_to_danube','quadratic_danube','distace_to_city_centre','quadratic_centre','distace_to_keleti','quadratic_keleti']]\n",
    "y = test[['price_per_sqm']]\n",
    "\n",
    "#10 fold\n",
    "scores = []\n",
    "cv = KFold(n_splits = 5, random_state = 42, shuffle = False)\n",
    "for train_index, test_index in cv.split(X):\n",
    "    #print('Train Index:', train_index, '\\n')\n",
    "    #print('Test Index:', test_index)\n",
    "    \n",
    "    X_train, X_test, y_train, y_test = X.iloc[train_index.tolist()], X.iloc[test_index], y.iloc[train_index], y.iloc[test_index]\n",
    "    my_model = LinearRegression().fit(X_train, y_train)\n",
    "    scores.append(my_model.score(X_test, y_test))\n",
    "\n",
    "r_square = np.mean(scores)\n",
    "adj_r = 1-(1-r_square)*(len(y)-1)/(len(y)-X.shape[1]-1)\n",
    "\n",
    "print('R Square:', r_square, '\\n')\n",
    "print('Adjusted R Square:', adj_r, '\\n')\n"
   ]
  },
  {
   "cell_type": "code",
   "execution_count": 29,
   "metadata": {},
   "outputs": [
    {
     "name": "stdout",
     "output_type": "stream",
     "text": [
      "R Square: 0.24810842129319693 \n",
      "\n",
      "Adjusted R Square: 0.23508620268607616 \n",
      "\n"
     ]
    }
   ],
   "source": [
    "#Uni1\n",
    "test = data[['price_per_sqm','number_of_whole_rooms', 'floor', 'number_of_half_rooms', 'furnish_furnished', 'view_garden', 'view_panoramic', 'view_street', 'balcony', 'lift', 'air_conditioner', 'heating_central_heating', 'heating_electric', 'heating_circulating', 'heating_district', 'available_immediately', 'distace_to_danube','quadratic_danube','distace_to_city_centre','quadratic_centre','distace_to_keleti','quadratic_keleti', 'distance_to_uni1','quadratic_uni1','distance_to_uni5','quadratic_uni5','distance_to_uni13','quadratic_uni13','distance_to_uni16','quadratic_uni16']]\n",
    "test = test.dropna()\n",
    "\n",
    "X = test[['number_of_whole_rooms', 'floor', 'number_of_half_rooms', 'furnish_furnished', 'view_garden', 'view_panoramic', 'view_street', 'balcony', 'lift', 'air_conditioner', 'heating_central_heating', 'heating_electric', 'heating_circulating', 'heating_district', 'available_immediately', 'distace_to_danube','quadratic_danube','distace_to_city_centre','quadratic_centre','distace_to_keleti','quadratic_keleti', 'distance_to_uni1','quadratic_uni1']]\n",
    "y = test[['price_per_sqm']]\n",
    "\n",
    "#10 fold\n",
    "scores = []\n",
    "cv = KFold(n_splits = 5, random_state = 42, shuffle = False)\n",
    "for train_index, test_index in cv.split(X):\n",
    "    #print('Train Index:', train_index, '\\n')\n",
    "    #print('Test Index:', test_index)\n",
    "    \n",
    "    X_train, X_test, y_train, y_test = X.iloc[train_index.tolist()], X.iloc[test_index], y.iloc[train_index], y.iloc[test_index]\n",
    "    my_model = LinearRegression().fit(X_train, y_train)\n",
    "    scores.append(my_model.score(X_test, y_test))\n",
    "\n",
    "r_square = np.mean(scores)\n",
    "adj_r = 1-(1-r_square)*(len(y)-1)/(len(y)-X.shape[1]-1)\n",
    "\n",
    "print('R Square:', r_square, '\\n')\n",
    "print('Adjusted R Square:', adj_r, '\\n')\n"
   ]
  },
  {
   "cell_type": "code",
   "execution_count": 31,
   "metadata": {},
   "outputs": [
    {
     "name": "stdout",
     "output_type": "stream",
     "text": [
      "R Square: 0.2490902382521673 \n",
      "\n",
      "Adjusted R Square: 0.23608502400502873 \n",
      "\n"
     ]
    }
   ],
   "source": [
    "#Uni5\n",
    "test = data[['price_per_sqm','number_of_whole_rooms', 'floor', 'number_of_half_rooms', 'furnish_furnished', 'view_garden', 'view_panoramic', 'view_street', 'balcony', 'lift', 'air_conditioner', 'heating_central_heating', 'heating_electric', 'heating_circulating', 'heating_district', 'available_immediately', 'distace_to_danube','quadratic_danube','distace_to_city_centre','quadratic_centre','distace_to_keleti','quadratic_keleti', 'distance_to_uni1','quadratic_uni1','distance_to_uni5','quadratic_uni5','distance_to_uni13','quadratic_uni13','distance_to_uni16','quadratic_uni16']]\n",
    "test = test.dropna()\n",
    "\n",
    "X = test[['number_of_whole_rooms', 'floor', 'number_of_half_rooms', 'furnish_furnished', 'view_garden', 'view_panoramic', 'view_street', 'balcony', 'lift', 'air_conditioner', 'heating_central_heating', 'heating_electric', 'heating_circulating', 'heating_district', 'available_immediately', 'distace_to_danube','quadratic_danube','distace_to_city_centre','quadratic_centre','distace_to_keleti','quadratic_keleti', 'distance_to_uni5','quadratic_uni5']]\n",
    "y = test[['price_per_sqm']]\n",
    "\n",
    "#10 fold\n",
    "scores = []\n",
    "cv = KFold(n_splits = 5, random_state = 42, shuffle = False)\n",
    "for train_index, test_index in cv.split(X):\n",
    "    #print('Train Index:', train_index, '\\n')\n",
    "    #print('Test Index:', test_index)\n",
    "    \n",
    "    X_train, X_test, y_train, y_test = X.iloc[train_index.tolist()], X.iloc[test_index], y.iloc[train_index], y.iloc[test_index]\n",
    "    my_model = LinearRegression().fit(X_train, y_train)\n",
    "    scores.append(my_model.score(X_test, y_test))\n",
    "\n",
    "r_square = np.mean(scores)\n",
    "adj_r = 1-(1-r_square)*(len(y)-1)/(len(y)-X.shape[1]-1)\n",
    "\n",
    "print('R Square:', r_square, '\\n')\n",
    "print('Adjusted R Square:', adj_r, '\\n')\n"
   ]
  },
  {
   "cell_type": "code",
   "execution_count": 32,
   "metadata": {},
   "outputs": [
    {
     "name": "stdout",
     "output_type": "stream",
     "text": [
      "R Square: 0.24960928166734941 \n",
      "\n",
      "Adjusted R Square: 0.23661305687694956 \n",
      "\n"
     ]
    }
   ],
   "source": [
    "#Uni13\n",
    "test = data[['price_per_sqm','number_of_whole_rooms', 'floor', 'number_of_half_rooms', 'furnish_furnished', 'view_garden', 'view_panoramic', 'view_street', 'balcony', 'lift', 'air_conditioner', 'heating_central_heating', 'heating_electric', 'heating_circulating', 'heating_district', 'available_immediately', 'distace_to_danube','quadratic_danube','distace_to_city_centre','quadratic_centre','distace_to_keleti','quadratic_keleti', 'distance_to_uni1','quadratic_uni1','distance_to_uni5','quadratic_uni5','distance_to_uni13','quadratic_uni13','distance_to_uni16','quadratic_uni16']]\n",
    "test = test.dropna()\n",
    "\n",
    "X = test[['number_of_whole_rooms', 'floor', 'number_of_half_rooms', 'furnish_furnished', 'view_garden', 'view_panoramic', 'view_street', 'balcony', 'lift', 'air_conditioner', 'heating_central_heating', 'heating_electric', 'heating_circulating', 'heating_district', 'available_immediately', 'distace_to_danube','quadratic_danube','distace_to_city_centre','quadratic_centre','distace_to_keleti','quadratic_keleti', 'distance_to_uni13','quadratic_uni13']]\n",
    "y = test[['price_per_sqm']]\n",
    "\n",
    "#10 fold\n",
    "scores = []\n",
    "cv = KFold(n_splits = 5, random_state = 42, shuffle = False)\n",
    "for train_index, test_index in cv.split(X):\n",
    "    #print('Train Index:', train_index, '\\n')\n",
    "    #print('Test Index:', test_index)\n",
    "    \n",
    "    X_train, X_test, y_train, y_test = X.iloc[train_index.tolist()], X.iloc[test_index], y.iloc[train_index], y.iloc[test_index]\n",
    "    my_model = LinearRegression().fit(X_train, y_train)\n",
    "    scores.append(my_model.score(X_test, y_test))\n",
    "\n",
    "r_square = np.mean(scores)\n",
    "adj_r = 1-(1-r_square)*(len(y)-1)/(len(y)-X.shape[1]-1)\n",
    "\n",
    "print('R Square:', r_square, '\\n')\n",
    "print('Adjusted R Square:', adj_r, '\\n')\n"
   ]
  },
  {
   "cell_type": "code",
   "execution_count": 33,
   "metadata": {},
   "outputs": [
    {
     "name": "stdout",
     "output_type": "stream",
     "text": [
      "R Square: 0.2505344809107269 \n",
      "\n",
      "Adjusted R Square: 0.23755427990240363 \n",
      "\n"
     ]
    }
   ],
   "source": [
    "#Uni16\n",
    "test = data[['price_per_sqm','number_of_whole_rooms', 'floor', 'number_of_half_rooms', 'furnish_furnished', 'view_garden', 'view_panoramic', 'view_street', 'balcony', 'lift', 'air_conditioner', 'heating_central_heating', 'heating_electric', 'heating_circulating', 'heating_district', 'available_immediately', 'distace_to_danube','quadratic_danube','distace_to_city_centre','quadratic_centre','distace_to_keleti','quadratic_keleti', 'distance_to_uni1','quadratic_uni1','distance_to_uni5','quadratic_uni5','distance_to_uni13','quadratic_uni13','distance_to_uni16','quadratic_uni16']]\n",
    "test = test.dropna()\n",
    "\n",
    "X = test[['number_of_whole_rooms', 'floor', 'number_of_half_rooms', 'furnish_furnished', 'view_garden', 'view_panoramic', 'view_street', 'balcony', 'lift', 'air_conditioner', 'heating_central_heating', 'heating_electric', 'heating_circulating', 'heating_district', 'available_immediately', 'distace_to_danube','quadratic_danube','distace_to_city_centre','quadratic_centre','distace_to_keleti','quadratic_keleti', 'distance_to_uni16','quadratic_uni16']]\n",
    "y = test[['price_per_sqm']]\n",
    "\n",
    "#10 fold\n",
    "scores = []\n",
    "cv = KFold(n_splits = 5, random_state = 42, shuffle = False)\n",
    "for train_index, test_index in cv.split(X):\n",
    "    #print('Train Index:', train_index, '\\n')\n",
    "    #print('Test Index:', test_index)\n",
    "    \n",
    "    X_train, X_test, y_train, y_test = X.iloc[train_index.tolist()], X.iloc[test_index], y.iloc[train_index], y.iloc[test_index]\n",
    "    my_model = LinearRegression().fit(X_train, y_train)\n",
    "    scores.append(my_model.score(X_test, y_test))\n",
    "\n",
    "r_square = np.mean(scores)\n",
    "adj_r = 1-(1-r_square)*(len(y)-1)/(len(y)-X.shape[1]-1)\n",
    "\n",
    "print('R Square:', r_square, '\\n')\n",
    "print('Adjusted R Square:', adj_r, '\\n')\n"
   ]
  },
  {
   "cell_type": "code",
   "execution_count": 34,
   "metadata": {},
   "outputs": [
    {
     "name": "stdout",
     "output_type": "stream",
     "text": [
      "R Square: 0.2467557233609985 \n",
      "\n",
      "Adjusted R Square: 0.2325542852644864 \n",
      "\n"
     ]
    }
   ],
   "source": [
    "#Uni1, 5\n",
    "test = data[['price_per_sqm','number_of_whole_rooms', 'floor', 'number_of_half_rooms', 'furnish_furnished', 'view_garden', 'view_panoramic', 'view_street', 'balcony', 'lift', 'air_conditioner', 'heating_central_heating', 'heating_electric', 'heating_circulating', 'heating_district', 'available_immediately', 'distace_to_danube','quadratic_danube','distace_to_city_centre','quadratic_centre','distace_to_keleti','quadratic_keleti', 'distance_to_uni1','quadratic_uni1','distance_to_uni5','quadratic_uni5','distance_to_uni13','quadratic_uni13','distance_to_uni16','quadratic_uni16']]\n",
    "test = test.dropna()\n",
    "\n",
    "X = test[['number_of_whole_rooms', 'floor', 'number_of_half_rooms', 'furnish_furnished', 'view_garden', 'view_panoramic', 'view_street', 'balcony', 'lift', 'air_conditioner', 'heating_central_heating', 'heating_electric', 'heating_circulating', 'heating_district', 'available_immediately', 'distace_to_danube','quadratic_danube','distace_to_city_centre','quadratic_centre','distace_to_keleti','quadratic_keleti', 'distance_to_uni1','quadratic_uni1','distance_to_uni5','quadratic_uni5']]\n",
    "y = test[['price_per_sqm']]\n",
    "\n",
    "#10 fold\n",
    "scores = []\n",
    "cv = KFold(n_splits = 5, random_state = 42, shuffle = False)\n",
    "for train_index, test_index in cv.split(X):\n",
    "    #print('Train Index:', train_index, '\\n')\n",
    "    #print('Test Index:', test_index)\n",
    "    \n",
    "    X_train, X_test, y_train, y_test = X.iloc[train_index.tolist()], X.iloc[test_index], y.iloc[train_index], y.iloc[test_index]\n",
    "    my_model = LinearRegression().fit(X_train, y_train)\n",
    "    scores.append(my_model.score(X_test, y_test))\n",
    "\n",
    "r_square = np.mean(scores)\n",
    "adj_r = 1-(1-r_square)*(len(y)-1)/(len(y)-X.shape[1]-1)\n",
    "\n",
    "print('R Square:', r_square, '\\n')\n",
    "print('Adjusted R Square:', adj_r, '\\n')\n"
   ]
  },
  {
   "cell_type": "code",
   "execution_count": 39,
   "metadata": {},
   "outputs": [
    {
     "name": "stdout",
     "output_type": "stream",
     "text": [
      "R Square: 0.24788491341135224 \n",
      "\n",
      "Adjusted R Square: 0.23370476472001267 \n",
      "\n"
     ]
    }
   ],
   "source": [
    "#Uni1, 13\n",
    "test = data[['price_per_sqm','number_of_whole_rooms', 'floor', 'number_of_half_rooms', 'furnish_furnished', 'view_garden', 'view_panoramic', 'view_street', 'balcony', 'lift', 'air_conditioner', 'heating_central_heating', 'heating_electric', 'heating_circulating', 'heating_district', 'available_immediately', 'distace_to_danube','quadratic_danube','distace_to_city_centre','quadratic_centre','distace_to_keleti','quadratic_keleti', 'distance_to_uni1','quadratic_uni1','distance_to_uni5','quadratic_uni5','distance_to_uni13','quadratic_uni13','distance_to_uni16','quadratic_uni16']]\n",
    "test = test.dropna()\n",
    "\n",
    "X = test[['number_of_whole_rooms', 'floor', 'number_of_half_rooms', 'furnish_furnished', 'view_garden', 'view_panoramic', 'view_street', 'balcony', 'lift', 'air_conditioner', 'heating_central_heating', 'heating_electric', 'heating_circulating', 'heating_district', 'available_immediately', 'distace_to_danube','quadratic_danube','distace_to_city_centre','quadratic_centre','distace_to_keleti','quadratic_keleti', 'distance_to_uni1','quadratic_uni1','distance_to_uni13','quadratic_uni13']]\n",
    "y = test[['price_per_sqm']]\n",
    "\n",
    "#10 fold\n",
    "scores = []\n",
    "cv = KFold(n_splits = 5, random_state = 42, shuffle = False)\n",
    "for train_index, test_index in cv.split(X):\n",
    "    #print('Train Index:', train_index, '\\n')\n",
    "    #print('Test Index:', test_index)\n",
    "    \n",
    "    X_train, X_test, y_train, y_test = X.iloc[train_index.tolist()], X.iloc[test_index], y.iloc[train_index], y.iloc[test_index]\n",
    "    my_model = LinearRegression().fit(X_train, y_train)\n",
    "    scores.append(my_model.score(X_test, y_test))\n",
    "\n",
    "r_square = np.mean(scores)\n",
    "adj_r = 1-(1-r_square)*(len(y)-1)/(len(y)-X.shape[1]-1)\n",
    "\n",
    "print('R Square:', r_square, '\\n')\n",
    "print('Adjusted R Square:', adj_r, '\\n')\n"
   ]
  },
  {
   "cell_type": "code",
   "execution_count": 40,
   "metadata": {},
   "outputs": [
    {
     "name": "stdout",
     "output_type": "stream",
     "text": [
      "R Square: 0.24869133725303333 \n",
      "\n",
      "Adjusted R Square: 0.23394867670101727 \n",
      "\n"
     ]
    }
   ],
   "source": [
    "#Uni1, 16\n",
    "test = data[['price_per_sqm','number_of_whole_rooms', 'floor', 'number_of_half_rooms', 'furnish_furnished', 'view_garden', 'view_panoramic', 'view_street', 'balcony', 'lift', 'air_conditioner', 'heating_central_heating', 'heating_electric', 'heating_circulating', 'heating_district', 'available_immediately', 'distace_to_danube','quadratic_danube','distace_to_city_centre','quadratic_centre','distace_to_keleti','quadratic_keleti', 'distance_to_uni1','quadratic_uni1','distance_to_uni5','quadratic_uni5','distance_to_uni13','quadratic_uni13','distance_to_uni16','quadratic_uni16']]\n",
    "test = test.dropna()\n",
    "\n",
    "X = test[['number_of_whole_rooms', 'floor', 'number_of_half_rooms', 'furnish_furnished', 'view_garden', 'view_panoramic', 'view_street', 'balcony', 'lift', 'air_conditioner', 'heating_central_heating', 'heating_electric', 'heating_circulating', 'heating_district', 'available_immediately', 'distace_to_danube','quadratic_danube','distace_to_city_centre','quadratic_centre','distace_to_keleti','quadratic_keleti', 'distance_to_uni1','quadratic_uni1','distance_to_uni1','distance_to_uni16','quadratic_uni16']]\n",
    "y = test[['price_per_sqm']]\n",
    "\n",
    "#10 fold\n",
    "scores = []\n",
    "cv = KFold(n_splits = 5, random_state = 42, shuffle = False)\n",
    "for train_index, test_index in cv.split(X):\n",
    "    #print('Train Index:', train_index, '\\n')\n",
    "    #print('Test Index:', test_index)\n",
    "    \n",
    "    X_train, X_test, y_train, y_test = X.iloc[train_index.tolist()], X.iloc[test_index], y.iloc[train_index], y.iloc[test_index]\n",
    "    my_model = LinearRegression().fit(X_train, y_train)\n",
    "    scores.append(my_model.score(X_test, y_test))\n",
    "\n",
    "r_square = np.mean(scores)\n",
    "adj_r = 1-(1-r_square)*(len(y)-1)/(len(y)-X.shape[1]-1)\n",
    "\n",
    "print('R Square:', r_square, '\\n')\n",
    "print('Adjusted R Square:', adj_r, '\\n')\n"
   ]
  },
  {
   "cell_type": "code",
   "execution_count": 41,
   "metadata": {},
   "outputs": [
    {
     "name": "stdout",
     "output_type": "stream",
     "text": [
      "R Square: 0.24808178739814454 \n",
      "\n",
      "Adjusted R Square: 0.23390535050896932 \n",
      "\n"
     ]
    }
   ],
   "source": [
    "#Uni5, 13\n",
    "test = data[['price_per_sqm','number_of_whole_rooms', 'floor', 'number_of_half_rooms', 'furnish_furnished', 'view_garden', 'view_panoramic', 'view_street', 'balcony', 'lift', 'air_conditioner', 'heating_central_heating', 'heating_electric', 'heating_circulating', 'heating_district', 'available_immediately', 'distace_to_danube','quadratic_danube','distace_to_city_centre','quadratic_centre','distace_to_keleti','quadratic_keleti', 'distance_to_uni1','quadratic_uni1','distance_to_uni5','quadratic_uni5','distance_to_uni13','quadratic_uni13','distance_to_uni16','quadratic_uni16']]\n",
    "test = test.dropna()\n",
    "\n",
    "X = test[['number_of_whole_rooms', 'floor', 'number_of_half_rooms', 'furnish_furnished', 'view_garden', 'view_panoramic', 'view_street', 'balcony', 'lift', 'air_conditioner', 'heating_central_heating', 'heating_electric', 'heating_circulating', 'heating_district', 'available_immediately', 'distace_to_danube','quadratic_danube','distace_to_city_centre','quadratic_centre','distace_to_keleti','quadratic_keleti', 'distance_to_uni5','quadratic_uni5','distance_to_uni13','quadratic_uni13']]\n",
    "y = test[['price_per_sqm']]\n",
    "\n",
    "#10 fold\n",
    "scores = []\n",
    "cv = KFold(n_splits = 5, random_state = 42, shuffle = False)\n",
    "for train_index, test_index in cv.split(X):\n",
    "    #print('Train Index:', train_index, '\\n')\n",
    "    #print('Test Index:', test_index)\n",
    "    \n",
    "    X_train, X_test, y_train, y_test = X.iloc[train_index.tolist()], X.iloc[test_index], y.iloc[train_index], y.iloc[test_index]\n",
    "    my_model = LinearRegression().fit(X_train, y_train)\n",
    "    scores.append(my_model.score(X_test, y_test))\n",
    "\n",
    "r_square = np.mean(scores)\n",
    "adj_r = 1-(1-r_square)*(len(y)-1)/(len(y)-X.shape[1]-1)\n",
    "\n",
    "print('R Square:', r_square, '\\n')\n",
    "print('Adjusted R Square:', adj_r, '\\n')\n"
   ]
  },
  {
   "cell_type": "code",
   "execution_count": 42,
   "metadata": {},
   "outputs": [
    {
     "name": "stdout",
     "output_type": "stream",
     "text": [
      "R Square: 0.24991866021305315 \n",
      "\n",
      "Adjusted R Square: 0.2357768551642797 \n",
      "\n"
     ]
    }
   ],
   "source": [
    "#Uni 5, 13\n",
    "test = data[['price_per_sqm','number_of_whole_rooms', 'floor', 'number_of_half_rooms', 'furnish_furnished', 'view_garden', 'view_panoramic', 'view_street', 'balcony', 'lift', 'air_conditioner', 'heating_central_heating', 'heating_electric', 'heating_circulating', 'heating_district', 'available_immediately', 'distace_to_danube','quadratic_danube','distace_to_city_centre','quadratic_centre','distace_to_keleti','quadratic_keleti', 'distance_to_uni1','quadratic_uni1','distance_to_uni5','quadratic_uni5','distance_to_uni13','quadratic_uni13','distance_to_uni16','quadratic_uni16']]\n",
    "test = test.dropna()\n",
    "\n",
    "X = test[['number_of_whole_rooms', 'floor', 'number_of_half_rooms', 'furnish_furnished', 'view_garden', 'view_panoramic', 'view_street', 'balcony', 'lift', 'air_conditioner', 'heating_central_heating', 'heating_electric', 'heating_circulating', 'heating_district', 'available_immediately', 'distace_to_danube','quadratic_danube','distace_to_city_centre','quadratic_centre','distace_to_keleti','quadratic_keleti', 'distance_to_uni5','quadratic_uni5', 'distance_to_uni16','quadratic_uni16']]\n",
    "y = test[['price_per_sqm']]\n",
    "\n",
    "#10 fold\n",
    "scores = []\n",
    "cv = KFold(n_splits = 5, random_state = 42, shuffle = False)\n",
    "for train_index, test_index in cv.split(X):\n",
    "    #print('Train Index:', train_index, '\\n')\n",
    "    #print('Test Index:', test_index)\n",
    "    \n",
    "    X_train, X_test, y_train, y_test = X.iloc[train_index.tolist()], X.iloc[test_index], y.iloc[train_index], y.iloc[test_index]\n",
    "    my_model = LinearRegression().fit(X_train, y_train)\n",
    "    scores.append(my_model.score(X_test, y_test))\n",
    "\n",
    "r_square = np.mean(scores)\n",
    "adj_r = 1-(1-r_square)*(len(y)-1)/(len(y)-X.shape[1]-1)\n",
    "\n",
    "print('R Square:', r_square, '\\n')\n",
    "print('Adjusted R Square:', adj_r, '\\n')\n"
   ]
  },
  {
   "cell_type": "code",
   "execution_count": 43,
   "metadata": {},
   "outputs": [
    {
     "name": "stdout",
     "output_type": "stream",
     "text": [
      "R Square: 0.24830972227126608 \n",
      "\n",
      "Adjusted R Square: 0.23413758279674235 \n",
      "\n"
     ]
    }
   ],
   "source": [
    "#Uni13, 16\n",
    "test = data[['price_per_sqm','number_of_whole_rooms', 'floor', 'number_of_half_rooms', 'furnish_furnished', 'view_garden', 'view_panoramic', 'view_street', 'balcony', 'lift', 'air_conditioner', 'heating_central_heating', 'heating_electric', 'heating_circulating', 'heating_district', 'available_immediately', 'distace_to_danube','quadratic_danube','distace_to_city_centre','quadratic_centre','distace_to_keleti','quadratic_keleti', 'distance_to_uni1','quadratic_uni1','distance_to_uni5','quadratic_uni5','distance_to_uni13','quadratic_uni13','distance_to_uni16','quadratic_uni16']]\n",
    "test = test.dropna()\n",
    "\n",
    "X = test[['number_of_whole_rooms', 'floor', 'number_of_half_rooms', 'furnish_furnished', 'view_garden', 'view_panoramic', 'view_street', 'balcony', 'lift', 'air_conditioner', 'heating_central_heating', 'heating_electric', 'heating_circulating', 'heating_district', 'available_immediately', 'distace_to_danube','quadratic_danube','distace_to_city_centre','quadratic_centre','distace_to_keleti','quadratic_keleti', 'distance_to_uni13','quadratic_uni13','distance_to_uni16','quadratic_uni16']]\n",
    "y = test[['price_per_sqm']]\n",
    "\n",
    "#10 fold\n",
    "scores = []\n",
    "cv = KFold(n_splits = 5, random_state = 42, shuffle = False)\n",
    "for train_index, test_index in cv.split(X):\n",
    "    #print('Train Index:', train_index, '\\n')\n",
    "    #print('Test Index:', test_index)\n",
    "    \n",
    "    X_train, X_test, y_train, y_test = X.iloc[train_index.tolist()], X.iloc[test_index], y.iloc[train_index], y.iloc[test_index]\n",
    "    my_model = LinearRegression().fit(X_train, y_train)\n",
    "    scores.append(my_model.score(X_test, y_test))\n",
    "\n",
    "r_square = np.mean(scores)\n",
    "adj_r = 1-(1-r_square)*(len(y)-1)/(len(y)-X.shape[1]-1)\n",
    "\n",
    "print('R Square:', r_square, '\\n')\n",
    "print('Adjusted R Square:', adj_r, '\\n')\n"
   ]
  },
  {
   "cell_type": "code",
   "execution_count": 44,
   "metadata": {},
   "outputs": [
    {
     "name": "stdout",
     "output_type": "stream",
     "text": [
      "R Square: 0.24850242675185347 \n",
      "\n",
      "Adjusted R Square: 0.23201723036441302 \n",
      "\n"
     ]
    }
   ],
   "source": [
    "#Uni1,5,13\n",
    "test = data[['price_per_sqm','number_of_whole_rooms', 'floor', 'number_of_half_rooms', 'furnish_furnished', 'view_garden', 'view_panoramic', 'view_street', 'balcony', 'lift', 'air_conditioner', 'heating_central_heating', 'heating_electric', 'heating_circulating', 'heating_district', 'available_immediately', 'distace_to_danube','quadratic_danube','distace_to_city_centre','quadratic_centre','distace_to_keleti','quadratic_keleti', 'distance_to_uni1','quadratic_uni1','distance_to_uni5','quadratic_uni5','distance_to_uni13','quadratic_uni13','distance_to_uni16','quadratic_uni16']]\n",
    "test = test.dropna()\n",
    "\n",
    "X = test[['number_of_whole_rooms', 'floor', 'number_of_half_rooms', 'furnish_furnished', 'view_garden', 'view_panoramic', 'view_street', 'balcony', 'lift', 'air_conditioner', 'heating_central_heating', 'heating_electric', 'heating_circulating', 'heating_district', 'available_immediately', 'distace_to_danube','quadratic_danube','distace_to_city_centre','quadratic_centre','distace_to_keleti','quadratic_keleti', 'distance_to_uni1','quadratic_uni1','distance_to_uni1','quadratic_uni1','distance_to_uni5','quadratic_uni5','distance_to_uni13','quadratic_uni13']]\n",
    "y = test[['price_per_sqm']]\n",
    "\n",
    "#10 fold\n",
    "scores = []\n",
    "cv = KFold(n_splits = 5, random_state = 42, shuffle = False)\n",
    "for train_index, test_index in cv.split(X):\n",
    "    #print('Train Index:', train_index, '\\n')\n",
    "    #print('Test Index:', test_index)\n",
    "    \n",
    "    X_train, X_test, y_train, y_test = X.iloc[train_index.tolist()], X.iloc[test_index], y.iloc[train_index], y.iloc[test_index]\n",
    "    my_model = LinearRegression().fit(X_train, y_train)\n",
    "    scores.append(my_model.score(X_test, y_test))\n",
    "\n",
    "r_square = np.mean(scores)\n",
    "adj_r = 1-(1-r_square)*(len(y)-1)/(len(y)-X.shape[1]-1)\n",
    "\n",
    "print('R Square:', r_square, '\\n')\n",
    "print('Adjusted R Square:', adj_r, '\\n')\n"
   ]
  },
  {
   "cell_type": "code",
   "execution_count": 38,
   "metadata": {},
   "outputs": [
    {
     "name": "stdout",
     "output_type": "stream",
     "text": [
      "R Square: 0.24734471500675204 \n",
      "\n",
      "Adjusted R Square: 0.23083412252202873 \n",
      "\n"
     ]
    }
   ],
   "source": [
    "#Uni 1,5,16\n",
    "test = data[['price_per_sqm','number_of_whole_rooms', 'floor', 'number_of_half_rooms', 'furnish_furnished', 'view_garden', 'view_panoramic', 'view_street', 'balcony', 'lift', 'air_conditioner', 'heating_central_heating', 'heating_electric', 'heating_circulating', 'heating_district', 'available_immediately', 'distace_to_danube','quadratic_danube','distace_to_city_centre','quadratic_centre','distace_to_keleti','quadratic_keleti', 'distance_to_uni1','quadratic_uni1','distance_to_uni5','quadratic_uni5','distance_to_uni13','quadratic_uni13','distance_to_uni16','quadratic_uni16']]\n",
    "test = test.dropna()\n",
    "\n",
    "X = test[['number_of_whole_rooms', 'floor', 'number_of_half_rooms', 'furnish_furnished', 'view_garden', 'view_panoramic', 'view_street', 'balcony', 'lift', 'air_conditioner', 'heating_central_heating', 'heating_electric', 'heating_circulating', 'heating_district', 'available_immediately', 'distace_to_danube','quadratic_danube','distace_to_city_centre','quadratic_centre','distace_to_keleti','quadratic_keleti', 'distance_to_uni1','quadratic_uni1','distance_to_uni5','quadratic_uni5','distance_to_uni16','quadratic_uni16']]\n",
    "y = test[['price_per_sqm']]\n",
    "\n",
    "#10 fold\n",
    "scores = []\n",
    "cv = KFold(n_splits = 5, random_state = 42, shuffle = False)\n",
    "for train_index, test_index in cv.split(X):\n",
    "    #print('Train Index:', train_index, '\\n')\n",
    "    #print('Test Index:', test_index)\n",
    "    \n",
    "    X_train, X_test, y_train, y_test = X.iloc[train_index.tolist()], X.iloc[test_index], y.iloc[train_index], y.iloc[test_index]\n",
    "    my_model = LinearRegression().fit(X_train, y_train)\n",
    "    scores.append(my_model.score(X_test, y_test))\n",
    "\n",
    "r_square = np.mean(scores)\n",
    "adj_r = 1-(1-r_square)*(len(y)-1)/(len(y)-X.shape[1]-1)\n",
    "\n",
    "print('R Square:', r_square, '\\n')\n",
    "print('Adjusted R Square:', adj_r, '\\n')\n"
   ]
  },
  {
   "cell_type": "code",
   "execution_count": 45,
   "metadata": {},
   "outputs": [
    {
     "name": "stdout",
     "output_type": "stream",
     "text": [
      "R Square: 0.2481039219837995 \n",
      "\n",
      "Adjusted R Square: 0.232770693806732 \n",
      "\n"
     ]
    }
   ],
   "source": [
    "#Uni 1,13,16\n",
    "test = data[['price_per_sqm','number_of_whole_rooms', 'floor', 'number_of_half_rooms', 'furnish_furnished', 'view_garden', 'view_panoramic', 'view_street', 'balcony', 'lift', 'air_conditioner', 'heating_central_heating', 'heating_electric', 'heating_circulating', 'heating_district', 'available_immediately', 'distace_to_danube','quadratic_danube','distace_to_city_centre','quadratic_centre','distace_to_keleti','quadratic_keleti', 'distance_to_uni1','quadratic_uni1','distance_to_uni5','quadratic_uni5','distance_to_uni13','quadratic_uni13','distance_to_uni16','quadratic_uni16']]\n",
    "test = test.dropna()\n",
    "\n",
    "X = test[['number_of_whole_rooms', 'floor', 'number_of_half_rooms', 'furnish_furnished', 'view_garden', 'view_panoramic', 'view_street', 'balcony', 'lift', 'air_conditioner', 'heating_central_heating', 'heating_electric', 'heating_circulating', 'heating_district', 'available_immediately', 'distace_to_danube','quadratic_danube','distace_to_city_centre','quadratic_centre','distace_to_keleti','quadratic_keleti', 'distance_to_uni1','quadratic_uni1','distance_to_uni13','quadratic_uni13','distance_to_uni16','quadratic_uni16']]\n",
    "y = test[['price_per_sqm']]\n",
    "\n",
    "#10 fold\n",
    "scores = []\n",
    "cv = KFold(n_splits = 5, random_state = 42, shuffle = False)\n",
    "for train_index, test_index in cv.split(X):\n",
    "    #print('Train Index:', train_index, '\\n')\n",
    "    #print('Test Index:', test_index)\n",
    "    \n",
    "    X_train, X_test, y_train, y_test = X.iloc[train_index.tolist()], X.iloc[test_index], y.iloc[train_index], y.iloc[test_index]\n",
    "    my_model = LinearRegression().fit(X_train, y_train)\n",
    "    scores.append(my_model.score(X_test, y_test))\n",
    "\n",
    "r_square = np.mean(scores)\n",
    "adj_r = 1-(1-r_square)*(len(y)-1)/(len(y)-X.shape[1]-1)\n",
    "\n",
    "print('R Square:', r_square, '\\n')\n",
    "print('Adjusted R Square:', adj_r, '\\n')\n"
   ]
  },
  {
   "cell_type": "code",
   "execution_count": 47,
   "metadata": {},
   "outputs": [
    {
     "name": "stdout",
     "output_type": "stream",
     "text": [
      "R Square: 0.24810010011033548 \n",
      "\n",
      "Adjusted R Square: 0.23276679399476075 \n",
      "\n"
     ]
    }
   ],
   "source": [
    "#Uni 5,13,16\n",
    "test = data[['price_per_sqm','number_of_whole_rooms', 'floor', 'number_of_half_rooms', 'furnish_furnished', 'view_garden', 'view_panoramic', 'view_street', 'balcony', 'lift', 'air_conditioner', 'heating_central_heating', 'heating_electric', 'heating_circulating', 'heating_district', 'available_immediately', 'distace_to_danube','quadratic_danube','distace_to_city_centre','quadratic_centre','distace_to_keleti','quadratic_keleti', 'distance_to_uni1','quadratic_uni1','distance_to_uni5','quadratic_uni5','distance_to_uni13','quadratic_uni13','distance_to_uni16','quadratic_uni16']]\n",
    "test = test.dropna()\n",
    "\n",
    "X = test[['number_of_whole_rooms', 'floor', 'number_of_half_rooms', 'furnish_furnished', 'view_garden', 'view_panoramic', 'view_street', 'balcony', 'lift', 'air_conditioner', 'heating_central_heating', 'heating_electric', 'heating_circulating', 'heating_district', 'available_immediately', 'distace_to_danube','quadratic_danube','distace_to_city_centre','quadratic_centre','distace_to_keleti','quadratic_keleti', 'distance_to_uni5','quadratic_uni5','distance_to_uni13','quadratic_uni13','distance_to_uni16','quadratic_uni16']]\n",
    "y = test[['price_per_sqm']]\n",
    "\n",
    "#10 fold\n",
    "scores = []\n",
    "cv = KFold(n_splits = 5, random_state = 42, shuffle = False)\n",
    "for train_index, test_index in cv.split(X):\n",
    "    #print('Train Index:', train_index, '\\n')\n",
    "    #print('Test Index:', test_index)\n",
    "    \n",
    "    X_train, X_test, y_train, y_test = X.iloc[train_index.tolist()], X.iloc[test_index], y.iloc[train_index], y.iloc[test_index]\n",
    "    my_model = LinearRegression().fit(X_train, y_train)\n",
    "    scores.append(my_model.score(X_test, y_test))\n",
    "\n",
    "r_square = np.mean(scores)\n",
    "adj_r = 1-(1-r_square)*(len(y)-1)/(len(y)-X.shape[1]-1)\n",
    "\n",
    "print('R Square:', r_square, '\\n')\n",
    "print('Adjusted R Square:', adj_r, '\\n')\n"
   ]
  },
  {
   "cell_type": "code",
   "execution_count": 48,
   "metadata": {},
   "outputs": [
    {
     "name": "stdout",
     "output_type": "stream",
     "text": [
      "R Square: 0.24734471500675204 \n",
      "\n",
      "Adjusted R Square: 0.23083412252202873 \n",
      "\n"
     ]
    }
   ],
   "source": [
    "#Uni 1,13,16\n",
    "test = data[['price_per_sqm','number_of_whole_rooms', 'floor', 'number_of_half_rooms', 'furnish_furnished', 'view_garden', 'view_panoramic', 'view_street', 'balcony', 'lift', 'air_conditioner', 'heating_central_heating', 'heating_electric', 'heating_circulating', 'heating_district', 'available_immediately', 'distace_to_danube','quadratic_danube','distace_to_city_centre','quadratic_centre','distace_to_keleti','quadratic_keleti', 'distance_to_uni1','quadratic_uni1','distance_to_uni5','quadratic_uni5','distance_to_uni13','quadratic_uni13','distance_to_uni16','quadratic_uni16']]\n",
    "test = test.dropna()\n",
    "\n",
    "X = test[['number_of_whole_rooms', 'floor', 'number_of_half_rooms', 'furnish_furnished', 'view_garden', 'view_panoramic', 'view_street', 'balcony', 'lift', 'air_conditioner', 'heating_central_heating', 'heating_electric', 'heating_circulating', 'heating_district', 'available_immediately', 'distace_to_danube','quadratic_danube','distace_to_city_centre','quadratic_centre','distace_to_keleti','quadratic_keleti', 'distance_to_uni1','quadratic_uni1','distance_to_uni5','quadratic_uni5','distance_to_uni13','quadratic_uni13','distance_to_uni16','quadratic_uni16']]\n",
    "y = test[['price_per_sqm']]\n",
    "\n",
    "#10 fold\n",
    "scores = []\n",
    "cv = KFold(n_splits = 5, random_state = 42, shuffle = False)\n",
    "for train_index, test_index in cv.split(X):\n",
    "    #print('Train Index:', train_index, '\\n')\n",
    "    #print('Test Index:', test_index)\n",
    "    \n",
    "    X_train, X_test, y_train, y_test = X.iloc[train_index.tolist()], X.iloc[test_index], y.iloc[train_index], y.iloc[test_index]\n",
    "    my_model = LinearRegression().fit(X_train, y_train)\n",
    "    scores.append(my_model.score(X_test, y_test))\n",
    "\n",
    "r_square = np.mean(scores)\n",
    "adj_r = 1-(1-r_square)*(len(y)-1)/(len(y)-X.shape[1]-1)\n",
    "\n",
    "print('R Square:', r_square, '\\n')\n",
    "print('Adjusted R Square:', adj_r, '\\n')\n"
   ]
  },
  {
   "cell_type": "code",
   "execution_count": null,
   "metadata": {},
   "outputs": [],
   "source": []
  }
 ],
 "metadata": {
  "kernelspec": {
   "display_name": "Python 3",
   "language": "python",
   "name": "python3"
  },
  "language_info": {
   "codemirror_mode": {
    "name": "ipython",
    "version": 3
   },
   "file_extension": ".py",
   "mimetype": "text/x-python",
   "name": "python",
   "nbconvert_exporter": "python",
   "pygments_lexer": "ipython3",
   "version": "3.7.0"
  }
 },
 "nbformat": 4,
 "nbformat_minor": 2
}
