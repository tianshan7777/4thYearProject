{
 "cells": [
  {
   "cell_type": "markdown",
   "metadata": {},
   "source": [
    "This is feature selection with RFE"
   ]
  },
  {
   "cell_type": "code",
   "execution_count": 2,
   "metadata": {},
   "outputs": [],
   "source": [
    "#Feature selection using recursive feature elimination\n",
    "from pandas import read_csv\n",
    "from sklearn.feature_selection import RFE\n",
    "from sklearn.linear_model import LinearRegression\n"
   ]
  },
  {
   "cell_type": "code",
   "execution_count": 3,
   "metadata": {},
   "outputs": [
    {
     "name": "stderr",
     "output_type": "stream",
     "text": [
      "/usr/local/lib/python3.7/site-packages/IPython/core/interactiveshell.py:3020: DtypeWarning: Columns (39,50,111) have mixed types. Specify dtype option on import or set low_memory=False.\n",
      "  interactivity=interactivity, compiler=compiler, result=result)\n"
     ]
    },
    {
     "data": {
      "text/html": [
       "<div>\n",
       "<style scoped>\n",
       "    .dataframe tbody tr th:only-of-type {\n",
       "        vertical-align: middle;\n",
       "    }\n",
       "\n",
       "    .dataframe tbody tr th {\n",
       "        vertical-align: top;\n",
       "    }\n",
       "\n",
       "    .dataframe thead th {\n",
       "        text-align: right;\n",
       "    }\n",
       "</style>\n",
       "<table border=\"1\" class=\"dataframe\">\n",
       "  <thead>\n",
       "    <tr style=\"text-align: right;\">\n",
       "      <th></th>\n",
       "      <th>id</th>\n",
       "      <th>web_alberlet</th>\n",
       "      <th>web_ingatlan</th>\n",
       "      <th>web_tower</th>\n",
       "      <th>apartment</th>\n",
       "      <th>house</th>\n",
       "      <th>sale</th>\n",
       "      <th>rent</th>\n",
       "      <th>price_per_month</th>\n",
       "      <th>size(sqm)</th>\n",
       "      <th>...</th>\n",
       "      <th>orientation_northeast</th>\n",
       "      <th>orientation_northwest</th>\n",
       "      <th>orientation_southwest</th>\n",
       "      <th>orientation_southeast</th>\n",
       "      <th>garden_access</th>\n",
       "      <th>garden_AC</th>\n",
       "      <th>attic</th>\n",
       "      <th>attic_loft_conversion</th>\n",
       "      <th>attic_penthouse</th>\n",
       "      <th>attic_topfloor</th>\n",
       "    </tr>\n",
       "  </thead>\n",
       "  <tbody>\n",
       "    <tr>\n",
       "      <th>0</th>\n",
       "      <td>0</td>\n",
       "      <td>1.0</td>\n",
       "      <td>0.0</td>\n",
       "      <td>0.0</td>\n",
       "      <td>1</td>\n",
       "      <td>0</td>\n",
       "      <td>0</td>\n",
       "      <td>1</td>\n",
       "      <td>386</td>\n",
       "      <td>35</td>\n",
       "      <td>...</td>\n",
       "      <td>NaN</td>\n",
       "      <td>NaN</td>\n",
       "      <td>NaN</td>\n",
       "      <td>NaN</td>\n",
       "      <td>NaN</td>\n",
       "      <td>NaN</td>\n",
       "      <td>NaN</td>\n",
       "      <td>NaN</td>\n",
       "      <td>NaN</td>\n",
       "      <td>NaN</td>\n",
       "    </tr>\n",
       "    <tr>\n",
       "      <th>1</th>\n",
       "      <td>1</td>\n",
       "      <td>1.0</td>\n",
       "      <td>0.0</td>\n",
       "      <td>0.0</td>\n",
       "      <td>1</td>\n",
       "      <td>0</td>\n",
       "      <td>0</td>\n",
       "      <td>1</td>\n",
       "      <td>773</td>\n",
       "      <td>56</td>\n",
       "      <td>...</td>\n",
       "      <td>NaN</td>\n",
       "      <td>NaN</td>\n",
       "      <td>NaN</td>\n",
       "      <td>NaN</td>\n",
       "      <td>NaN</td>\n",
       "      <td>NaN</td>\n",
       "      <td>NaN</td>\n",
       "      <td>NaN</td>\n",
       "      <td>NaN</td>\n",
       "      <td>NaN</td>\n",
       "    </tr>\n",
       "    <tr>\n",
       "      <th>2</th>\n",
       "      <td>2</td>\n",
       "      <td>1.0</td>\n",
       "      <td>0.0</td>\n",
       "      <td>0.0</td>\n",
       "      <td>1</td>\n",
       "      <td>0</td>\n",
       "      <td>0</td>\n",
       "      <td>1</td>\n",
       "      <td>464</td>\n",
       "      <td>53</td>\n",
       "      <td>...</td>\n",
       "      <td>NaN</td>\n",
       "      <td>NaN</td>\n",
       "      <td>NaN</td>\n",
       "      <td>NaN</td>\n",
       "      <td>NaN</td>\n",
       "      <td>NaN</td>\n",
       "      <td>NaN</td>\n",
       "      <td>NaN</td>\n",
       "      <td>NaN</td>\n",
       "      <td>NaN</td>\n",
       "    </tr>\n",
       "    <tr>\n",
       "      <th>3</th>\n",
       "      <td>3</td>\n",
       "      <td>1.0</td>\n",
       "      <td>0.0</td>\n",
       "      <td>0.0</td>\n",
       "      <td>1</td>\n",
       "      <td>0</td>\n",
       "      <td>0</td>\n",
       "      <td>1</td>\n",
       "      <td>835</td>\n",
       "      <td>75</td>\n",
       "      <td>...</td>\n",
       "      <td>NaN</td>\n",
       "      <td>NaN</td>\n",
       "      <td>NaN</td>\n",
       "      <td>NaN</td>\n",
       "      <td>NaN</td>\n",
       "      <td>NaN</td>\n",
       "      <td>NaN</td>\n",
       "      <td>NaN</td>\n",
       "      <td>NaN</td>\n",
       "      <td>NaN</td>\n",
       "    </tr>\n",
       "    <tr>\n",
       "      <th>4</th>\n",
       "      <td>4</td>\n",
       "      <td>1.0</td>\n",
       "      <td>0.0</td>\n",
       "      <td>0.0</td>\n",
       "      <td>1</td>\n",
       "      <td>0</td>\n",
       "      <td>0</td>\n",
       "      <td>1</td>\n",
       "      <td>773</td>\n",
       "      <td>69</td>\n",
       "      <td>...</td>\n",
       "      <td>NaN</td>\n",
       "      <td>NaN</td>\n",
       "      <td>NaN</td>\n",
       "      <td>NaN</td>\n",
       "      <td>NaN</td>\n",
       "      <td>NaN</td>\n",
       "      <td>NaN</td>\n",
       "      <td>NaN</td>\n",
       "      <td>NaN</td>\n",
       "      <td>NaN</td>\n",
       "    </tr>\n",
       "  </tbody>\n",
       "</table>\n",
       "<p>5 rows × 221 columns</p>\n",
       "</div>"
      ],
      "text/plain": [
       "   id  web_alberlet  web_ingatlan  web_tower  apartment  house  sale  rent  \\\n",
       "0   0           1.0           0.0        0.0          1      0     0     1   \n",
       "1   1           1.0           0.0        0.0          1      0     0     1   \n",
       "2   2           1.0           0.0        0.0          1      0     0     1   \n",
       "3   3           1.0           0.0        0.0          1      0     0     1   \n",
       "4   4           1.0           0.0        0.0          1      0     0     1   \n",
       "\n",
       "   price_per_month  size(sqm)       ...        orientation_northeast  \\\n",
       "0              386         35       ...                          NaN   \n",
       "1              773         56       ...                          NaN   \n",
       "2              464         53       ...                          NaN   \n",
       "3              835         75       ...                          NaN   \n",
       "4              773         69       ...                          NaN   \n",
       "\n",
       "   orientation_northwest  orientation_southwest  orientation_southeast  \\\n",
       "0                    NaN                    NaN                    NaN   \n",
       "1                    NaN                    NaN                    NaN   \n",
       "2                    NaN                    NaN                    NaN   \n",
       "3                    NaN                    NaN                    NaN   \n",
       "4                    NaN                    NaN                    NaN   \n",
       "\n",
       "   garden_access  garden_AC  attic  attic_loft_conversion  attic_penthouse  \\\n",
       "0            NaN        NaN    NaN                    NaN              NaN   \n",
       "1            NaN        NaN    NaN                    NaN              NaN   \n",
       "2            NaN        NaN    NaN                    NaN              NaN   \n",
       "3            NaN        NaN    NaN                    NaN              NaN   \n",
       "4            NaN        NaN    NaN                    NaN              NaN   \n",
       "\n",
       "   attic_topfloor  \n",
       "0             NaN  \n",
       "1             NaN  \n",
       "2             NaN  \n",
       "3             NaN  \n",
       "4             NaN  \n",
       "\n",
       "[5 rows x 221 columns]"
      ]
     },
     "execution_count": 3,
     "metadata": {},
     "output_type": "execute_result"
    }
   ],
   "source": [
    "#Input data\n",
    "data = read_csv('rent_clean.csv')\n",
    "data.head()\n"
   ]
  },
  {
   "cell_type": "code",
   "execution_count": 7,
   "metadata": {},
   "outputs": [],
   "source": [
    "#Drop NaN items\n",
    "test = data[['price_per_sqm', 'apartment', 'number_of_whole_rooms', 'number_of_half_rooms', 'floor', 'lift', 'air_conditioner', 'furnish_furnished', 'view_garden', 'view_panoramic', 'view_street', 'heating_gas', 'heating_wall_heating', 'heating_combination', 'heating_ceiling', 'heating_central_heating', 'heating_electric', 'heating_floor', 'heating_circulating', 'heating_district', 'district_i', 'district_ii', 'district_iii', 'district_iv', 'district_v', 'district_vi', 'district_vii', 'district_viii', 'district_ix', 'district_x', 'district_xi', 'district_xii','district_xiii', 'district_xiv', 'district_xv', 'district_xvi', 'district_xvii', 'district_xviii', 'district_xix', 'district_xx', 'district_xxi', 'district_xxii', 'district_xxiii']]\n",
    "test = test.dropna()\n",
    "\n",
    "X = test[['apartment', 'number_of_whole_rooms', 'number_of_half_rooms', 'floor', 'lift', 'air_conditioner', 'furnish_furnished', 'view_garden', 'view_panoramic', 'view_street', 'heating_gas', 'heating_wall_heating', 'heating_combination', 'heating_ceiling', 'heating_central_heating', 'heating_electric', 'heating_floor', 'heating_circulating', 'heating_district', 'district_i', 'district_ii', 'district_iii', 'district_iv', 'district_v', 'district_vi', 'district_vii', 'district_viii', 'district_ix', 'district_x', 'district_xi', 'district_xii','district_xiii', 'district_xiv', 'district_xv', 'district_xvi', 'district_xvii', 'district_xviii', 'district_xix', 'district_xx', 'district_xxi', 'district_xxii', 'district_xxiii']]\n",
    "y = test[['price_per_sqm']]\n",
    "\n",
    "features = ['apartment', 'number_of_whole_rooms', 'number_of_half_rooms', 'floor', 'lift', 'air_conditioner', 'furnish_furnished', 'view_garden', 'view_panoramic', 'view_street', 'heating_gas', 'heating_wall_heating', 'heating_combination', 'heating_ceiling', 'heating_central_heating', 'heating_electric', 'heating_floor', 'heating_circulating', 'heating_district', 'district_i', 'district_ii', 'district_iii', 'district_iv', 'district_v', 'district_vi', 'district_vii', 'district_viii', 'district_ix', 'district_x', 'district_xi', 'district_xii','district_xiii', 'district_xiv', 'district_xv', 'district_xvi', 'district_xvii', 'district_xviii', 'district_xix', 'district_xx', 'district_xxi', 'district_xxii', 'district_xxiii']\n"
   ]
  },
  {
   "cell_type": "code",
   "execution_count": 8,
   "metadata": {},
   "outputs": [
    {
     "name": "stdout",
     "output_type": "stream",
     "text": [
      "Num Features: 15\n",
      "Feature Ranking [ 8 28 12 25  3  1  1 11  1 14  9  1  6 22  7 13  1 10  1  1  2 18  1  1\n",
      "  1 15 24 19  1 17 16 20  5 27  4 26  1 21  1 23  1  1]\n"
     ]
    },
    {
     "name": "stderr",
     "output_type": "stream",
     "text": [
      "/usr/local/lib/python3.7/site-packages/sklearn/utils/validation.py:761: DataConversionWarning: A column-vector y was passed when a 1d array was expected. Please change the shape of y to (n_samples, ), for example using ravel().\n",
      "  y = column_or_1d(y, warn=True)\n",
      "/usr/local/lib/python3.7/site-packages/sklearn/linear_model/base.py:485: RuntimeWarning: internal gelsd driver lwork query error, required iwork dimension not returned. This is likely the result of LAPACK bug 0038, fixed in LAPACK 3.2.2 (released July 21, 2010). Falling back to 'gelss' driver.\n",
      "  linalg.lstsq(X, y)\n"
     ]
    },
    {
     "data": {
      "text/plain": [
       "[('apartment', False),\n",
       " ('number_of_whole_rooms', False),\n",
       " ('number_of_half_rooms', False),\n",
       " ('floor', False),\n",
       " ('lift', False),\n",
       " ('air_conditioner', True),\n",
       " ('furnish_furnished', True),\n",
       " ('view_garden', False),\n",
       " ('view_panoramic', True),\n",
       " ('view_street', False),\n",
       " ('heating_gas', False),\n",
       " ('heating_wall_heating', True),\n",
       " ('heating_combination', False),\n",
       " ('heating_ceiling', False),\n",
       " ('heating_central_heating', False),\n",
       " ('heating_electric', False),\n",
       " ('heating_floor', True),\n",
       " ('heating_circulating', False),\n",
       " ('heating_district', True),\n",
       " ('district_i', True),\n",
       " ('district_ii', False),\n",
       " ('district_iii', False),\n",
       " ('district_iv', True),\n",
       " ('district_v', True),\n",
       " ('district_vi', True),\n",
       " ('district_vii', False),\n",
       " ('district_viii', False),\n",
       " ('district_ix', False),\n",
       " ('district_x', True),\n",
       " ('district_xi', False),\n",
       " ('district_xii', False),\n",
       " ('district_xiii', False),\n",
       " ('district_xiv', False),\n",
       " ('district_xv', False),\n",
       " ('district_xvi', False),\n",
       " ('district_xvii', False),\n",
       " ('district_xviii', True),\n",
       " ('district_xix', False),\n",
       " ('district_xx', True),\n",
       " ('district_xxi', False),\n",
       " ('district_xxii', True),\n",
       " ('district_xxiii', True)]"
      ]
     },
     "execution_count": 8,
     "metadata": {},
     "output_type": "execute_result"
    }
   ],
   "source": [
    "#Feature extraction\n",
    "#15 \n",
    "my_model = LinearRegression()\n",
    "rfe = RFE(my_model, 15)\n",
    "fit = rfe.fit(X, y)\n",
    "\n",
    "print('Num Features:', fit.n_features_)\n",
    "print('Feature Ranking', fit.ranking_)\n",
    "\n",
    "list(zip(features, fit.support_))\n"
   ]
  },
  {
   "cell_type": "code",
   "execution_count": 9,
   "metadata": {},
   "outputs": [
    {
     "name": "stdout",
     "output_type": "stream",
     "text": [
      "Num Features: 16\n",
      "Feature Ranking [ 7 27 11 24  2  1  1 10  1 13  8  1  5 21  6 12  1  9  1  1  1 17  1  1\n",
      "  1 14 23 18  1 16 15 19  4 26  3 25  1 20  1 22  1  1]\n"
     ]
    },
    {
     "name": "stderr",
     "output_type": "stream",
     "text": [
      "/usr/local/lib/python3.7/site-packages/sklearn/utils/validation.py:761: DataConversionWarning: A column-vector y was passed when a 1d array was expected. Please change the shape of y to (n_samples, ), for example using ravel().\n",
      "  y = column_or_1d(y, warn=True)\n"
     ]
    },
    {
     "data": {
      "text/plain": [
       "[('apartment', False),\n",
       " ('number_of_whole_rooms', False),\n",
       " ('number_of_half_rooms', False),\n",
       " ('floor', False),\n",
       " ('lift', False),\n",
       " ('air_conditioner', True),\n",
       " ('furnish_furnished', True),\n",
       " ('view_garden', False),\n",
       " ('view_panoramic', True),\n",
       " ('view_street', False),\n",
       " ('heating_gas', False),\n",
       " ('heating_wall_heating', True),\n",
       " ('heating_combination', False),\n",
       " ('heating_ceiling', False),\n",
       " ('heating_central_heating', False),\n",
       " ('heating_electric', False),\n",
       " ('heating_floor', True),\n",
       " ('heating_circulating', False),\n",
       " ('heating_district', True),\n",
       " ('district_i', True),\n",
       " ('district_ii', True),\n",
       " ('district_iii', False),\n",
       " ('district_iv', True),\n",
       " ('district_v', True),\n",
       " ('district_vi', True),\n",
       " ('district_vii', False),\n",
       " ('district_viii', False),\n",
       " ('district_ix', False),\n",
       " ('district_x', True),\n",
       " ('district_xi', False),\n",
       " ('district_xii', False),\n",
       " ('district_xiii', False),\n",
       " ('district_xiv', False),\n",
       " ('district_xv', False),\n",
       " ('district_xvi', False),\n",
       " ('district_xvii', False),\n",
       " ('district_xviii', True),\n",
       " ('district_xix', False),\n",
       " ('district_xx', True),\n",
       " ('district_xxi', False),\n",
       " ('district_xxii', True),\n",
       " ('district_xxiii', True)]"
      ]
     },
     "execution_count": 9,
     "metadata": {},
     "output_type": "execute_result"
    }
   ],
   "source": [
    "#Feature extraction\n",
    "#16\n",
    "my_model = LinearRegression()\n",
    "rfe = RFE(my_model, 16)\n",
    "fit = rfe.fit(X, y)\n",
    "\n",
    "print('Num Features:', fit.n_features_)\n",
    "print('Feature Ranking', fit.ranking_)\n",
    "\n",
    "list(zip(features, fit.support_))\n"
   ]
  },
  {
   "cell_type": "code",
   "execution_count": 10,
   "metadata": {},
   "outputs": [
    {
     "name": "stdout",
     "output_type": "stream",
     "text": [
      "Num Features: 17\n",
      "Feature Ranking [ 6 26 10 23  1  1  1  9  1 12  7  1  4 20  5 11  1  8  1  1  1 16  1  1\n",
      "  1 13 22 17  1 15 14 18  3 25  2 24  1 19  1 21  1  1]\n"
     ]
    },
    {
     "name": "stderr",
     "output_type": "stream",
     "text": [
      "/usr/local/lib/python3.7/site-packages/sklearn/utils/validation.py:761: DataConversionWarning: A column-vector y was passed when a 1d array was expected. Please change the shape of y to (n_samples, ), for example using ravel().\n",
      "  y = column_or_1d(y, warn=True)\n"
     ]
    },
    {
     "data": {
      "text/plain": [
       "[('apartment', False),\n",
       " ('number_of_whole_rooms', False),\n",
       " ('number_of_half_rooms', False),\n",
       " ('floor', False),\n",
       " ('lift', True),\n",
       " ('air_conditioner', True),\n",
       " ('furnish_furnished', True),\n",
       " ('view_garden', False),\n",
       " ('view_panoramic', True),\n",
       " ('view_street', False),\n",
       " ('heating_gas', False),\n",
       " ('heating_wall_heating', True),\n",
       " ('heating_combination', False),\n",
       " ('heating_ceiling', False),\n",
       " ('heating_central_heating', False),\n",
       " ('heating_electric', False),\n",
       " ('heating_floor', True),\n",
       " ('heating_circulating', False),\n",
       " ('heating_district', True),\n",
       " ('district_i', True),\n",
       " ('district_ii', True),\n",
       " ('district_iii', False),\n",
       " ('district_iv', True),\n",
       " ('district_v', True),\n",
       " ('district_vi', True),\n",
       " ('district_vii', False),\n",
       " ('district_viii', False),\n",
       " ('district_ix', False),\n",
       " ('district_x', True),\n",
       " ('district_xi', False),\n",
       " ('district_xii', False),\n",
       " ('district_xiii', False),\n",
       " ('district_xiv', False),\n",
       " ('district_xv', False),\n",
       " ('district_xvi', False),\n",
       " ('district_xvii', False),\n",
       " ('district_xviii', True),\n",
       " ('district_xix', False),\n",
       " ('district_xx', True),\n",
       " ('district_xxi', False),\n",
       " ('district_xxii', True),\n",
       " ('district_xxiii', True)]"
      ]
     },
     "execution_count": 10,
     "metadata": {},
     "output_type": "execute_result"
    }
   ],
   "source": [
    "#Feature extraction\n",
    "#17\n",
    "my_model = LinearRegression()\n",
    "rfe = RFE(my_model, 17)\n",
    "fit = rfe.fit(X, y)\n",
    "\n",
    "print('Num Features:', fit.n_features_)\n",
    "print('Feature Ranking', fit.ranking_)\n",
    "\n",
    "list(zip(features, fit.support_))\n"
   ]
  },
  {
   "cell_type": "code",
   "execution_count": 11,
   "metadata": {},
   "outputs": [
    {
     "name": "stdout",
     "output_type": "stream",
     "text": [
      "Num Features: 18\n",
      "Feature Ranking [ 5 25  9 22  1  1  1  8  1 11  6  1  3 19  4 10  1  7  1  1  1 15  1  1\n",
      "  1 12 21 16  1 14 13 17  2 24  1 23  1 18  1 20  1  1]\n"
     ]
    },
    {
     "name": "stderr",
     "output_type": "stream",
     "text": [
      "/usr/local/lib/python3.7/site-packages/sklearn/utils/validation.py:761: DataConversionWarning: A column-vector y was passed when a 1d array was expected. Please change the shape of y to (n_samples, ), for example using ravel().\n",
      "  y = column_or_1d(y, warn=True)\n"
     ]
    },
    {
     "data": {
      "text/plain": [
       "[('apartment', False),\n",
       " ('number_of_whole_rooms', False),\n",
       " ('number_of_half_rooms', False),\n",
       " ('floor', False),\n",
       " ('lift', True),\n",
       " ('air_conditioner', True),\n",
       " ('furnish_furnished', True),\n",
       " ('view_garden', False),\n",
       " ('view_panoramic', True),\n",
       " ('view_street', False),\n",
       " ('heating_gas', False),\n",
       " ('heating_wall_heating', True),\n",
       " ('heating_combination', False),\n",
       " ('heating_ceiling', False),\n",
       " ('heating_central_heating', False),\n",
       " ('heating_electric', False),\n",
       " ('heating_floor', True),\n",
       " ('heating_circulating', False),\n",
       " ('heating_district', True),\n",
       " ('district_i', True),\n",
       " ('district_ii', True),\n",
       " ('district_iii', False),\n",
       " ('district_iv', True),\n",
       " ('district_v', True),\n",
       " ('district_vi', True),\n",
       " ('district_vii', False),\n",
       " ('district_viii', False),\n",
       " ('district_ix', False),\n",
       " ('district_x', True),\n",
       " ('district_xi', False),\n",
       " ('district_xii', False),\n",
       " ('district_xiii', False),\n",
       " ('district_xiv', False),\n",
       " ('district_xv', False),\n",
       " ('district_xvi', True),\n",
       " ('district_xvii', False),\n",
       " ('district_xviii', True),\n",
       " ('district_xix', False),\n",
       " ('district_xx', True),\n",
       " ('district_xxi', False),\n",
       " ('district_xxii', True),\n",
       " ('district_xxiii', True)]"
      ]
     },
     "execution_count": 11,
     "metadata": {},
     "output_type": "execute_result"
    }
   ],
   "source": [
    "#Feature extraction\n",
    "#18\n",
    "my_model = LinearRegression()\n",
    "rfe = RFE(my_model, 18)\n",
    "fit = rfe.fit(X, y)\n",
    "\n",
    "print('Num Features:', fit.n_features_)\n",
    "print('Feature Ranking', fit.ranking_)\n",
    "\n",
    "list(zip(features, fit.support_))\n"
   ]
  },
  {
   "cell_type": "code",
   "execution_count": 12,
   "metadata": {},
   "outputs": [
    {
     "name": "stdout",
     "output_type": "stream",
     "text": [
      "Num Features: 19\n",
      "Feature Ranking [ 4 24  8 21  1  1  1  7  1 10  5  1  2 18  3  9  1  6  1  1  1 14  1  1\n",
      "  1 11 20 15  1 13 12 16  1 23  1 22  1 17  1 19  1  1]\n"
     ]
    },
    {
     "name": "stderr",
     "output_type": "stream",
     "text": [
      "/usr/local/lib/python3.7/site-packages/sklearn/utils/validation.py:761: DataConversionWarning: A column-vector y was passed when a 1d array was expected. Please change the shape of y to (n_samples, ), for example using ravel().\n",
      "  y = column_or_1d(y, warn=True)\n"
     ]
    },
    {
     "data": {
      "text/plain": [
       "[('apartment', False),\n",
       " ('number_of_whole_rooms', False),\n",
       " ('number_of_half_rooms', False),\n",
       " ('floor', False),\n",
       " ('lift', True),\n",
       " ('air_conditioner', True),\n",
       " ('furnish_furnished', True),\n",
       " ('view_garden', False),\n",
       " ('view_panoramic', True),\n",
       " ('view_street', False),\n",
       " ('heating_gas', False),\n",
       " ('heating_wall_heating', True),\n",
       " ('heating_combination', False),\n",
       " ('heating_ceiling', False),\n",
       " ('heating_central_heating', False),\n",
       " ('heating_electric', False),\n",
       " ('heating_floor', True),\n",
       " ('heating_circulating', False),\n",
       " ('heating_district', True),\n",
       " ('district_i', True),\n",
       " ('district_ii', True),\n",
       " ('district_iii', False),\n",
       " ('district_iv', True),\n",
       " ('district_v', True),\n",
       " ('district_vi', True),\n",
       " ('district_vii', False),\n",
       " ('district_viii', False),\n",
       " ('district_ix', False),\n",
       " ('district_x', True),\n",
       " ('district_xi', False),\n",
       " ('district_xii', False),\n",
       " ('district_xiii', False),\n",
       " ('district_xiv', True),\n",
       " ('district_xv', False),\n",
       " ('district_xvi', True),\n",
       " ('district_xvii', False),\n",
       " ('district_xviii', True),\n",
       " ('district_xix', False),\n",
       " ('district_xx', True),\n",
       " ('district_xxi', False),\n",
       " ('district_xxii', True),\n",
       " ('district_xxiii', True)]"
      ]
     },
     "execution_count": 12,
     "metadata": {},
     "output_type": "execute_result"
    }
   ],
   "source": [
    "#Feature extraction\n",
    "#19\n",
    "my_model = LinearRegression()\n",
    "rfe = RFE(my_model, 19)\n",
    "fit = rfe.fit(X, y)\n",
    "\n",
    "print('Num Features:', fit.n_features_)\n",
    "print('Feature Ranking', fit.ranking_)\n",
    "\n",
    "list(zip(features, fit.support_))\n"
   ]
  },
  {
   "cell_type": "code",
   "execution_count": 13,
   "metadata": {},
   "outputs": [
    {
     "name": "stdout",
     "output_type": "stream",
     "text": [
      "Num Features: 20\n",
      "Feature Ranking [ 3 23  7 20  1  1  1  6  1  9  4  1  1 17  2  8  1  5  1  1  1 13  1  1\n",
      "  1 10 19 14  1 12 11 15  1 22  1 21  1 16  1 18  1  1]\n"
     ]
    },
    {
     "name": "stderr",
     "output_type": "stream",
     "text": [
      "/usr/local/lib/python3.7/site-packages/sklearn/utils/validation.py:761: DataConversionWarning: A column-vector y was passed when a 1d array was expected. Please change the shape of y to (n_samples, ), for example using ravel().\n",
      "  y = column_or_1d(y, warn=True)\n"
     ]
    },
    {
     "data": {
      "text/plain": [
       "[('apartment', False),\n",
       " ('number_of_whole_rooms', False),\n",
       " ('number_of_half_rooms', False),\n",
       " ('floor', False),\n",
       " ('lift', True),\n",
       " ('air_conditioner', True),\n",
       " ('furnish_furnished', True),\n",
       " ('view_garden', False),\n",
       " ('view_panoramic', True),\n",
       " ('view_street', False),\n",
       " ('heating_gas', False),\n",
       " ('heating_wall_heating', True),\n",
       " ('heating_combination', True),\n",
       " ('heating_ceiling', False),\n",
       " ('heating_central_heating', False),\n",
       " ('heating_electric', False),\n",
       " ('heating_floor', True),\n",
       " ('heating_circulating', False),\n",
       " ('heating_district', True),\n",
       " ('district_i', True),\n",
       " ('district_ii', True),\n",
       " ('district_iii', False),\n",
       " ('district_iv', True),\n",
       " ('district_v', True),\n",
       " ('district_vi', True),\n",
       " ('district_vii', False),\n",
       " ('district_viii', False),\n",
       " ('district_ix', False),\n",
       " ('district_x', True),\n",
       " ('district_xi', False),\n",
       " ('district_xii', False),\n",
       " ('district_xiii', False),\n",
       " ('district_xiv', True),\n",
       " ('district_xv', False),\n",
       " ('district_xvi', True),\n",
       " ('district_xvii', False),\n",
       " ('district_xviii', True),\n",
       " ('district_xix', False),\n",
       " ('district_xx', True),\n",
       " ('district_xxi', False),\n",
       " ('district_xxii', True),\n",
       " ('district_xxiii', True)]"
      ]
     },
     "execution_count": 13,
     "metadata": {},
     "output_type": "execute_result"
    }
   ],
   "source": [
    "#Feature extraction\n",
    "#20\n",
    "my_model = LinearRegression()\n",
    "rfe = RFE(my_model, 20)\n",
    "fit = rfe.fit(X, y)\n",
    "\n",
    "print('Num Features:', fit.n_features_)\n",
    "print('Feature Ranking', fit.ranking_)\n",
    "\n",
    "list(zip(features, fit.support_))\n"
   ]
  },
  {
   "cell_type": "code",
   "execution_count": 14,
   "metadata": {},
   "outputs": [
    {
     "name": "stdout",
     "output_type": "stream",
     "text": [
      "Num Features: 21\n",
      "Feature Ranking [ 2 22  6 19  1  1  1  5  1  8  3  1  1 16  1  7  1  4  1  1  1 12  1  1\n",
      "  1  9 18 13  1 11 10 14  1 21  1 20  1 15  1 17  1  1]\n"
     ]
    },
    {
     "name": "stderr",
     "output_type": "stream",
     "text": [
      "/usr/local/lib/python3.7/site-packages/sklearn/utils/validation.py:761: DataConversionWarning: A column-vector y was passed when a 1d array was expected. Please change the shape of y to (n_samples, ), for example using ravel().\n",
      "  y = column_or_1d(y, warn=True)\n"
     ]
    },
    {
     "data": {
      "text/plain": [
       "[('apartment', False),\n",
       " ('number_of_whole_rooms', False),\n",
       " ('number_of_half_rooms', False),\n",
       " ('floor', False),\n",
       " ('lift', True),\n",
       " ('air_conditioner', True),\n",
       " ('furnish_furnished', True),\n",
       " ('view_garden', False),\n",
       " ('view_panoramic', True),\n",
       " ('view_street', False),\n",
       " ('heating_gas', False),\n",
       " ('heating_wall_heating', True),\n",
       " ('heating_combination', True),\n",
       " ('heating_ceiling', False),\n",
       " ('heating_central_heating', True),\n",
       " ('heating_electric', False),\n",
       " ('heating_floor', True),\n",
       " ('heating_circulating', False),\n",
       " ('heating_district', True),\n",
       " ('district_i', True),\n",
       " ('district_ii', True),\n",
       " ('district_iii', False),\n",
       " ('district_iv', True),\n",
       " ('district_v', True),\n",
       " ('district_vi', True),\n",
       " ('district_vii', False),\n",
       " ('district_viii', False),\n",
       " ('district_ix', False),\n",
       " ('district_x', True),\n",
       " ('district_xi', False),\n",
       " ('district_xii', False),\n",
       " ('district_xiii', False),\n",
       " ('district_xiv', True),\n",
       " ('district_xv', False),\n",
       " ('district_xvi', True),\n",
       " ('district_xvii', False),\n",
       " ('district_xviii', True),\n",
       " ('district_xix', False),\n",
       " ('district_xx', True),\n",
       " ('district_xxi', False),\n",
       " ('district_xxii', True),\n",
       " ('district_xxiii', True)]"
      ]
     },
     "execution_count": 14,
     "metadata": {},
     "output_type": "execute_result"
    }
   ],
   "source": [
    "#Feature extraction\n",
    "#21\n",
    "my_model = LinearRegression()\n",
    "rfe = RFE(my_model, 21)\n",
    "fit = rfe.fit(X, y)\n",
    "\n",
    "print('Num Features:', fit.n_features_)\n",
    "print('Feature Ranking', fit.ranking_)\n",
    "\n",
    "list(zip(features, fit.support_))\n"
   ]
  },
  {
   "cell_type": "code",
   "execution_count": 15,
   "metadata": {},
   "outputs": [
    {
     "name": "stdout",
     "output_type": "stream",
     "text": [
      "Num Features: 22\n",
      "Feature Ranking [ 1 21  5 18  1  1  1  4  1  7  2  1  1 15  1  6  1  3  1  1  1 11  1  1\n",
      "  1  8 17 12  1 10  9 13  1 20  1 19  1 14  1 16  1  1]\n"
     ]
    },
    {
     "name": "stderr",
     "output_type": "stream",
     "text": [
      "/usr/local/lib/python3.7/site-packages/sklearn/utils/validation.py:761: DataConversionWarning: A column-vector y was passed when a 1d array was expected. Please change the shape of y to (n_samples, ), for example using ravel().\n",
      "  y = column_or_1d(y, warn=True)\n"
     ]
    },
    {
     "data": {
      "text/plain": [
       "[('apartment', True),\n",
       " ('number_of_whole_rooms', False),\n",
       " ('number_of_half_rooms', False),\n",
       " ('floor', False),\n",
       " ('lift', True),\n",
       " ('air_conditioner', True),\n",
       " ('furnish_furnished', True),\n",
       " ('view_garden', False),\n",
       " ('view_panoramic', True),\n",
       " ('view_street', False),\n",
       " ('heating_gas', False),\n",
       " ('heating_wall_heating', True),\n",
       " ('heating_combination', True),\n",
       " ('heating_ceiling', False),\n",
       " ('heating_central_heating', True),\n",
       " ('heating_electric', False),\n",
       " ('heating_floor', True),\n",
       " ('heating_circulating', False),\n",
       " ('heating_district', True),\n",
       " ('district_i', True),\n",
       " ('district_ii', True),\n",
       " ('district_iii', False),\n",
       " ('district_iv', True),\n",
       " ('district_v', True),\n",
       " ('district_vi', True),\n",
       " ('district_vii', False),\n",
       " ('district_viii', False),\n",
       " ('district_ix', False),\n",
       " ('district_x', True),\n",
       " ('district_xi', False),\n",
       " ('district_xii', False),\n",
       " ('district_xiii', False),\n",
       " ('district_xiv', True),\n",
       " ('district_xv', False),\n",
       " ('district_xvi', True),\n",
       " ('district_xvii', False),\n",
       " ('district_xviii', True),\n",
       " ('district_xix', False),\n",
       " ('district_xx', True),\n",
       " ('district_xxi', False),\n",
       " ('district_xxii', True),\n",
       " ('district_xxiii', True)]"
      ]
     },
     "execution_count": 15,
     "metadata": {},
     "output_type": "execute_result"
    }
   ],
   "source": [
    "#Feature extraction\n",
    "#22\n",
    "my_model = LinearRegression()\n",
    "rfe = RFE(my_model, 22)\n",
    "fit = rfe.fit(X, y)\n",
    "\n",
    "print('Num Features:', fit.n_features_)\n",
    "print('Feature Ranking', fit.ranking_)\n",
    "\n",
    "list(zip(features, fit.support_))\n"
   ]
  },
  {
   "cell_type": "code",
   "execution_count": 16,
   "metadata": {},
   "outputs": [
    {
     "name": "stdout",
     "output_type": "stream",
     "text": [
      "Num Features: 23\n",
      "Feature Ranking [ 1 20  4 17  1  1  1  3  1  6  1  1  1 14  1  5  1  2  1  1  1 10  1  1\n",
      "  1  7 16 11  1  9  8 12  1 19  1 18  1 13  1 15  1  1]\n"
     ]
    },
    {
     "name": "stderr",
     "output_type": "stream",
     "text": [
      "/usr/local/lib/python3.7/site-packages/sklearn/utils/validation.py:761: DataConversionWarning: A column-vector y was passed when a 1d array was expected. Please change the shape of y to (n_samples, ), for example using ravel().\n",
      "  y = column_or_1d(y, warn=True)\n"
     ]
    },
    {
     "data": {
      "text/plain": [
       "[('apartment', True),\n",
       " ('number_of_whole_rooms', False),\n",
       " ('number_of_half_rooms', False),\n",
       " ('floor', False),\n",
       " ('lift', True),\n",
       " ('air_conditioner', True),\n",
       " ('furnish_furnished', True),\n",
       " ('view_garden', False),\n",
       " ('view_panoramic', True),\n",
       " ('view_street', False),\n",
       " ('heating_gas', True),\n",
       " ('heating_wall_heating', True),\n",
       " ('heating_combination', True),\n",
       " ('heating_ceiling', False),\n",
       " ('heating_central_heating', True),\n",
       " ('heating_electric', False),\n",
       " ('heating_floor', True),\n",
       " ('heating_circulating', False),\n",
       " ('heating_district', True),\n",
       " ('district_i', True),\n",
       " ('district_ii', True),\n",
       " ('district_iii', False),\n",
       " ('district_iv', True),\n",
       " ('district_v', True),\n",
       " ('district_vi', True),\n",
       " ('district_vii', False),\n",
       " ('district_viii', False),\n",
       " ('district_ix', False),\n",
       " ('district_x', True),\n",
       " ('district_xi', False),\n",
       " ('district_xii', False),\n",
       " ('district_xiii', False),\n",
       " ('district_xiv', True),\n",
       " ('district_xv', False),\n",
       " ('district_xvi', True),\n",
       " ('district_xvii', False),\n",
       " ('district_xviii', True),\n",
       " ('district_xix', False),\n",
       " ('district_xx', True),\n",
       " ('district_xxi', False),\n",
       " ('district_xxii', True),\n",
       " ('district_xxiii', True)]"
      ]
     },
     "execution_count": 16,
     "metadata": {},
     "output_type": "execute_result"
    }
   ],
   "source": [
    "#Feature extraction\n",
    "#23\n",
    "my_model = LinearRegression()\n",
    "rfe = RFE(my_model, 23)\n",
    "fit = rfe.fit(X, y)\n",
    "\n",
    "print('Num Features:', fit.n_features_)\n",
    "print('Feature Ranking', fit.ranking_)\n",
    "\n",
    "list(zip(features, fit.support_))\n"
   ]
  },
  {
   "cell_type": "code",
   "execution_count": 17,
   "metadata": {},
   "outputs": [
    {
     "name": "stdout",
     "output_type": "stream",
     "text": [
      "Num Features: 24\n",
      "Feature Ranking [ 1 19  3 16  1  1  1  2  1  5  1  1  1 13  1  4  1  1  1  1  1  9  1  1\n",
      "  1  6 15 10  1  8  7 11  1 18  1 17  1 12  1 14  1  1]\n"
     ]
    },
    {
     "name": "stderr",
     "output_type": "stream",
     "text": [
      "/usr/local/lib/python3.7/site-packages/sklearn/utils/validation.py:761: DataConversionWarning: A column-vector y was passed when a 1d array was expected. Please change the shape of y to (n_samples, ), for example using ravel().\n",
      "  y = column_or_1d(y, warn=True)\n"
     ]
    },
    {
     "data": {
      "text/plain": [
       "[('apartment', True),\n",
       " ('number_of_whole_rooms', False),\n",
       " ('number_of_half_rooms', False),\n",
       " ('floor', False),\n",
       " ('lift', True),\n",
       " ('air_conditioner', True),\n",
       " ('furnish_furnished', True),\n",
       " ('view_garden', False),\n",
       " ('view_panoramic', True),\n",
       " ('view_street', False),\n",
       " ('heating_gas', True),\n",
       " ('heating_wall_heating', True),\n",
       " ('heating_combination', True),\n",
       " ('heating_ceiling', False),\n",
       " ('heating_central_heating', True),\n",
       " ('heating_electric', False),\n",
       " ('heating_floor', True),\n",
       " ('heating_circulating', True),\n",
       " ('heating_district', True),\n",
       " ('district_i', True),\n",
       " ('district_ii', True),\n",
       " ('district_iii', False),\n",
       " ('district_iv', True),\n",
       " ('district_v', True),\n",
       " ('district_vi', True),\n",
       " ('district_vii', False),\n",
       " ('district_viii', False),\n",
       " ('district_ix', False),\n",
       " ('district_x', True),\n",
       " ('district_xi', False),\n",
       " ('district_xii', False),\n",
       " ('district_xiii', False),\n",
       " ('district_xiv', True),\n",
       " ('district_xv', False),\n",
       " ('district_xvi', True),\n",
       " ('district_xvii', False),\n",
       " ('district_xviii', True),\n",
       " ('district_xix', False),\n",
       " ('district_xx', True),\n",
       " ('district_xxi', False),\n",
       " ('district_xxii', True),\n",
       " ('district_xxiii', True)]"
      ]
     },
     "execution_count": 17,
     "metadata": {},
     "output_type": "execute_result"
    }
   ],
   "source": [
    "#Feature extraction\n",
    "#24\n",
    "my_model = LinearRegression()\n",
    "rfe = RFE(my_model, 24)\n",
    "fit = rfe.fit(X, y)\n",
    "\n",
    "print('Num Features:', fit.n_features_)\n",
    "print('Feature Ranking', fit.ranking_)\n",
    "\n",
    "list(zip(features, fit.support_))\n"
   ]
  },
  {
   "cell_type": "code",
   "execution_count": 18,
   "metadata": {},
   "outputs": [
    {
     "name": "stdout",
     "output_type": "stream",
     "text": [
      "Num Features: 25\n",
      "Feature Ranking [ 1 18  2 15  1  1  1  1  1  4  1  1  1 12  1  3  1  1  1  1  1  8  1  1\n",
      "  1  5 14  9  1  7  6 10  1 17  1 16  1 11  1 13  1  1]\n"
     ]
    },
    {
     "name": "stderr",
     "output_type": "stream",
     "text": [
      "/usr/local/lib/python3.7/site-packages/sklearn/utils/validation.py:761: DataConversionWarning: A column-vector y was passed when a 1d array was expected. Please change the shape of y to (n_samples, ), for example using ravel().\n",
      "  y = column_or_1d(y, warn=True)\n"
     ]
    },
    {
     "data": {
      "text/plain": [
       "[('apartment', True),\n",
       " ('number_of_whole_rooms', False),\n",
       " ('number_of_half_rooms', False),\n",
       " ('floor', False),\n",
       " ('lift', True),\n",
       " ('air_conditioner', True),\n",
       " ('furnish_furnished', True),\n",
       " ('view_garden', True),\n",
       " ('view_panoramic', True),\n",
       " ('view_street', False),\n",
       " ('heating_gas', True),\n",
       " ('heating_wall_heating', True),\n",
       " ('heating_combination', True),\n",
       " ('heating_ceiling', False),\n",
       " ('heating_central_heating', True),\n",
       " ('heating_electric', False),\n",
       " ('heating_floor', True),\n",
       " ('heating_circulating', True),\n",
       " ('heating_district', True),\n",
       " ('district_i', True),\n",
       " ('district_ii', True),\n",
       " ('district_iii', False),\n",
       " ('district_iv', True),\n",
       " ('district_v', True),\n",
       " ('district_vi', True),\n",
       " ('district_vii', False),\n",
       " ('district_viii', False),\n",
       " ('district_ix', False),\n",
       " ('district_x', True),\n",
       " ('district_xi', False),\n",
       " ('district_xii', False),\n",
       " ('district_xiii', False),\n",
       " ('district_xiv', True),\n",
       " ('district_xv', False),\n",
       " ('district_xvi', True),\n",
       " ('district_xvii', False),\n",
       " ('district_xviii', True),\n",
       " ('district_xix', False),\n",
       " ('district_xx', True),\n",
       " ('district_xxi', False),\n",
       " ('district_xxii', True),\n",
       " ('district_xxiii', True)]"
      ]
     },
     "execution_count": 18,
     "metadata": {},
     "output_type": "execute_result"
    }
   ],
   "source": [
    "#Feature extraction\n",
    "#24\n",
    "my_model = LinearRegression()\n",
    "rfe = RFE(my_model, 25)\n",
    "fit = rfe.fit(X, y)\n",
    "\n",
    "print('Num Features:', fit.n_features_)\n",
    "print('Feature Ranking', fit.ranking_)\n",
    "\n",
    "list(zip(features, fit.support_))\n"
   ]
  },
  {
   "cell_type": "code",
   "execution_count": 19,
   "metadata": {},
   "outputs": [
    {
     "name": "stdout",
     "output_type": "stream",
     "text": [
      "Num Features: 26\n",
      "Feature Ranking [ 1 17  1 14  1  1  1  1  1  3  1  1  1 11  1  2  1  1  1  1  1  7  1  1\n",
      "  1  4 13  8  1  6  5  9  1 16  1 15  1 10  1 12  1  1]\n"
     ]
    },
    {
     "name": "stderr",
     "output_type": "stream",
     "text": [
      "/usr/local/lib/python3.7/site-packages/sklearn/utils/validation.py:761: DataConversionWarning: A column-vector y was passed when a 1d array was expected. Please change the shape of y to (n_samples, ), for example using ravel().\n",
      "  y = column_or_1d(y, warn=True)\n"
     ]
    },
    {
     "data": {
      "text/plain": [
       "[('apartment', True),\n",
       " ('number_of_whole_rooms', False),\n",
       " ('number_of_half_rooms', True),\n",
       " ('floor', False),\n",
       " ('lift', True),\n",
       " ('air_conditioner', True),\n",
       " ('furnish_furnished', True),\n",
       " ('view_garden', True),\n",
       " ('view_panoramic', True),\n",
       " ('view_street', False),\n",
       " ('heating_gas', True),\n",
       " ('heating_wall_heating', True),\n",
       " ('heating_combination', True),\n",
       " ('heating_ceiling', False),\n",
       " ('heating_central_heating', True),\n",
       " ('heating_electric', False),\n",
       " ('heating_floor', True),\n",
       " ('heating_circulating', True),\n",
       " ('heating_district', True),\n",
       " ('district_i', True),\n",
       " ('district_ii', True),\n",
       " ('district_iii', False),\n",
       " ('district_iv', True),\n",
       " ('district_v', True),\n",
       " ('district_vi', True),\n",
       " ('district_vii', False),\n",
       " ('district_viii', False),\n",
       " ('district_ix', False),\n",
       " ('district_x', True),\n",
       " ('district_xi', False),\n",
       " ('district_xii', False),\n",
       " ('district_xiii', False),\n",
       " ('district_xiv', True),\n",
       " ('district_xv', False),\n",
       " ('district_xvi', True),\n",
       " ('district_xvii', False),\n",
       " ('district_xviii', True),\n",
       " ('district_xix', False),\n",
       " ('district_xx', True),\n",
       " ('district_xxi', False),\n",
       " ('district_xxii', True),\n",
       " ('district_xxiii', True)]"
      ]
     },
     "execution_count": 19,
     "metadata": {},
     "output_type": "execute_result"
    }
   ],
   "source": [
    "#Feature extraction\n",
    "#24\n",
    "my_model = LinearRegression()\n",
    "rfe = RFE(my_model, 26)\n",
    "fit = rfe.fit(X, y)\n",
    "\n",
    "print('Num Features:', fit.n_features_)\n",
    "print('Feature Ranking', fit.ranking_)\n",
    "\n",
    "list(zip(features, fit.support_))\n"
   ]
  },
  {
   "cell_type": "code",
   "execution_count": 20,
   "metadata": {},
   "outputs": [
    {
     "name": "stdout",
     "output_type": "stream",
     "text": [
      "Num Features: 27\n",
      "Feature Ranking [ 1 16  1 13  1  1  1  1  1  2  1  1  1 10  1  1  1  1  1  1  1  6  1  1\n",
      "  1  3 12  7  1  5  4  8  1 15  1 14  1  9  1 11  1  1]\n"
     ]
    },
    {
     "name": "stderr",
     "output_type": "stream",
     "text": [
      "/usr/local/lib/python3.7/site-packages/sklearn/utils/validation.py:761: DataConversionWarning: A column-vector y was passed when a 1d array was expected. Please change the shape of y to (n_samples, ), for example using ravel().\n",
      "  y = column_or_1d(y, warn=True)\n"
     ]
    },
    {
     "data": {
      "text/plain": [
       "[('apartment', True),\n",
       " ('number_of_whole_rooms', False),\n",
       " ('number_of_half_rooms', True),\n",
       " ('floor', False),\n",
       " ('lift', True),\n",
       " ('air_conditioner', True),\n",
       " ('furnish_furnished', True),\n",
       " ('view_garden', True),\n",
       " ('view_panoramic', True),\n",
       " ('view_street', False),\n",
       " ('heating_gas', True),\n",
       " ('heating_wall_heating', True),\n",
       " ('heating_combination', True),\n",
       " ('heating_ceiling', False),\n",
       " ('heating_central_heating', True),\n",
       " ('heating_electric', True),\n",
       " ('heating_floor', True),\n",
       " ('heating_circulating', True),\n",
       " ('heating_district', True),\n",
       " ('district_i', True),\n",
       " ('district_ii', True),\n",
       " ('district_iii', False),\n",
       " ('district_iv', True),\n",
       " ('district_v', True),\n",
       " ('district_vi', True),\n",
       " ('district_vii', False),\n",
       " ('district_viii', False),\n",
       " ('district_ix', False),\n",
       " ('district_x', True),\n",
       " ('district_xi', False),\n",
       " ('district_xii', False),\n",
       " ('district_xiii', False),\n",
       " ('district_xiv', True),\n",
       " ('district_xv', False),\n",
       " ('district_xvi', True),\n",
       " ('district_xvii', False),\n",
       " ('district_xviii', True),\n",
       " ('district_xix', False),\n",
       " ('district_xx', True),\n",
       " ('district_xxi', False),\n",
       " ('district_xxii', True),\n",
       " ('district_xxiii', True)]"
      ]
     },
     "execution_count": 20,
     "metadata": {},
     "output_type": "execute_result"
    }
   ],
   "source": [
    "#Feature extraction\n",
    "#24\n",
    "my_model = LinearRegression()\n",
    "rfe = RFE(my_model, 27)\n",
    "fit = rfe.fit(X, y)\n",
    "\n",
    "print('Num Features:', fit.n_features_)\n",
    "print('Feature Ranking', fit.ranking_)\n",
    "\n",
    "list(zip(features, fit.support_))\n"
   ]
  },
  {
   "cell_type": "code",
   "execution_count": 21,
   "metadata": {},
   "outputs": [
    {
     "name": "stdout",
     "output_type": "stream",
     "text": [
      "Num Features: 28\n",
      "Feature Ranking [ 1 15  1 12  1  1  1  1  1  1  1  1  1  9  1  1  1  1  1  1  1  5  1  1\n",
      "  1  2 11  6  1  4  3  7  1 14  1 13  1  8  1 10  1  1]\n"
     ]
    },
    {
     "name": "stderr",
     "output_type": "stream",
     "text": [
      "/usr/local/lib/python3.7/site-packages/sklearn/utils/validation.py:761: DataConversionWarning: A column-vector y was passed when a 1d array was expected. Please change the shape of y to (n_samples, ), for example using ravel().\n",
      "  y = column_or_1d(y, warn=True)\n"
     ]
    },
    {
     "data": {
      "text/plain": [
       "[('apartment', True),\n",
       " ('number_of_whole_rooms', False),\n",
       " ('number_of_half_rooms', True),\n",
       " ('floor', False),\n",
       " ('lift', True),\n",
       " ('air_conditioner', True),\n",
       " ('furnish_furnished', True),\n",
       " ('view_garden', True),\n",
       " ('view_panoramic', True),\n",
       " ('view_street', True),\n",
       " ('heating_gas', True),\n",
       " ('heating_wall_heating', True),\n",
       " ('heating_combination', True),\n",
       " ('heating_ceiling', False),\n",
       " ('heating_central_heating', True),\n",
       " ('heating_electric', True),\n",
       " ('heating_floor', True),\n",
       " ('heating_circulating', True),\n",
       " ('heating_district', True),\n",
       " ('district_i', True),\n",
       " ('district_ii', True),\n",
       " ('district_iii', False),\n",
       " ('district_iv', True),\n",
       " ('district_v', True),\n",
       " ('district_vi', True),\n",
       " ('district_vii', False),\n",
       " ('district_viii', False),\n",
       " ('district_ix', False),\n",
       " ('district_x', True),\n",
       " ('district_xi', False),\n",
       " ('district_xii', False),\n",
       " ('district_xiii', False),\n",
       " ('district_xiv', True),\n",
       " ('district_xv', False),\n",
       " ('district_xvi', True),\n",
       " ('district_xvii', False),\n",
       " ('district_xviii', True),\n",
       " ('district_xix', False),\n",
       " ('district_xx', True),\n",
       " ('district_xxi', False),\n",
       " ('district_xxii', True),\n",
       " ('district_xxiii', True)]"
      ]
     },
     "execution_count": 21,
     "metadata": {},
     "output_type": "execute_result"
    }
   ],
   "source": [
    "#Feature extraction\n",
    "#24\n",
    "my_model = LinearRegression()\n",
    "rfe = RFE(my_model, 28)\n",
    "fit = rfe.fit(X, y)\n",
    "\n",
    "print('Num Features:', fit.n_features_)\n",
    "print('Feature Ranking', fit.ranking_)\n",
    "\n",
    "list(zip(features, fit.support_))\n"
   ]
  },
  {
   "cell_type": "code",
   "execution_count": 22,
   "metadata": {},
   "outputs": [
    {
     "name": "stdout",
     "output_type": "stream",
     "text": [
      "Num Features: 29\n",
      "Feature Ranking [ 1 14  1 11  1  1  1  1  1  1  1  1  1  8  1  1  1  1  1  1  1  4  1  1\n",
      "  1  1 10  5  1  3  2  6  1 13  1 12  1  7  1  9  1  1]\n"
     ]
    },
    {
     "name": "stderr",
     "output_type": "stream",
     "text": [
      "/usr/local/lib/python3.7/site-packages/sklearn/utils/validation.py:761: DataConversionWarning: A column-vector y was passed when a 1d array was expected. Please change the shape of y to (n_samples, ), for example using ravel().\n",
      "  y = column_or_1d(y, warn=True)\n"
     ]
    },
    {
     "data": {
      "text/plain": [
       "[('apartment', True),\n",
       " ('number_of_whole_rooms', False),\n",
       " ('number_of_half_rooms', True),\n",
       " ('floor', False),\n",
       " ('lift', True),\n",
       " ('air_conditioner', True),\n",
       " ('furnish_furnished', True),\n",
       " ('view_garden', True),\n",
       " ('view_panoramic', True),\n",
       " ('view_street', True),\n",
       " ('heating_gas', True),\n",
       " ('heating_wall_heating', True),\n",
       " ('heating_combination', True),\n",
       " ('heating_ceiling', False),\n",
       " ('heating_central_heating', True),\n",
       " ('heating_electric', True),\n",
       " ('heating_floor', True),\n",
       " ('heating_circulating', True),\n",
       " ('heating_district', True),\n",
       " ('district_i', True),\n",
       " ('district_ii', True),\n",
       " ('district_iii', False),\n",
       " ('district_iv', True),\n",
       " ('district_v', True),\n",
       " ('district_vi', True),\n",
       " ('district_vii', True),\n",
       " ('district_viii', False),\n",
       " ('district_ix', False),\n",
       " ('district_x', True),\n",
       " ('district_xi', False),\n",
       " ('district_xii', False),\n",
       " ('district_xiii', False),\n",
       " ('district_xiv', True),\n",
       " ('district_xv', False),\n",
       " ('district_xvi', True),\n",
       " ('district_xvii', False),\n",
       " ('district_xviii', True),\n",
       " ('district_xix', False),\n",
       " ('district_xx', True),\n",
       " ('district_xxi', False),\n",
       " ('district_xxii', True),\n",
       " ('district_xxiii', True)]"
      ]
     },
     "execution_count": 22,
     "metadata": {},
     "output_type": "execute_result"
    }
   ],
   "source": [
    "#Feature extraction\n",
    "#24\n",
    "my_model = LinearRegression()\n",
    "rfe = RFE(my_model, 29)\n",
    "fit = rfe.fit(X, y)\n",
    "\n",
    "print('Num Features:', fit.n_features_)\n",
    "print('Feature Ranking', fit.ranking_)\n",
    "\n",
    "list(zip(features, fit.support_))\n"
   ]
  },
  {
   "cell_type": "code",
   "execution_count": 23,
   "metadata": {},
   "outputs": [
    {
     "name": "stdout",
     "output_type": "stream",
     "text": [
      "Num Features: 30\n",
      "Feature Ranking [ 1 13  1 10  1  1  1  1  1  1  1  1  1  7  1  1  1  1  1  1  1  3  1  1\n",
      "  1  1  9  4  1  2  1  5  1 12  1 11  1  6  1  8  1  1]\n"
     ]
    },
    {
     "name": "stderr",
     "output_type": "stream",
     "text": [
      "/usr/local/lib/python3.7/site-packages/sklearn/utils/validation.py:761: DataConversionWarning: A column-vector y was passed when a 1d array was expected. Please change the shape of y to (n_samples, ), for example using ravel().\n",
      "  y = column_or_1d(y, warn=True)\n"
     ]
    },
    {
     "data": {
      "text/plain": [
       "[('apartment', True),\n",
       " ('number_of_whole_rooms', False),\n",
       " ('number_of_half_rooms', True),\n",
       " ('floor', False),\n",
       " ('lift', True),\n",
       " ('air_conditioner', True),\n",
       " ('furnish_furnished', True),\n",
       " ('view_garden', True),\n",
       " ('view_panoramic', True),\n",
       " ('view_street', True),\n",
       " ('heating_gas', True),\n",
       " ('heating_wall_heating', True),\n",
       " ('heating_combination', True),\n",
       " ('heating_ceiling', False),\n",
       " ('heating_central_heating', True),\n",
       " ('heating_electric', True),\n",
       " ('heating_floor', True),\n",
       " ('heating_circulating', True),\n",
       " ('heating_district', True),\n",
       " ('district_i', True),\n",
       " ('district_ii', True),\n",
       " ('district_iii', False),\n",
       " ('district_iv', True),\n",
       " ('district_v', True),\n",
       " ('district_vi', True),\n",
       " ('district_vii', True),\n",
       " ('district_viii', False),\n",
       " ('district_ix', False),\n",
       " ('district_x', True),\n",
       " ('district_xi', False),\n",
       " ('district_xii', True),\n",
       " ('district_xiii', False),\n",
       " ('district_xiv', True),\n",
       " ('district_xv', False),\n",
       " ('district_xvi', True),\n",
       " ('district_xvii', False),\n",
       " ('district_xviii', True),\n",
       " ('district_xix', False),\n",
       " ('district_xx', True),\n",
       " ('district_xxi', False),\n",
       " ('district_xxii', True),\n",
       " ('district_xxiii', True)]"
      ]
     },
     "execution_count": 23,
     "metadata": {},
     "output_type": "execute_result"
    }
   ],
   "source": [
    "#Feature extraction\n",
    "#24\n",
    "my_model = LinearRegression()\n",
    "rfe = RFE(my_model, 30)\n",
    "fit = rfe.fit(X, y)\n",
    "\n",
    "print('Num Features:', fit.n_features_)\n",
    "print('Feature Ranking', fit.ranking_)\n",
    "\n",
    "list(zip(features, fit.support_))\n"
   ]
  },
  {
   "cell_type": "code",
   "execution_count": 24,
   "metadata": {},
   "outputs": [
    {
     "name": "stdout",
     "output_type": "stream",
     "text": [
      "Num Features: 31\n",
      "Feature Ranking [ 1 12  1  9  1  1  1  1  1  1  1  1  1  6  1  1  1  1  1  1  1  2  1  1\n",
      "  1  1  8  3  1  1  1  4  1 11  1 10  1  5  1  7  1  1]\n"
     ]
    },
    {
     "name": "stderr",
     "output_type": "stream",
     "text": [
      "/usr/local/lib/python3.7/site-packages/sklearn/utils/validation.py:761: DataConversionWarning: A column-vector y was passed when a 1d array was expected. Please change the shape of y to (n_samples, ), for example using ravel().\n",
      "  y = column_or_1d(y, warn=True)\n"
     ]
    },
    {
     "data": {
      "text/plain": [
       "[('apartment', True),\n",
       " ('number_of_whole_rooms', False),\n",
       " ('number_of_half_rooms', True),\n",
       " ('floor', False),\n",
       " ('lift', True),\n",
       " ('air_conditioner', True),\n",
       " ('furnish_furnished', True),\n",
       " ('view_garden', True),\n",
       " ('view_panoramic', True),\n",
       " ('view_street', True),\n",
       " ('heating_gas', True),\n",
       " ('heating_wall_heating', True),\n",
       " ('heating_combination', True),\n",
       " ('heating_ceiling', False),\n",
       " ('heating_central_heating', True),\n",
       " ('heating_electric', True),\n",
       " ('heating_floor', True),\n",
       " ('heating_circulating', True),\n",
       " ('heating_district', True),\n",
       " ('district_i', True),\n",
       " ('district_ii', True),\n",
       " ('district_iii', False),\n",
       " ('district_iv', True),\n",
       " ('district_v', True),\n",
       " ('district_vi', True),\n",
       " ('district_vii', True),\n",
       " ('district_viii', False),\n",
       " ('district_ix', False),\n",
       " ('district_x', True),\n",
       " ('district_xi', True),\n",
       " ('district_xii', True),\n",
       " ('district_xiii', False),\n",
       " ('district_xiv', True),\n",
       " ('district_xv', False),\n",
       " ('district_xvi', True),\n",
       " ('district_xvii', False),\n",
       " ('district_xviii', True),\n",
       " ('district_xix', False),\n",
       " ('district_xx', True),\n",
       " ('district_xxi', False),\n",
       " ('district_xxii', True),\n",
       " ('district_xxiii', True)]"
      ]
     },
     "execution_count": 24,
     "metadata": {},
     "output_type": "execute_result"
    }
   ],
   "source": [
    "#Feature extraction\n",
    "#24\n",
    "my_model = LinearRegression()\n",
    "rfe = RFE(my_model, 31)\n",
    "fit = rfe.fit(X, y)\n",
    "\n",
    "print('Num Features:', fit.n_features_)\n",
    "print('Feature Ranking', fit.ranking_)\n",
    "\n",
    "list(zip(features, fit.support_))\n"
   ]
  },
  {
   "cell_type": "code",
   "execution_count": null,
   "metadata": {},
   "outputs": [],
   "source": []
  }
 ],
 "metadata": {
  "kernelspec": {
   "display_name": "Python 3",
   "language": "python",
   "name": "python3"
  },
  "language_info": {
   "codemirror_mode": {
    "name": "ipython",
    "version": 3
   },
   "file_extension": ".py",
   "mimetype": "text/x-python",
   "name": "python",
   "nbconvert_exporter": "python",
   "pygments_lexer": "ipython3",
   "version": "3.7.0"
  }
 },
 "nbformat": 4,
 "nbformat_minor": 2
}
