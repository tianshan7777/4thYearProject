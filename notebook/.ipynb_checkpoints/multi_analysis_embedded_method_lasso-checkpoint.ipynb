{
 "cells": [
  {
   "cell_type": "code",
   "execution_count": 2,
   "metadata": {},
   "outputs": [],
   "source": [
    "#Feature selected according to lasso\n",
    "import pandas as pd\n",
    "from sklearn.model_selection import KFold\n",
    "#OLS\n",
    "from sklearn.linear_model import LinearRegression\n",
    "import numpy as np\n",
    "from IPython.display import HTML, display\n",
    "import matplotlib.pyplot as plt\n",
    "%matplotlib inline\n"
   ]
  },
  {
   "cell_type": "code",
   "execution_count": 3,
   "metadata": {},
   "outputs": [
    {
     "name": "stderr",
     "output_type": "stream",
     "text": [
      "/usr/local/lib/python3.7/site-packages/IPython/core/interactiveshell.py:3020: DtypeWarning: Columns (39,50,108) have mixed types. Specify dtype option on import or set low_memory=False.\n",
      "  interactivity=interactivity, compiler=compiler, result=result)\n"
     ]
    }
   ],
   "source": [
    "#Load data\n",
    "data = pd.read_csv('rent_clean.csv')\n",
    "test = data[['price_per_sqm','number_of_whole_rooms', 'floor', 'number_of_half_rooms', 'furnish_furnished', 'view_garden', 'view_panoramic', 'view_street', 'balcony', 'lift', 'air_conditioner', 'heating_central_heating', 'heating_electric', 'heating_circulating', 'heating_district', 'available_immediately']]\n",
    "test = test.dropna()\n"
   ]
  },
  {
   "cell_type": "code",
   "execution_count": 4,
   "metadata": {},
   "outputs": [
    {
     "name": "stdout",
     "output_type": "stream",
     "text": [
      "R Square: 0.19165918470570392 \n",
      "\n",
      "Adjusted R Square: 0.18264423137528418 \n",
      "\n"
     ]
    },
    {
     "name": "stderr",
     "output_type": "stream",
     "text": [
      "/usr/local/lib/python3.7/site-packages/sklearn/linear_model/base.py:485: RuntimeWarning: internal gelsd driver lwork query error, required iwork dimension not returned. This is likely the result of LAPACK bug 0038, fixed in LAPACK 3.2.2 (released July 21, 2010). Falling back to 'gelss' driver.\n",
      "  linalg.lstsq(X, y)\n"
     ]
    }
   ],
   "source": [
    "X = test[['number_of_whole_rooms', 'floor', 'number_of_half_rooms', 'furnish_furnished', 'view_garden', 'view_panoramic', 'view_street', 'balcony', 'lift', 'air_conditioner', 'heating_central_heating', 'heating_electric', 'heating_circulating', 'heating_district', 'available_immediately']]\n",
    "y = test[['price_per_sqm']]\n",
    "\n",
    "#10 fold\n",
    "scores = []\n",
    "cv = KFold(n_splits = 10, random_state = 42, shuffle = False)\n",
    "for train_index, test_index in cv.split(X):\n",
    "    #print('Train Index:', train_index, '\\n')\n",
    "    #print('Test Index:', test_index)\n",
    "    \n",
    "    X_train, X_test, y_train, y_test = X.iloc[train_index.tolist()], X.iloc[test_index], y.iloc[train_index], y.iloc[test_index]\n",
    "    my_model = LinearRegression().fit(X_train, y_train)\n",
    "    scores.append(my_model.score(X_test, y_test))\n",
    "\n",
    "r_square = np.mean(scores)\n",
    "adj_r = 1-(1-r_square)*(len(y)-1)/(len(y)-X.shape[1]-1)\n",
    "\n",
    "print('R Square:', r_square, '\\n')\n",
    "print('Adjusted R Square:', adj_r, '\\n')\n"
   ]
  },
  {
   "cell_type": "code",
   "execution_count": null,
   "metadata": {},
   "outputs": [],
   "source": []
  }
 ],
 "metadata": {
  "kernelspec": {
   "display_name": "Python 3",
   "language": "python",
   "name": "python3"
  },
  "language_info": {
   "codemirror_mode": {
    "name": "ipython",
    "version": 3
   },
   "file_extension": ".py",
   "mimetype": "text/x-python",
   "name": "python",
   "nbconvert_exporter": "python",
   "pygments_lexer": "ipython3",
   "version": "3.7.0"
  }
 },
 "nbformat": 4,
 "nbformat_minor": 2
}
