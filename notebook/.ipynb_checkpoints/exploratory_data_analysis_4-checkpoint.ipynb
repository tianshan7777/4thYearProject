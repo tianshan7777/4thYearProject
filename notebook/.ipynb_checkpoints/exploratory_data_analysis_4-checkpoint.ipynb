{
 "cells": [
  {
   "cell_type": "code",
   "execution_count": 1,
   "metadata": {},
   "outputs": [],
   "source": [
    "import pandas as pd\n",
    "import numpy as np\n",
    "import matplotlib.pyplot as plt\n",
    "import seaborn as sns\n"
   ]
  },
  {
   "cell_type": "code",
   "execution_count": 2,
   "metadata": {},
   "outputs": [
    {
     "name": "stderr",
     "output_type": "stream",
     "text": [
      "/usr/local/lib/python3.7/site-packages/IPython/core/interactiveshell.py:3020: DtypeWarning: Columns (39,50,108) have mixed types. Specify dtype option on import or set low_memory=False.\n",
      "  interactivity=interactivity, compiler=compiler, result=result)\n"
     ]
    }
   ],
   "source": [
    "#Outliers are removed already\n",
    "data = pd.read_csv('rent_clean.csv')\n"
   ]
  },
  {
   "cell_type": "code",
   "execution_count": null,
   "metadata": {},
   "outputs": [],
   "source": [
    "snsplot = sns.pairplot(data[['shop_art_music_hobbies','shop_beauty','shop_clothing_shoes_accessories','shop_convenience_shop','shop_department_store','shop_discount_store_charity','shop_food_beverages','shop_health','shop_laundry','shop_mall','shop_stationery_gifts_books_newspapers','shop_supermarket','shop_travel_agency', 'amenity_sustenance','amenity_school','amenity_education','amenity_financial','amenity_healthcare','amenity_arts','amenity_entertainment','amenity_religion','amenity_police','amenity_government','amenity_vending_machine','amenity_transportation_bicycle','amenity_transportation_car','amenity_parking','amenity_coworking_space','amenity_recycling']])\n",
    "snsplot.savefig('shop-amenity.png')\n"
   ]
  },
  {
   "cell_type": "code",
   "execution_count": null,
   "metadata": {},
   "outputs": [],
   "source": []
  }
 ],
 "metadata": {
  "kernelspec": {
   "display_name": "Python 3",
   "language": "python",
   "name": "python3"
  },
  "language_info": {
   "codemirror_mode": {
    "name": "ipython",
    "version": 3
   },
   "file_extension": ".py",
   "mimetype": "text/x-python",
   "name": "python",
   "nbconvert_exporter": "python",
   "pygments_lexer": "ipython3",
   "version": "3.7.0"
  }
 },
 "nbformat": 4,
 "nbformat_minor": 2
}
