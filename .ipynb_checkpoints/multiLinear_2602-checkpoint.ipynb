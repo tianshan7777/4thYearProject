{
 "cells": [
  {
   "cell_type": "code",
   "execution_count": 139,
   "metadata": {},
   "outputs": [],
   "source": [
    "import pandas as pd\n",
    "import numpy as np\n",
    "import matplotlib.pyplot as plt\n",
    "import seaborn as sns\n",
    "\n",
    "%matplotlib inline"
   ]
  },
  {
   "cell_type": "code",
   "execution_count": 140,
   "metadata": {},
   "outputs": [],
   "source": [
    "#input data\n",
    "albert_10min = pd.read_csv('./Data/10min/albert_10min.csv')\n",
    "realRA_10min = pd.read_csv('./Data/10min/real_RA_10min.csv')\n",
    "realRH_10min = pd.read_csv('./Data/10min/real_RH_10min.csv')"
   ]
  },
  {
   "cell_type": "code",
   "execution_count": 141,
   "metadata": {},
   "outputs": [],
   "source": [
    "#Select columns\n",
    "albert_price = albert_10min['price_per_sqm']\n",
    "realRA_price = realRA_10min['price_per_sqm']\n",
    "realRH_price = realRH_10min['price_per_sqm']"
   ]
  },
  {
   "cell_type": "code",
   "execution_count": 142,
   "metadata": {},
   "outputs": [
    {
     "data": {
      "text/plain": [
       "count    3375.000000\n",
       "mean       11.209605\n",
       "std         4.127329\n",
       "min         0.000000\n",
       "25%         8.553846\n",
       "50%        10.425000\n",
       "75%        12.682569\n",
       "max        79.528571\n",
       "Name: price_per_sqm, dtype: float64"
      ]
     },
     "execution_count": 142,
     "metadata": {},
     "output_type": "execute_result"
    }
   ],
   "source": [
    "albert_price.describe()"
   ]
  },
  {
   "cell_type": "code",
   "execution_count": 143,
   "metadata": {},
   "outputs": [
    {
     "data": {
      "text/plain": [
       "count     7839.000000\n",
       "mean        20.845701\n",
       "std        326.981924\n",
       "min          0.172973\n",
       "25%          9.000000\n",
       "50%         10.996364\n",
       "75%         13.622857\n",
       "max      15200.000000\n",
       "Name: price_per_sqm, dtype: float64"
      ]
     },
     "execution_count": 143,
     "metadata": {},
     "output_type": "execute_result"
    }
   ],
   "source": [
    "realRA_price.describe()"
   ]
  },
  {
   "cell_type": "code",
   "execution_count": 144,
   "metadata": {},
   "outputs": [
    {
     "data": {
      "text/plain": [
       "count    557.000000\n",
       "mean       9.764659\n",
       "std        5.102714\n",
       "min        1.440000\n",
       "25%        6.895147\n",
       "50%        9.272783\n",
       "75%       11.525612\n",
       "max       89.600000\n",
       "Name: price_per_sqm, dtype: float64"
      ]
     },
     "execution_count": 144,
     "metadata": {},
     "output_type": "execute_result"
    }
   ],
   "source": [
    "realRH_price.describe()"
   ]
  },
  {
   "cell_type": "code",
   "execution_count": null,
   "metadata": {},
   "outputs": [],
   "source": [
    "plt.figure(figsize=(10,10))\n",
    "plt.hist(albert_price, bins=200, alpha=0.5, label='alberlet')\n",
    "plt.hist(realRA_price, bins=200, alpha=0.5, label='ingatlan_RA')\n",
    "plt.hist(realRH_price, bins=200, alpha=0.5, label='ingatlan_RH')\n",
    "plt.legend(loc='upper right')\n",
    "plt.show()"
   ]
  },
  {
   "cell_type": "code",
   "execution_count": 146,
   "metadata": {},
   "outputs": [
    {
     "name": "stdout",
     "output_type": "stream",
     "text": [
      "2.387083500000001\n",
      "18.8317835\n",
      "2.0657145000000003\n",
      "20.557142499999998\n",
      "-0.05055050000000172\n",
      "18.471309500000004\n"
     ]
    }
   ],
   "source": [
    "#outlier: IQR=Q3−Q1; either more than 1.5IQR above the upper quartile or below the lower quartile \n",
    "\n",
    "iqr_albert = 12.665021 - 8.553846\n",
    "lower_albert = 8.553846 - 1.5*iqr_albert\n",
    "upper_albert = 12.665021 + 1.5*iqr_albert\n",
    "iqr_realRA = 13.622857 - 9\n",
    "lower_realRA = 9 - 1.5*iqr_realRA\n",
    "upper_realRA = 13.622857 + 1.5*iqr_realRA\n",
    "iqr_realRH = 11.525612 - 6.895147\n",
    "lower_realRH = 6.895147 - 1.5*iqr_realRH\n",
    "upper_realRH = 11.525612 + 1.5*iqr_realRH\n",
    "\n",
    "print(lower_albert)\n",
    "print(upper_albert)\n",
    "print(lower_realRA)\n",
    "print(upper_realRA)\n",
    "print(lower_realRH)\n",
    "print(upper_realRH)\n",
    "\n",
    "#drop outliers\n",
    "#realRA: 15200,13714,13241,10171,8784,8000,924,480,128, 64, 54 euros\n",
    "#albert: 79, 55, 46 euros\n",
    "#realRH: 89 euros\n",
    "realRA_price = realRA_price.drop(2423)\n",
    "realRA_price = realRA_price.drop(3673)\n",
    "realRA_price = realRA_price.drop(4219)\n",
    "realRA_price = realRA_price.drop(2628)\n",
    "realRA_price = realRA_price.drop(2441)\n",
    "realRA_price = realRA_price.drop(2428)\n",
    "realRA_price = realRA_price.drop(7224)\n",
    "realRA_price = realRA_price.drop(3321)\n",
    "realRA_price = realRA_price.drop(3761)\n",
    "realRA_price = realRA_price.drop(6057)\n",
    "realRA_price = realRA_price.drop(5936)\n",
    "\n",
    "albert_price = albert_price.drop(2201)\n",
    "albert_price = albert_price.drop(927)\n",
    "albert_price = albert_price.drop(2925)\n",
    "\n",
    "realRH_price = realRH_price.drop(296)\n"
   ]
  },
  {
   "cell_type": "code",
   "execution_count": 147,
   "metadata": {},
   "outputs": [
    {
     "data": {
      "image/png": "[encoded data removed]",
      "text/plain": [
       "<Figure size 720x720 with 1 Axes>"
      ]
     },
     "metadata": {
      "needs_background": "light"
     },
     "output_type": "display_data"
    }
   ],
   "source": [
    "price = albert_price.append(realRA_price, ignore_index = True)\n",
    "price = price.append(realRH_price, ignore_index = True)\n",
    "\n",
    "plt.figure(figsize=(10,10))\n",
    "plt.hist(price, bins=300, alpha=0.5)\n",
    "plt.show()\n"
   ]
  },
  {
   "cell_type": "code",
   "execution_count": 148,
   "metadata": {},
   "outputs": [
    {
     "data": {
      "image/png": "[encoded data removed]",
      "text/plain": [
       "<Figure size 720x720 with 1 Axes>"
      ]
     },
     "metadata": {
      "needs_background": "light"
     },
     "output_type": "display_data"
    }
   ],
   "source": [
    "albert_district = albert_10min['district']\n",
    "realRA_district = realRA_10min['district']\n",
    "realRH_district = realRH_10min['district']\n",
    "\n",
    "district = albert_district.append(realRA_district, ignore_index = True)\n",
    "district = district.append(realRH_district, ignore_index = True)\n",
    "\n",
    "plt.figure(figsize=(10,10))\n",
    "plt.hist(district, bins=23, alpha=0.5)\n",
    "plt.show()"
   ]
  },
  {
   "cell_type": "code",
   "execution_count": null,
   "metadata": {},
   "outputs": [],
   "source": [
    "sns.pairplot(albert_10min[['shop_art_music_hobbies','shop_beauty','shop_clothing_shoes_accessories','shop_convenience_shop']].dropna(how = 'any', axis = 0))\n",
    "\n"
   ]
  },
  {
   "cell_type": "code",
   "execution_count": null,
   "metadata": {},
   "outputs": [],
   "source": []
  }
 ],
 "metadata": {
  "kernelspec": {
   "display_name": "Python 3",
   "language": "python",
   "name": "python3"
  },
  "language_info": {
   "codemirror_mode": {
    "name": "ipython",
    "version": 3
   },
   "file_extension": ".py",
   "mimetype": "text/x-python",
   "name": "python",
   "nbconvert_exporter": "python",
   "pygments_lexer": "ipython3",
   "version": "3.7.0"
  }
 },
 "nbformat": 4,
 "nbformat_minor": 2
}
